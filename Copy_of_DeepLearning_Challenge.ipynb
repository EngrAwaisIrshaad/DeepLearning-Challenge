{
  "nbformat": 4,
  "nbformat_minor": 0,
  "metadata": {
    "colab": {
      "name": "Copy of DeepLearning-Challenge.ipynb",
      "provenance": [],
      "collapsed_sections": []
    },
    "kernelspec": {
      "name": "python3",
      "display_name": "Python 3"
    },
    "language_info": {
      "name": "python"
    }
  },
  "cells": [
    {
      "cell_type": "code",
      "execution_count": 29,
      "metadata": {
        "id": "jWQOKO3zQVCr"
      },
      "outputs": [],
      "source": [
        ""
      ]
    },
    {
      "cell_type": "code",
      "execution_count": 30,
      "metadata": {
        "id": "J5lMtoAIW36P"
      },
      "outputs": [],
      "source": [
        "#Importing all the necessary libraries\n",
        "import pandas as pd\n",
        "import numpy as np\n",
        "import seaborn as sns\n",
        "import matplotlib.pyplot as plt\n",
        "from sklearn.preprocessing import normalize\n",
        "\n",
        "from sklearn.preprocessing import LabelEncoder\n",
        "from sklearn.model_selection import train_test_split\n",
        "\n",
        "from keras.models import Sequential\n",
        "from keras.layers import Dense\n",
        "\n",
        "from sklearn import metrics   \n",
        "\n",
        "from tensorflow.keras.layers import Dropout\n",
        "import tensorflow as tf"
      ]
    },
    {
      "cell_type": "code",
      "source": [
        "#Complete description of the provided dataset\n"
      ],
      "metadata": {
        "id": "82cDgqLPXSZR"
      },
      "execution_count": 31,
      "outputs": []
    },
    {
      "cell_type": "markdown",
      "source": [
        "### **Dataset Description**\n",
        "*   A1 - Number of times pregnant\n",
        "*   A2 - Plasma glucose concentration a 2 hours in an\n",
        "oral glucose tolerance test\n",
        "*   A3 - Diastolic blood pressure (mm Hg)\n",
        "*   A4 - Triceps skin fold thickness (mm)\n",
        "*   A5 - 2-Hour serum insulin (mu U/ml)\n",
        "*   A6 - Body mass index (weight in kg/(height in m)^2)\n",
        "*   A7 - Diabetes pedigree function\n",
        "*   A8 - Age (years)\n",
        "\n"
      ],
      "metadata": {
        "id": "_KKo36aTnM2f"
      }
    },
    {
      "cell_type": "code",
      "source": [
        "#Import training data file\n"
      ],
      "metadata": {
        "id": "bqtUH2XZXmIA"
      },
      "execution_count": 32,
      "outputs": []
    },
    {
      "cell_type": "code",
      "source": [
        "data = pd.read_csv('/content/train.csv')\n",
        "data"
      ],
      "metadata": {
        "colab": {
          "base_uri": "https://localhost:8080/",
          "height": 424
        },
        "id": "dXhbKLxjX8h-",
        "outputId": "67577220-fb47-4c26-b778-00de0d6c8823"
      },
      "execution_count": 33,
      "outputs": [
        {
          "output_type": "execute_result",
          "data": {
            "text/html": [
              "\n",
              "  <div id=\"df-3aa2663a-bbca-45ea-8090-bb60cc0a3c5b\">\n",
              "    <div class=\"colab-df-container\">\n",
              "      <div>\n",
              "<style scoped>\n",
              "    .dataframe tbody tr th:only-of-type {\n",
              "        vertical-align: middle;\n",
              "    }\n",
              "\n",
              "    .dataframe tbody tr th {\n",
              "        vertical-align: top;\n",
              "    }\n",
              "\n",
              "    .dataframe thead th {\n",
              "        text-align: right;\n",
              "    }\n",
              "</style>\n",
              "<table border=\"1\" class=\"dataframe\">\n",
              "  <thead>\n",
              "    <tr style=\"text-align: right;\">\n",
              "      <th></th>\n",
              "      <th>Id</th>\n",
              "      <th>A1</th>\n",
              "      <th>A2</th>\n",
              "      <th>A3</th>\n",
              "      <th>A4</th>\n",
              "      <th>A5</th>\n",
              "      <th>A6</th>\n",
              "      <th>A7</th>\n",
              "      <th>A8</th>\n",
              "      <th>Class</th>\n",
              "    </tr>\n",
              "  </thead>\n",
              "  <tbody>\n",
              "    <tr>\n",
              "      <th>0</th>\n",
              "      <td>1</td>\n",
              "      <td>6</td>\n",
              "      <td>148</td>\n",
              "      <td>72</td>\n",
              "      <td>35</td>\n",
              "      <td>0</td>\n",
              "      <td>33.6</td>\n",
              "      <td>0.627</td>\n",
              "      <td>50</td>\n",
              "      <td>1</td>\n",
              "    </tr>\n",
              "    <tr>\n",
              "      <th>1</th>\n",
              "      <td>2</td>\n",
              "      <td>1</td>\n",
              "      <td>85</td>\n",
              "      <td>66</td>\n",
              "      <td>29</td>\n",
              "      <td>0</td>\n",
              "      <td>26.6</td>\n",
              "      <td>0.351</td>\n",
              "      <td>31</td>\n",
              "      <td>0</td>\n",
              "    </tr>\n",
              "    <tr>\n",
              "      <th>2</th>\n",
              "      <td>3</td>\n",
              "      <td>8</td>\n",
              "      <td>183</td>\n",
              "      <td>64</td>\n",
              "      <td>0</td>\n",
              "      <td>0</td>\n",
              "      <td>23.3</td>\n",
              "      <td>0.672</td>\n",
              "      <td>32</td>\n",
              "      <td>1</td>\n",
              "    </tr>\n",
              "    <tr>\n",
              "      <th>3</th>\n",
              "      <td>4</td>\n",
              "      <td>1</td>\n",
              "      <td>89</td>\n",
              "      <td>66</td>\n",
              "      <td>23</td>\n",
              "      <td>94</td>\n",
              "      <td>28.1</td>\n",
              "      <td>0.167</td>\n",
              "      <td>21</td>\n",
              "      <td>0</td>\n",
              "    </tr>\n",
              "    <tr>\n",
              "      <th>4</th>\n",
              "      <td>5</td>\n",
              "      <td>0</td>\n",
              "      <td>137</td>\n",
              "      <td>40</td>\n",
              "      <td>35</td>\n",
              "      <td>168</td>\n",
              "      <td>43.1</td>\n",
              "      <td>2.288</td>\n",
              "      <td>33</td>\n",
              "      <td>1</td>\n",
              "    </tr>\n",
              "    <tr>\n",
              "      <th>...</th>\n",
              "      <td>...</td>\n",
              "      <td>...</td>\n",
              "      <td>...</td>\n",
              "      <td>...</td>\n",
              "      <td>...</td>\n",
              "      <td>...</td>\n",
              "      <td>...</td>\n",
              "      <td>...</td>\n",
              "      <td>...</td>\n",
              "      <td>...</td>\n",
              "    </tr>\n",
              "    <tr>\n",
              "      <th>663</th>\n",
              "      <td>664</td>\n",
              "      <td>9</td>\n",
              "      <td>145</td>\n",
              "      <td>80</td>\n",
              "      <td>46</td>\n",
              "      <td>130</td>\n",
              "      <td>37.9</td>\n",
              "      <td>0.637</td>\n",
              "      <td>40</td>\n",
              "      <td>1</td>\n",
              "    </tr>\n",
              "    <tr>\n",
              "      <th>664</th>\n",
              "      <td>665</td>\n",
              "      <td>6</td>\n",
              "      <td>115</td>\n",
              "      <td>60</td>\n",
              "      <td>39</td>\n",
              "      <td>0</td>\n",
              "      <td>33.7</td>\n",
              "      <td>0.245</td>\n",
              "      <td>40</td>\n",
              "      <td>1</td>\n",
              "    </tr>\n",
              "    <tr>\n",
              "      <th>665</th>\n",
              "      <td>666</td>\n",
              "      <td>1</td>\n",
              "      <td>112</td>\n",
              "      <td>80</td>\n",
              "      <td>45</td>\n",
              "      <td>132</td>\n",
              "      <td>34.8</td>\n",
              "      <td>0.217</td>\n",
              "      <td>24</td>\n",
              "      <td>0</td>\n",
              "    </tr>\n",
              "    <tr>\n",
              "      <th>666</th>\n",
              "      <td>667</td>\n",
              "      <td>4</td>\n",
              "      <td>145</td>\n",
              "      <td>82</td>\n",
              "      <td>18</td>\n",
              "      <td>0</td>\n",
              "      <td>32.5</td>\n",
              "      <td>0.235</td>\n",
              "      <td>70</td>\n",
              "      <td>1</td>\n",
              "    </tr>\n",
              "    <tr>\n",
              "      <th>667</th>\n",
              "      <td>668</td>\n",
              "      <td>10</td>\n",
              "      <td>111</td>\n",
              "      <td>70</td>\n",
              "      <td>27</td>\n",
              "      <td>0</td>\n",
              "      <td>27.5</td>\n",
              "      <td>0.141</td>\n",
              "      <td>40</td>\n",
              "      <td>1</td>\n",
              "    </tr>\n",
              "  </tbody>\n",
              "</table>\n",
              "<p>668 rows × 10 columns</p>\n",
              "</div>\n",
              "      <button class=\"colab-df-convert\" onclick=\"convertToInteractive('df-3aa2663a-bbca-45ea-8090-bb60cc0a3c5b')\"\n",
              "              title=\"Convert this dataframe to an interactive table.\"\n",
              "              style=\"display:none;\">\n",
              "        \n",
              "  <svg xmlns=\"http://www.w3.org/2000/svg\" height=\"24px\"viewBox=\"0 0 24 24\"\n",
              "       width=\"24px\">\n",
              "    <path d=\"M0 0h24v24H0V0z\" fill=\"none\"/>\n",
              "    <path d=\"M18.56 5.44l.94 2.06.94-2.06 2.06-.94-2.06-.94-.94-2.06-.94 2.06-2.06.94zm-11 1L8.5 8.5l.94-2.06 2.06-.94-2.06-.94L8.5 2.5l-.94 2.06-2.06.94zm10 10l.94 2.06.94-2.06 2.06-.94-2.06-.94-.94-2.06-.94 2.06-2.06.94z\"/><path d=\"M17.41 7.96l-1.37-1.37c-.4-.4-.92-.59-1.43-.59-.52 0-1.04.2-1.43.59L10.3 9.45l-7.72 7.72c-.78.78-.78 2.05 0 2.83L4 21.41c.39.39.9.59 1.41.59.51 0 1.02-.2 1.41-.59l7.78-7.78 2.81-2.81c.8-.78.8-2.07 0-2.86zM5.41 20L4 18.59l7.72-7.72 1.47 1.35L5.41 20z\"/>\n",
              "  </svg>\n",
              "      </button>\n",
              "      \n",
              "  <style>\n",
              "    .colab-df-container {\n",
              "      display:flex;\n",
              "      flex-wrap:wrap;\n",
              "      gap: 12px;\n",
              "    }\n",
              "\n",
              "    .colab-df-convert {\n",
              "      background-color: #E8F0FE;\n",
              "      border: none;\n",
              "      border-radius: 50%;\n",
              "      cursor: pointer;\n",
              "      display: none;\n",
              "      fill: #1967D2;\n",
              "      height: 32px;\n",
              "      padding: 0 0 0 0;\n",
              "      width: 32px;\n",
              "    }\n",
              "\n",
              "    .colab-df-convert:hover {\n",
              "      background-color: #E2EBFA;\n",
              "      box-shadow: 0px 1px 2px rgba(60, 64, 67, 0.3), 0px 1px 3px 1px rgba(60, 64, 67, 0.15);\n",
              "      fill: #174EA6;\n",
              "    }\n",
              "\n",
              "    [theme=dark] .colab-df-convert {\n",
              "      background-color: #3B4455;\n",
              "      fill: #D2E3FC;\n",
              "    }\n",
              "\n",
              "    [theme=dark] .colab-df-convert:hover {\n",
              "      background-color: #434B5C;\n",
              "      box-shadow: 0px 1px 3px 1px rgba(0, 0, 0, 0.15);\n",
              "      filter: drop-shadow(0px 1px 2px rgba(0, 0, 0, 0.3));\n",
              "      fill: #FFFFFF;\n",
              "    }\n",
              "  </style>\n",
              "\n",
              "      <script>\n",
              "        const buttonEl =\n",
              "          document.querySelector('#df-3aa2663a-bbca-45ea-8090-bb60cc0a3c5b button.colab-df-convert');\n",
              "        buttonEl.style.display =\n",
              "          google.colab.kernel.accessAllowed ? 'block' : 'none';\n",
              "\n",
              "        async function convertToInteractive(key) {\n",
              "          const element = document.querySelector('#df-3aa2663a-bbca-45ea-8090-bb60cc0a3c5b');\n",
              "          const dataTable =\n",
              "            await google.colab.kernel.invokeFunction('convertToInteractive',\n",
              "                                                     [key], {});\n",
              "          if (!dataTable) return;\n",
              "\n",
              "          const docLinkHtml = 'Like what you see? Visit the ' +\n",
              "            '<a target=\"_blank\" href=https://colab.research.google.com/notebooks/data_table.ipynb>data table notebook</a>'\n",
              "            + ' to learn more about interactive tables.';\n",
              "          element.innerHTML = '';\n",
              "          dataTable['output_type'] = 'display_data';\n",
              "          await google.colab.output.renderOutput(dataTable, element);\n",
              "          const docLink = document.createElement('div');\n",
              "          docLink.innerHTML = docLinkHtml;\n",
              "          element.appendChild(docLink);\n",
              "        }\n",
              "      </script>\n",
              "    </div>\n",
              "  </div>\n",
              "  "
            ],
            "text/plain": [
              "      Id  A1   A2  A3  A4   A5    A6     A7  A8  Class\n",
              "0      1   6  148  72  35    0  33.6  0.627  50      1\n",
              "1      2   1   85  66  29    0  26.6  0.351  31      0\n",
              "2      3   8  183  64   0    0  23.3  0.672  32      1\n",
              "3      4   1   89  66  23   94  28.1  0.167  21      0\n",
              "4      5   0  137  40  35  168  43.1  2.288  33      1\n",
              "..   ...  ..  ...  ..  ..  ...   ...    ...  ..    ...\n",
              "663  664   9  145  80  46  130  37.9  0.637  40      1\n",
              "664  665   6  115  60  39    0  33.7  0.245  40      1\n",
              "665  666   1  112  80  45  132  34.8  0.217  24      0\n",
              "666  667   4  145  82  18    0  32.5  0.235  70      1\n",
              "667  668  10  111  70  27    0  27.5  0.141  40      1\n",
              "\n",
              "[668 rows x 10 columns]"
            ]
          },
          "metadata": {},
          "execution_count": 33
        }
      ]
    },
    {
      "cell_type": "code",
      "source": [
        "sns.countplot(x=data['Class'])"
      ],
      "metadata": {
        "colab": {
          "base_uri": "https://localhost:8080/",
          "height": 296
        },
        "id": "QGNqXyygZc7t",
        "outputId": "77421c5e-9719-42d2-9044-f7a186a598b6"
      },
      "execution_count": 34,
      "outputs": [
        {
          "output_type": "execute_result",
          "data": {
            "text/plain": [
              "<matplotlib.axes._subplots.AxesSubplot at 0x7ff34e8aae10>"
            ]
          },
          "metadata": {},
          "execution_count": 34
        },
        {
          "output_type": "display_data",
          "data": {
            "image/png": "[encoded data removed]",
            "text/plain": [
              "<Figure size 432x288 with 1 Axes>"
            ]
          },
          "metadata": {
            "needs_background": "light"
          }
        }
      ]
    },
    {
      "cell_type": "markdown",
      "source": [
        "# **Splitting the datase**"
      ],
      "metadata": {
        "id": "VoI1GR7OZbci"
      }
    },
    {
      "cell_type": "code",
      "source": [
        "# extract labels\n",
        "y = data['Class']\n",
        "y = pd.Series(y)\n",
        "print(y.value_counts())\n",
        "\n",
        "# remove unnecessary columns\n",
        "X = data.drop(['Id', 'Class'], axis=1)\n",
        "print(X.info())\n",
        "X.head()"
      ],
      "metadata": {
        "colab": {
          "base_uri": "https://localhost:8080/",
          "height": 536
        },
        "id": "jVwTlQb_bFVT",
        "outputId": "388756f5-f6f1-413b-cd00-3878e505cd15"
      },
      "execution_count": 35,
      "outputs": [
        {
          "output_type": "stream",
          "name": "stdout",
          "text": [
            "0    437\n",
            "1    231\n",
            "Name: Class, dtype: int64\n",
            "<class 'pandas.core.frame.DataFrame'>\n",
            "RangeIndex: 668 entries, 0 to 667\n",
            "Data columns (total 8 columns):\n",
            " #   Column  Non-Null Count  Dtype  \n",
            "---  ------  --------------  -----  \n",
            " 0   A1      668 non-null    int64  \n",
            " 1   A2      668 non-null    int64  \n",
            " 2   A3      668 non-null    int64  \n",
            " 3   A4      668 non-null    int64  \n",
            " 4   A5      668 non-null    int64  \n",
            " 5   A6      668 non-null    float64\n",
            " 6   A7      668 non-null    float64\n",
            " 7   A8      668 non-null    int64  \n",
            "dtypes: float64(2), int64(6)\n",
            "memory usage: 41.9 KB\n",
            "None\n"
          ]
        },
        {
          "output_type": "execute_result",
          "data": {
            "text/html": [
              "\n",
              "  <div id=\"df-e535a2af-829b-4c30-b40a-87278b4ce34a\">\n",
              "    <div class=\"colab-df-container\">\n",
              "      <div>\n",
              "<style scoped>\n",
              "    .dataframe tbody tr th:only-of-type {\n",
              "        vertical-align: middle;\n",
              "    }\n",
              "\n",
              "    .dataframe tbody tr th {\n",
              "        vertical-align: top;\n",
              "    }\n",
              "\n",
              "    .dataframe thead th {\n",
              "        text-align: right;\n",
              "    }\n",
              "</style>\n",
              "<table border=\"1\" class=\"dataframe\">\n",
              "  <thead>\n",
              "    <tr style=\"text-align: right;\">\n",
              "      <th></th>\n",
              "      <th>A1</th>\n",
              "      <th>A2</th>\n",
              "      <th>A3</th>\n",
              "      <th>A4</th>\n",
              "      <th>A5</th>\n",
              "      <th>A6</th>\n",
              "      <th>A7</th>\n",
              "      <th>A8</th>\n",
              "    </tr>\n",
              "  </thead>\n",
              "  <tbody>\n",
              "    <tr>\n",
              "      <th>0</th>\n",
              "      <td>6</td>\n",
              "      <td>148</td>\n",
              "      <td>72</td>\n",
              "      <td>35</td>\n",
              "      <td>0</td>\n",
              "      <td>33.6</td>\n",
              "      <td>0.627</td>\n",
              "      <td>50</td>\n",
              "    </tr>\n",
              "    <tr>\n",
              "      <th>1</th>\n",
              "      <td>1</td>\n",
              "      <td>85</td>\n",
              "      <td>66</td>\n",
              "      <td>29</td>\n",
              "      <td>0</td>\n",
              "      <td>26.6</td>\n",
              "      <td>0.351</td>\n",
              "      <td>31</td>\n",
              "    </tr>\n",
              "    <tr>\n",
              "      <th>2</th>\n",
              "      <td>8</td>\n",
              "      <td>183</td>\n",
              "      <td>64</td>\n",
              "      <td>0</td>\n",
              "      <td>0</td>\n",
              "      <td>23.3</td>\n",
              "      <td>0.672</td>\n",
              "      <td>32</td>\n",
              "    </tr>\n",
              "    <tr>\n",
              "      <th>3</th>\n",
              "      <td>1</td>\n",
              "      <td>89</td>\n",
              "      <td>66</td>\n",
              "      <td>23</td>\n",
              "      <td>94</td>\n",
              "      <td>28.1</td>\n",
              "      <td>0.167</td>\n",
              "      <td>21</td>\n",
              "    </tr>\n",
              "    <tr>\n",
              "      <th>4</th>\n",
              "      <td>0</td>\n",
              "      <td>137</td>\n",
              "      <td>40</td>\n",
              "      <td>35</td>\n",
              "      <td>168</td>\n",
              "      <td>43.1</td>\n",
              "      <td>2.288</td>\n",
              "      <td>33</td>\n",
              "    </tr>\n",
              "  </tbody>\n",
              "</table>\n",
              "</div>\n",
              "      <button class=\"colab-df-convert\" onclick=\"convertToInteractive('df-e535a2af-829b-4c30-b40a-87278b4ce34a')\"\n",
              "              title=\"Convert this dataframe to an interactive table.\"\n",
              "              style=\"display:none;\">\n",
              "        \n",
              "  <svg xmlns=\"http://www.w3.org/2000/svg\" height=\"24px\"viewBox=\"0 0 24 24\"\n",
              "       width=\"24px\">\n",
              "    <path d=\"M0 0h24v24H0V0z\" fill=\"none\"/>\n",
              "    <path d=\"M18.56 5.44l.94 2.06.94-2.06 2.06-.94-2.06-.94-.94-2.06-.94 2.06-2.06.94zm-11 1L8.5 8.5l.94-2.06 2.06-.94-2.06-.94L8.5 2.5l-.94 2.06-2.06.94zm10 10l.94 2.06.94-2.06 2.06-.94-2.06-.94-.94-2.06-.94 2.06-2.06.94z\"/><path d=\"M17.41 7.96l-1.37-1.37c-.4-.4-.92-.59-1.43-.59-.52 0-1.04.2-1.43.59L10.3 9.45l-7.72 7.72c-.78.78-.78 2.05 0 2.83L4 21.41c.39.39.9.59 1.41.59.51 0 1.02-.2 1.41-.59l7.78-7.78 2.81-2.81c.8-.78.8-2.07 0-2.86zM5.41 20L4 18.59l7.72-7.72 1.47 1.35L5.41 20z\"/>\n",
              "  </svg>\n",
              "      </button>\n",
              "      \n",
              "  <style>\n",
              "    .colab-df-container {\n",
              "      display:flex;\n",
              "      flex-wrap:wrap;\n",
              "      gap: 12px;\n",
              "    }\n",
              "\n",
              "    .colab-df-convert {\n",
              "      background-color: #E8F0FE;\n",
              "      border: none;\n",
              "      border-radius: 50%;\n",
              "      cursor: pointer;\n",
              "      display: none;\n",
              "      fill: #1967D2;\n",
              "      height: 32px;\n",
              "      padding: 0 0 0 0;\n",
              "      width: 32px;\n",
              "    }\n",
              "\n",
              "    .colab-df-convert:hover {\n",
              "      background-color: #E2EBFA;\n",
              "      box-shadow: 0px 1px 2px rgba(60, 64, 67, 0.3), 0px 1px 3px 1px rgba(60, 64, 67, 0.15);\n",
              "      fill: #174EA6;\n",
              "    }\n",
              "\n",
              "    [theme=dark] .colab-df-convert {\n",
              "      background-color: #3B4455;\n",
              "      fill: #D2E3FC;\n",
              "    }\n",
              "\n",
              "    [theme=dark] .colab-df-convert:hover {\n",
              "      background-color: #434B5C;\n",
              "      box-shadow: 0px 1px 3px 1px rgba(0, 0, 0, 0.15);\n",
              "      filter: drop-shadow(0px 1px 2px rgba(0, 0, 0, 0.3));\n",
              "      fill: #FFFFFF;\n",
              "    }\n",
              "  </style>\n",
              "\n",
              "      <script>\n",
              "        const buttonEl =\n",
              "          document.querySelector('#df-e535a2af-829b-4c30-b40a-87278b4ce34a button.colab-df-convert');\n",
              "        buttonEl.style.display =\n",
              "          google.colab.kernel.accessAllowed ? 'block' : 'none';\n",
              "\n",
              "        async function convertToInteractive(key) {\n",
              "          const element = document.querySelector('#df-e535a2af-829b-4c30-b40a-87278b4ce34a');\n",
              "          const dataTable =\n",
              "            await google.colab.kernel.invokeFunction('convertToInteractive',\n",
              "                                                     [key], {});\n",
              "          if (!dataTable) return;\n",
              "\n",
              "          const docLinkHtml = 'Like what you see? Visit the ' +\n",
              "            '<a target=\"_blank\" href=https://colab.research.google.com/notebooks/data_table.ipynb>data table notebook</a>'\n",
              "            + ' to learn more about interactive tables.';\n",
              "          element.innerHTML = '';\n",
              "          dataTable['output_type'] = 'display_data';\n",
              "          await google.colab.output.renderOutput(dataTable, element);\n",
              "          const docLink = document.createElement('div');\n",
              "          docLink.innerHTML = docLinkHtml;\n",
              "          element.appendChild(docLink);\n",
              "        }\n",
              "      </script>\n",
              "    </div>\n",
              "  </div>\n",
              "  "
            ],
            "text/plain": [
              "   A1   A2  A3  A4   A5    A6     A7  A8\n",
              "0   6  148  72  35    0  33.6  0.627  50\n",
              "1   1   85  66  29    0  26.6  0.351  31\n",
              "2   8  183  64   0    0  23.3  0.672  32\n",
              "3   1   89  66  23   94  28.1  0.167  21\n",
              "4   0  137  40  35  168  43.1  2.288  33"
            ]
          },
          "metadata": {},
          "execution_count": 35
        }
      ]
    },
    {
      "cell_type": "code",
      "source": [
        "# split data to train and validation sets\n",
        "X_train1, X_val1, y_train1, y_val1 = train_test_split(X, y, test_size=0.3, random_state=100)\n",
        "print(f'training data set size: {len(X_train1)}')\n",
        "print(f'validation data set size: {len(X_val1)}')"
      ],
      "metadata": {
        "id": "riQywpRcbcqH",
        "colab": {
          "base_uri": "https://localhost:8080/"
        },
        "outputId": "4c00927f-0669-441c-8deb-420499bebd0e"
      },
      "execution_count": 36,
      "outputs": [
        {
          "output_type": "stream",
          "name": "stdout",
          "text": [
            "training data set size: 467\n",
            "validation data set size: 201\n"
          ]
        }
      ]
    },
    {
      "cell_type": "markdown",
      "source": [
        "# Build the Model "
      ],
      "metadata": {
        "id": "cGHb2kYVakl5"
      }
    },
    {
      "cell_type": "code",
      "source": [
        "# define the keras model\n",
        "model1 = Sequential()\n",
        "model1.add(Dense(units=64, input_dim=8, activation='relu'))\n",
        "model1.add(Dense(units=32, activation='relu'))\n",
        "#model1.add(Dense(units=80, activation='relu'))\n",
        "model1.add(Dense(1, activation='sigmoid'))\n",
        "\n",
        "model1.summary()"
      ],
      "metadata": {
        "id": "pFZDAuWDbhfo",
        "colab": {
          "base_uri": "https://localhost:8080/"
        },
        "outputId": "71860056-a328-4f05-ab7f-5204ff2a15e3"
      },
      "execution_count": 37,
      "outputs": [
        {
          "output_type": "stream",
          "name": "stdout",
          "text": [
            "Model: \"sequential_1\"\n",
            "_________________________________________________________________\n",
            " Layer (type)                Output Shape              Param #   \n",
            "=================================================================\n",
            " dense_3 (Dense)             (None, 64)                576       \n",
            "                                                                 \n",
            " dense_4 (Dense)             (None, 32)                2080      \n",
            "                                                                 \n",
            " dense_5 (Dense)             (None, 1)                 33        \n",
            "                                                                 \n",
            "=================================================================\n",
            "Total params: 2,689\n",
            "Trainable params: 2,689\n",
            "Non-trainable params: 0\n",
            "_________________________________________________________________\n"
          ]
        }
      ]
    },
    {
      "cell_type": "code",
      "source": [
        "# compile the keras model\n",
        "import tensorflow as tf\n",
        "# create an optimiser object and set the learning rate\n",
        "opt = tf.keras.optimizers.Adam(learning_rate=0.01)\n"
      ],
      "metadata": {
        "id": "c7qzW6BpbjhA"
      },
      "execution_count": 38,
      "outputs": []
    },
    {
      "cell_type": "code",
      "source": [
        "# Compile the model with the optimiser object\n",
        "model1.compile(loss='binary_crossentropy', optimizer=opt, metrics=['accuracy'])"
      ],
      "metadata": {
        "id": "Jqd_boQum6jt"
      },
      "execution_count": 39,
      "outputs": []
    },
    {
      "cell_type": "code",
      "source": [
        "# train model\n",
        "history = model1.fit(X_train1, y_train1, batch_size=10, epochs=60, validation_data=(X_val1, y_val1))\n",
        "\n"
      ],
      "metadata": {
        "id": "9SvBvzI8blby",
        "colab": {
          "base_uri": "https://localhost:8080/"
        },
        "outputId": "3a6422f1-f0dd-4ef2-d081-3e206ba6106d"
      },
      "execution_count": 40,
      "outputs": [
        {
          "output_type": "stream",
          "name": "stdout",
          "text": [
            "Epoch 1/60\n",
            "47/47 [==============================] - 1s 6ms/step - loss: 2.7671 - accuracy: 0.5460 - val_loss: 1.0549 - val_accuracy: 0.5572\n",
            "Epoch 2/60\n",
            "47/47 [==============================] - 0s 3ms/step - loss: 1.4313 - accuracy: 0.5931 - val_loss: 1.4379 - val_accuracy: 0.5174\n",
            "Epoch 3/60\n",
            "47/47 [==============================] - 0s 3ms/step - loss: 1.0229 - accuracy: 0.5739 - val_loss: 0.7577 - val_accuracy: 0.6617\n",
            "Epoch 4/60\n",
            "47/47 [==============================] - 0s 2ms/step - loss: 0.6805 - accuracy: 0.6552 - val_loss: 0.6776 - val_accuracy: 0.6816\n",
            "Epoch 5/60\n",
            "47/47 [==============================] - 0s 2ms/step - loss: 0.7918 - accuracy: 0.6274 - val_loss: 0.6978 - val_accuracy: 0.6716\n",
            "Epoch 6/60\n",
            "47/47 [==============================] - 0s 3ms/step - loss: 0.6235 - accuracy: 0.6660 - val_loss: 0.6254 - val_accuracy: 0.7065\n",
            "Epoch 7/60\n",
            "47/47 [==============================] - 0s 4ms/step - loss: 0.6528 - accuracy: 0.6702 - val_loss: 0.6012 - val_accuracy: 0.6766\n",
            "Epoch 8/60\n",
            "47/47 [==============================] - 0s 3ms/step - loss: 0.5784 - accuracy: 0.7131 - val_loss: 0.5878 - val_accuracy: 0.6866\n",
            "Epoch 9/60\n",
            "47/47 [==============================] - 0s 3ms/step - loss: 0.5820 - accuracy: 0.7259 - val_loss: 0.5812 - val_accuracy: 0.7065\n",
            "Epoch 10/60\n",
            "47/47 [==============================] - 0s 2ms/step - loss: 0.5789 - accuracy: 0.7024 - val_loss: 0.6758 - val_accuracy: 0.6517\n",
            "Epoch 11/60\n",
            "47/47 [==============================] - 0s 3ms/step - loss: 0.6143 - accuracy: 0.6788 - val_loss: 0.6382 - val_accuracy: 0.6766\n",
            "Epoch 12/60\n",
            "47/47 [==============================] - 0s 3ms/step - loss: 0.6270 - accuracy: 0.7109 - val_loss: 0.5678 - val_accuracy: 0.6965\n",
            "Epoch 13/60\n",
            "47/47 [==============================] - 0s 3ms/step - loss: 0.5743 - accuracy: 0.7131 - val_loss: 0.5550 - val_accuracy: 0.7413\n",
            "Epoch 14/60\n",
            "47/47 [==============================] - 0s 3ms/step - loss: 0.5769 - accuracy: 0.6916 - val_loss: 0.5881 - val_accuracy: 0.7363\n",
            "Epoch 15/60\n",
            "47/47 [==============================] - 0s 4ms/step - loss: 0.5892 - accuracy: 0.7066 - val_loss: 0.5820 - val_accuracy: 0.7363\n",
            "Epoch 16/60\n",
            "47/47 [==============================] - 0s 3ms/step - loss: 0.5889 - accuracy: 0.6938 - val_loss: 0.5505 - val_accuracy: 0.7463\n",
            "Epoch 17/60\n",
            "47/47 [==============================] - 0s 3ms/step - loss: 0.5527 - accuracy: 0.7580 - val_loss: 0.5379 - val_accuracy: 0.7363\n",
            "Epoch 18/60\n",
            "47/47 [==============================] - 0s 2ms/step - loss: 0.5367 - accuracy: 0.7302 - val_loss: 0.5308 - val_accuracy: 0.7313\n",
            "Epoch 19/60\n",
            "47/47 [==============================] - 0s 3ms/step - loss: 0.5614 - accuracy: 0.7152 - val_loss: 0.6339 - val_accuracy: 0.6468\n",
            "Epoch 20/60\n",
            "47/47 [==============================] - 0s 3ms/step - loss: 0.5603 - accuracy: 0.7259 - val_loss: 0.5454 - val_accuracy: 0.7164\n",
            "Epoch 21/60\n",
            "47/47 [==============================] - 0s 2ms/step - loss: 0.5515 - accuracy: 0.7173 - val_loss: 0.6017 - val_accuracy: 0.7114\n",
            "Epoch 22/60\n",
            "47/47 [==============================] - 0s 4ms/step - loss: 0.5500 - accuracy: 0.7302 - val_loss: 0.5382 - val_accuracy: 0.7612\n",
            "Epoch 23/60\n",
            "47/47 [==============================] - 0s 3ms/step - loss: 0.5451 - accuracy: 0.7088 - val_loss: 0.5458 - val_accuracy: 0.7512\n",
            "Epoch 24/60\n",
            "47/47 [==============================] - 0s 3ms/step - loss: 0.5448 - accuracy: 0.7388 - val_loss: 0.5557 - val_accuracy: 0.7114\n",
            "Epoch 25/60\n",
            "47/47 [==============================] - 0s 2ms/step - loss: 0.5540 - accuracy: 0.7216 - val_loss: 0.5931 - val_accuracy: 0.6915\n",
            "Epoch 26/60\n",
            "47/47 [==============================] - 0s 4ms/step - loss: 0.5395 - accuracy: 0.7152 - val_loss: 0.5542 - val_accuracy: 0.7114\n",
            "Epoch 27/60\n",
            "47/47 [==============================] - 0s 2ms/step - loss: 0.5441 - accuracy: 0.7345 - val_loss: 0.5730 - val_accuracy: 0.7164\n",
            "Epoch 28/60\n",
            "47/47 [==============================] - 0s 2ms/step - loss: 0.5459 - accuracy: 0.7195 - val_loss: 0.6378 - val_accuracy: 0.7015\n",
            "Epoch 29/60\n",
            "47/47 [==============================] - 0s 3ms/step - loss: 0.5497 - accuracy: 0.7281 - val_loss: 0.5428 - val_accuracy: 0.7214\n",
            "Epoch 30/60\n",
            "47/47 [==============================] - 0s 2ms/step - loss: 0.5222 - accuracy: 0.7473 - val_loss: 0.5734 - val_accuracy: 0.7214\n",
            "Epoch 31/60\n",
            "47/47 [==============================] - 0s 3ms/step - loss: 0.5647 - accuracy: 0.7281 - val_loss: 0.5660 - val_accuracy: 0.6965\n",
            "Epoch 32/60\n",
            "47/47 [==============================] - 0s 3ms/step - loss: 0.5558 - accuracy: 0.7088 - val_loss: 0.5425 - val_accuracy: 0.7313\n",
            "Epoch 33/60\n",
            "47/47 [==============================] - 0s 3ms/step - loss: 0.5371 - accuracy: 0.7388 - val_loss: 0.6007 - val_accuracy: 0.7413\n",
            "Epoch 34/60\n",
            "47/47 [==============================] - 0s 2ms/step - loss: 0.5451 - accuracy: 0.7366 - val_loss: 0.5373 - val_accuracy: 0.7562\n",
            "Epoch 35/60\n",
            "47/47 [==============================] - 0s 3ms/step - loss: 0.5383 - accuracy: 0.7173 - val_loss: 0.5593 - val_accuracy: 0.7413\n",
            "Epoch 36/60\n",
            "47/47 [==============================] - 0s 3ms/step - loss: 0.5363 - accuracy: 0.7366 - val_loss: 0.5369 - val_accuracy: 0.7463\n",
            "Epoch 37/60\n",
            "47/47 [==============================] - 0s 2ms/step - loss: 0.5380 - accuracy: 0.7281 - val_loss: 0.5453 - val_accuracy: 0.7164\n",
            "Epoch 38/60\n",
            "47/47 [==============================] - 0s 2ms/step - loss: 0.5339 - accuracy: 0.7473 - val_loss: 0.5937 - val_accuracy: 0.6866\n",
            "Epoch 39/60\n",
            "47/47 [==============================] - 0s 3ms/step - loss: 0.5214 - accuracy: 0.7452 - val_loss: 0.6075 - val_accuracy: 0.7214\n",
            "Epoch 40/60\n",
            "47/47 [==============================] - 0s 3ms/step - loss: 0.5308 - accuracy: 0.7216 - val_loss: 0.6075 - val_accuracy: 0.7264\n",
            "Epoch 41/60\n",
            "47/47 [==============================] - 0s 3ms/step - loss: 0.5213 - accuracy: 0.7388 - val_loss: 0.5730 - val_accuracy: 0.7413\n",
            "Epoch 42/60\n",
            "47/47 [==============================] - 0s 2ms/step - loss: 0.5106 - accuracy: 0.7516 - val_loss: 0.6227 - val_accuracy: 0.7164\n",
            "Epoch 43/60\n",
            "47/47 [==============================] - 0s 3ms/step - loss: 0.5524 - accuracy: 0.7066 - val_loss: 0.5705 - val_accuracy: 0.7363\n",
            "Epoch 44/60\n",
            "47/47 [==============================] - 0s 3ms/step - loss: 0.5462 - accuracy: 0.7195 - val_loss: 0.5863 - val_accuracy: 0.7662\n",
            "Epoch 45/60\n",
            "47/47 [==============================] - 0s 3ms/step - loss: 0.5370 - accuracy: 0.7216 - val_loss: 0.5427 - val_accuracy: 0.7264\n",
            "Epoch 46/60\n",
            "47/47 [==============================] - 0s 3ms/step - loss: 0.5322 - accuracy: 0.7302 - val_loss: 0.5574 - val_accuracy: 0.7313\n",
            "Epoch 47/60\n",
            "47/47 [==============================] - 0s 2ms/step - loss: 0.5274 - accuracy: 0.7216 - val_loss: 0.5526 - val_accuracy: 0.7313\n",
            "Epoch 48/60\n",
            "47/47 [==============================] - 0s 3ms/step - loss: 0.5215 - accuracy: 0.7238 - val_loss: 0.5718 - val_accuracy: 0.7662\n",
            "Epoch 49/60\n",
            "47/47 [==============================] - 0s 2ms/step - loss: 0.5484 - accuracy: 0.7216 - val_loss: 0.5696 - val_accuracy: 0.7413\n",
            "Epoch 50/60\n",
            "47/47 [==============================] - 0s 2ms/step - loss: 0.5263 - accuracy: 0.7259 - val_loss: 0.5948 - val_accuracy: 0.7164\n",
            "Epoch 51/60\n",
            "47/47 [==============================] - 0s 3ms/step - loss: 0.5274 - accuracy: 0.7195 - val_loss: 0.6066 - val_accuracy: 0.7313\n",
            "Epoch 52/60\n",
            "47/47 [==============================] - 0s 2ms/step - loss: 0.5212 - accuracy: 0.7195 - val_loss: 0.6549 - val_accuracy: 0.6866\n",
            "Epoch 53/60\n",
            "47/47 [==============================] - 0s 2ms/step - loss: 0.5289 - accuracy: 0.7195 - val_loss: 0.5909 - val_accuracy: 0.7264\n",
            "Epoch 54/60\n",
            "47/47 [==============================] - 0s 2ms/step - loss: 0.5229 - accuracy: 0.7366 - val_loss: 0.5457 - val_accuracy: 0.7065\n",
            "Epoch 55/60\n",
            "47/47 [==============================] - 0s 2ms/step - loss: 0.5242 - accuracy: 0.7366 - val_loss: 0.5598 - val_accuracy: 0.7662\n",
            "Epoch 56/60\n",
            "47/47 [==============================] - 0s 2ms/step - loss: 0.5028 - accuracy: 0.7430 - val_loss: 0.5127 - val_accuracy: 0.7413\n",
            "Epoch 57/60\n",
            "47/47 [==============================] - 0s 2ms/step - loss: 0.5099 - accuracy: 0.7516 - val_loss: 0.5868 - val_accuracy: 0.7264\n",
            "Epoch 58/60\n",
            "47/47 [==============================] - 0s 3ms/step - loss: 0.5275 - accuracy: 0.7281 - val_loss: 0.5286 - val_accuracy: 0.7711\n",
            "Epoch 59/60\n",
            "47/47 [==============================] - 0s 4ms/step - loss: 0.5326 - accuracy: 0.7131 - val_loss: 0.5454 - val_accuracy: 0.7711\n",
            "Epoch 60/60\n",
            "47/47 [==============================] - 0s 3ms/step - loss: 0.5177 - accuracy: 0.7537 - val_loss: 0.6118 - val_accuracy: 0.7214\n"
          ]
        }
      ]
    },
    {
      "cell_type": "markdown",
      "source": [
        "# Plotting the Graph"
      ],
      "metadata": {
        "id": "yJxaXih1bZNp"
      }
    },
    {
      "cell_type": "code",
      "source": [
        "# summarize the history for accuracy\n",
        "plt.plot(history.history['accuracy'])\n",
        "plt.plot(history.history['val_accuracy'])\n",
        "plt.title('model accuracy')\n",
        "plt.ylabel('accuracy')\n",
        "plt.xlabel('epoch')\n",
        "plt.legend(['train','test'], loc='upper left')\n",
        "plt.show()\n",
        "\n",
        "# summarize the history for loss\n",
        "plt.plot(history.history['loss'])\n",
        "plt.plot(history.history['val_loss'])\n",
        "plt.title('model loss')\n",
        "plt.ylabel('loss')\n",
        "plt.xlabel('epoch')\n",
        "plt.legend(['train','test'], loc='upper left')\n",
        "plt.show()"
      ],
      "metadata": {
        "id": "SO68BqpIcPjF",
        "colab": {
          "base_uri": "https://localhost:8080/",
          "height": 573
        },
        "outputId": "1c645f23-2d7d-4230-acf2-d4087d929be5"
      },
      "execution_count": 41,
      "outputs": [
        {
          "output_type": "display_data",
          "data": {
            "image/png": "[encoded data removed]",
            "text/plain": [
              "<Figure size 432x288 with 1 Axes>"
            ]
          },
          "metadata": {
            "needs_background": "light"
          }
        },
        {
          "output_type": "display_data",
          "data": {
            "image/png": "[encoded data removed]",
            "text/plain": [
              "<Figure size 432x288 with 1 Axes>"
            ]
          },
          "metadata": {
            "needs_background": "light"
          }
        }
      ]
    },
    {
      "cell_type": "markdown",
      "source": [
        "# Validating the Model"
      ],
      "metadata": {
        "id": "5cEVL2iAbsAD"
      }
    },
    {
      "cell_type": "code",
      "source": [
        "# get model predictions\n",
        "y_pred1 = model1.predict(X_val1)\n",
        "print(y_pred1[:10])"
      ],
      "metadata": {
        "id": "XOSR5y1Bfg9C",
        "colab": {
          "base_uri": "https://localhost:8080/"
        },
        "outputId": "7ea8cf57-4d2a-4f95-b226-6a616ccb4414"
      },
      "execution_count": 42,
      "outputs": [
        {
          "output_type": "stream",
          "name": "stdout",
          "text": [
            "[[0.35809156]\n",
            " [0.6523248 ]\n",
            " [0.41436493]\n",
            " [0.4490394 ]\n",
            " [0.833635  ]\n",
            " [0.00107929]\n",
            " [0.69834876]\n",
            " [0.61610544]\n",
            " [0.70938957]\n",
            " [0.24893808]]\n"
          ]
        }
      ]
    },
    {
      "cell_type": "code",
      "source": [
        "# convert to categorical predictions\n",
        "y_pred_categorical1 = [1 if pred > 0.5 else 0 for pred in y_pred1]\n",
        "print(y_pred_categorical1[:10])"
      ],
      "metadata": {
        "id": "EnxOOzECfn5t",
        "colab": {
          "base_uri": "https://localhost:8080/"
        },
        "outputId": "e1fb1fe8-0b41-46a7-c407-9bd1d35084da"
      },
      "execution_count": 43,
      "outputs": [
        {
          "output_type": "stream",
          "name": "stdout",
          "text": [
            "[0, 1, 0, 0, 1, 0, 1, 1, 1, 0]\n"
          ]
        }
      ]
    },
    {
      "cell_type": "code",
      "source": [
        "# measure accuracy\n",
        "accuracy = metrics.accuracy_score(y_val1, y_pred_categorical1)\n",
        "print(f'Accuracy: {accuracy}')"
      ],
      "metadata": {
        "id": "jCz-3PCefqWv",
        "colab": {
          "base_uri": "https://localhost:8080/"
        },
        "outputId": "94f4388e-4370-4c94-ad4f-ec15caeb6b2d"
      },
      "execution_count": 44,
      "outputs": [
        {
          "output_type": "stream",
          "name": "stdout",
          "text": [
            "Accuracy: 0.7213930348258707\n"
          ]
        }
      ]
    },
    {
      "cell_type": "markdown",
      "source": [
        "# Doing Test Prediction"
      ],
      "metadata": {
        "id": "sstU92V2cFVT"
      }
    },
    {
      "cell_type": "code",
      "source": [
        "df_test = pd.read_csv('/content/test.csv')\n",
        "df_test\n"
      ],
      "metadata": {
        "id": "da3MVvcagDq1",
        "colab": {
          "base_uri": "https://localhost:8080/",
          "height": 424
        },
        "outputId": "05dd0b14-8bab-482b-9334-f6a82e19cf12"
      },
      "execution_count": 45,
      "outputs": [
        {
          "output_type": "execute_result",
          "data": {
            "text/html": [
              "\n",
              "  <div id=\"df-dc627f78-cdcc-424e-997f-6a1a6cb579d4\">\n",
              "    <div class=\"colab-df-container\">\n",
              "      <div>\n",
              "<style scoped>\n",
              "    .dataframe tbody tr th:only-of-type {\n",
              "        vertical-align: middle;\n",
              "    }\n",
              "\n",
              "    .dataframe tbody tr th {\n",
              "        vertical-align: top;\n",
              "    }\n",
              "\n",
              "    .dataframe thead th {\n",
              "        text-align: right;\n",
              "    }\n",
              "</style>\n",
              "<table border=\"1\" class=\"dataframe\">\n",
              "  <thead>\n",
              "    <tr style=\"text-align: right;\">\n",
              "      <th></th>\n",
              "      <th>Id</th>\n",
              "      <th>A1</th>\n",
              "      <th>A2</th>\n",
              "      <th>A3</th>\n",
              "      <th>A4</th>\n",
              "      <th>A5</th>\n",
              "      <th>A6</th>\n",
              "      <th>A7</th>\n",
              "      <th>A8</th>\n",
              "    </tr>\n",
              "  </thead>\n",
              "  <tbody>\n",
              "    <tr>\n",
              "      <th>0</th>\n",
              "      <td>1</td>\n",
              "      <td>6</td>\n",
              "      <td>98</td>\n",
              "      <td>58</td>\n",
              "      <td>33</td>\n",
              "      <td>190</td>\n",
              "      <td>34.0</td>\n",
              "      <td>0.430</td>\n",
              "      <td>43</td>\n",
              "    </tr>\n",
              "    <tr>\n",
              "      <th>1</th>\n",
              "      <td>2</td>\n",
              "      <td>9</td>\n",
              "      <td>154</td>\n",
              "      <td>78</td>\n",
              "      <td>30</td>\n",
              "      <td>100</td>\n",
              "      <td>30.9</td>\n",
              "      <td>0.164</td>\n",
              "      <td>45</td>\n",
              "    </tr>\n",
              "    <tr>\n",
              "      <th>2</th>\n",
              "      <td>3</td>\n",
              "      <td>6</td>\n",
              "      <td>165</td>\n",
              "      <td>68</td>\n",
              "      <td>26</td>\n",
              "      <td>168</td>\n",
              "      <td>33.6</td>\n",
              "      <td>0.631</td>\n",
              "      <td>49</td>\n",
              "    </tr>\n",
              "    <tr>\n",
              "      <th>3</th>\n",
              "      <td>4</td>\n",
              "      <td>1</td>\n",
              "      <td>99</td>\n",
              "      <td>58</td>\n",
              "      <td>10</td>\n",
              "      <td>0</td>\n",
              "      <td>25.4</td>\n",
              "      <td>0.551</td>\n",
              "      <td>21</td>\n",
              "    </tr>\n",
              "    <tr>\n",
              "      <th>4</th>\n",
              "      <td>5</td>\n",
              "      <td>10</td>\n",
              "      <td>68</td>\n",
              "      <td>106</td>\n",
              "      <td>23</td>\n",
              "      <td>49</td>\n",
              "      <td>35.5</td>\n",
              "      <td>0.285</td>\n",
              "      <td>47</td>\n",
              "    </tr>\n",
              "    <tr>\n",
              "      <th>...</th>\n",
              "      <td>...</td>\n",
              "      <td>...</td>\n",
              "      <td>...</td>\n",
              "      <td>...</td>\n",
              "      <td>...</td>\n",
              "      <td>...</td>\n",
              "      <td>...</td>\n",
              "      <td>...</td>\n",
              "      <td>...</td>\n",
              "    </tr>\n",
              "    <tr>\n",
              "      <th>95</th>\n",
              "      <td>96</td>\n",
              "      <td>10</td>\n",
              "      <td>101</td>\n",
              "      <td>76</td>\n",
              "      <td>48</td>\n",
              "      <td>180</td>\n",
              "      <td>32.9</td>\n",
              "      <td>0.171</td>\n",
              "      <td>63</td>\n",
              "    </tr>\n",
              "    <tr>\n",
              "      <th>96</th>\n",
              "      <td>97</td>\n",
              "      <td>2</td>\n",
              "      <td>122</td>\n",
              "      <td>70</td>\n",
              "      <td>27</td>\n",
              "      <td>0</td>\n",
              "      <td>36.8</td>\n",
              "      <td>0.340</td>\n",
              "      <td>27</td>\n",
              "    </tr>\n",
              "    <tr>\n",
              "      <th>97</th>\n",
              "      <td>98</td>\n",
              "      <td>5</td>\n",
              "      <td>121</td>\n",
              "      <td>72</td>\n",
              "      <td>23</td>\n",
              "      <td>112</td>\n",
              "      <td>26.2</td>\n",
              "      <td>0.245</td>\n",
              "      <td>30</td>\n",
              "    </tr>\n",
              "    <tr>\n",
              "      <th>98</th>\n",
              "      <td>99</td>\n",
              "      <td>1</td>\n",
              "      <td>126</td>\n",
              "      <td>60</td>\n",
              "      <td>0</td>\n",
              "      <td>0</td>\n",
              "      <td>30.1</td>\n",
              "      <td>0.349</td>\n",
              "      <td>47</td>\n",
              "    </tr>\n",
              "    <tr>\n",
              "      <th>99</th>\n",
              "      <td>100</td>\n",
              "      <td>1</td>\n",
              "      <td>93</td>\n",
              "      <td>70</td>\n",
              "      <td>31</td>\n",
              "      <td>0</td>\n",
              "      <td>30.4</td>\n",
              "      <td>0.315</td>\n",
              "      <td>23</td>\n",
              "    </tr>\n",
              "  </tbody>\n",
              "</table>\n",
              "<p>100 rows × 9 columns</p>\n",
              "</div>\n",
              "      <button class=\"colab-df-convert\" onclick=\"convertToInteractive('df-dc627f78-cdcc-424e-997f-6a1a6cb579d4')\"\n",
              "              title=\"Convert this dataframe to an interactive table.\"\n",
              "              style=\"display:none;\">\n",
              "        \n",
              "  <svg xmlns=\"http://www.w3.org/2000/svg\" height=\"24px\"viewBox=\"0 0 24 24\"\n",
              "       width=\"24px\">\n",
              "    <path d=\"M0 0h24v24H0V0z\" fill=\"none\"/>\n",
              "    <path d=\"M18.56 5.44l.94 2.06.94-2.06 2.06-.94-2.06-.94-.94-2.06-.94 2.06-2.06.94zm-11 1L8.5 8.5l.94-2.06 2.06-.94-2.06-.94L8.5 2.5l-.94 2.06-2.06.94zm10 10l.94 2.06.94-2.06 2.06-.94-2.06-.94-.94-2.06-.94 2.06-2.06.94z\"/><path d=\"M17.41 7.96l-1.37-1.37c-.4-.4-.92-.59-1.43-.59-.52 0-1.04.2-1.43.59L10.3 9.45l-7.72 7.72c-.78.78-.78 2.05 0 2.83L4 21.41c.39.39.9.59 1.41.59.51 0 1.02-.2 1.41-.59l7.78-7.78 2.81-2.81c.8-.78.8-2.07 0-2.86zM5.41 20L4 18.59l7.72-7.72 1.47 1.35L5.41 20z\"/>\n",
              "  </svg>\n",
              "      </button>\n",
              "      \n",
              "  <style>\n",
              "    .colab-df-container {\n",
              "      display:flex;\n",
              "      flex-wrap:wrap;\n",
              "      gap: 12px;\n",
              "    }\n",
              "\n",
              "    .colab-df-convert {\n",
              "      background-color: #E8F0FE;\n",
              "      border: none;\n",
              "      border-radius: 50%;\n",
              "      cursor: pointer;\n",
              "      display: none;\n",
              "      fill: #1967D2;\n",
              "      height: 32px;\n",
              "      padding: 0 0 0 0;\n",
              "      width: 32px;\n",
              "    }\n",
              "\n",
              "    .colab-df-convert:hover {\n",
              "      background-color: #E2EBFA;\n",
              "      box-shadow: 0px 1px 2px rgba(60, 64, 67, 0.3), 0px 1px 3px 1px rgba(60, 64, 67, 0.15);\n",
              "      fill: #174EA6;\n",
              "    }\n",
              "\n",
              "    [theme=dark] .colab-df-convert {\n",
              "      background-color: #3B4455;\n",
              "      fill: #D2E3FC;\n",
              "    }\n",
              "\n",
              "    [theme=dark] .colab-df-convert:hover {\n",
              "      background-color: #434B5C;\n",
              "      box-shadow: 0px 1px 3px 1px rgba(0, 0, 0, 0.15);\n",
              "      filter: drop-shadow(0px 1px 2px rgba(0, 0, 0, 0.3));\n",
              "      fill: #FFFFFF;\n",
              "    }\n",
              "  </style>\n",
              "\n",
              "      <script>\n",
              "        const buttonEl =\n",
              "          document.querySelector('#df-dc627f78-cdcc-424e-997f-6a1a6cb579d4 button.colab-df-convert');\n",
              "        buttonEl.style.display =\n",
              "          google.colab.kernel.accessAllowed ? 'block' : 'none';\n",
              "\n",
              "        async function convertToInteractive(key) {\n",
              "          const element = document.querySelector('#df-dc627f78-cdcc-424e-997f-6a1a6cb579d4');\n",
              "          const dataTable =\n",
              "            await google.colab.kernel.invokeFunction('convertToInteractive',\n",
              "                                                     [key], {});\n",
              "          if (!dataTable) return;\n",
              "\n",
              "          const docLinkHtml = 'Like what you see? Visit the ' +\n",
              "            '<a target=\"_blank\" href=https://colab.research.google.com/notebooks/data_table.ipynb>data table notebook</a>'\n",
              "            + ' to learn more about interactive tables.';\n",
              "          element.innerHTML = '';\n",
              "          dataTable['output_type'] = 'display_data';\n",
              "          await google.colab.output.renderOutput(dataTable, element);\n",
              "          const docLink = document.createElement('div');\n",
              "          docLink.innerHTML = docLinkHtml;\n",
              "          element.appendChild(docLink);\n",
              "        }\n",
              "      </script>\n",
              "    </div>\n",
              "  </div>\n",
              "  "
            ],
            "text/plain": [
              "     Id  A1   A2   A3  A4   A5    A6     A7  A8\n",
              "0     1   6   98   58  33  190  34.0  0.430  43\n",
              "1     2   9  154   78  30  100  30.9  0.164  45\n",
              "2     3   6  165   68  26  168  33.6  0.631  49\n",
              "3     4   1   99   58  10    0  25.4  0.551  21\n",
              "4     5  10   68  106  23   49  35.5  0.285  47\n",
              "..  ...  ..  ...  ...  ..  ...   ...    ...  ..\n",
              "95   96  10  101   76  48  180  32.9  0.171  63\n",
              "96   97   2  122   70  27    0  36.8  0.340  27\n",
              "97   98   5  121   72  23  112  26.2  0.245  30\n",
              "98   99   1  126   60   0    0  30.1  0.349  47\n",
              "99  100   1   93   70  31    0  30.4  0.315  23\n",
              "\n",
              "[100 rows x 9 columns]"
            ]
          },
          "metadata": {},
          "execution_count": 45
        }
      ]
    },
    {
      "cell_type": "code",
      "source": [
        "# summarise the details\n",
        "print(f'Number of entries: {len(df_test)}')\n",
        "\n",
        "X_test = df_test.drop(['Id'], axis=1)\n",
        "print(X_test.info())"
      ],
      "metadata": {
        "id": "CyfJVdWZgRZb",
        "colab": {
          "base_uri": "https://localhost:8080/"
        },
        "outputId": "7b0f8f16-d714-4507-8c6f-fd62ce606fe6"
      },
      "execution_count": 46,
      "outputs": [
        {
          "output_type": "stream",
          "name": "stdout",
          "text": [
            "Number of entries: 100\n",
            "<class 'pandas.core.frame.DataFrame'>\n",
            "RangeIndex: 100 entries, 0 to 99\n",
            "Data columns (total 8 columns):\n",
            " #   Column  Non-Null Count  Dtype  \n",
            "---  ------  --------------  -----  \n",
            " 0   A1      100 non-null    int64  \n",
            " 1   A2      100 non-null    int64  \n",
            " 2   A3      100 non-null    int64  \n",
            " 3   A4      100 non-null    int64  \n",
            " 4   A5      100 non-null    int64  \n",
            " 5   A6      100 non-null    float64\n",
            " 6   A7      100 non-null    float64\n",
            " 7   A8      100 non-null    int64  \n",
            "dtypes: float64(2), int64(6)\n",
            "memory usage: 6.4 KB\n",
            "None\n"
          ]
        }
      ]
    },
    {
      "cell_type": "code",
      "source": [
        "# create LabelEncoder for labels \n",
        "predictions = model1.predict(X_test)\n",
        "print(predictions)\n",
        "\n",
        "final_predictions = [1 if pred > 0.5 else 0 for pred in predictions]\n",
        "print(final_predictions)\n"
      ],
      "metadata": {
        "id": "ucYp7h2GgX2T",
        "colab": {
          "base_uri": "https://localhost:8080/"
        },
        "outputId": "6cde9a6d-13bd-4894-9b10-1b3e24469f4f"
      },
      "execution_count": 47,
      "outputs": [
        {
          "output_type": "stream",
          "name": "stdout",
          "text": [
            "[[6.9402611e-01]\n",
            " [7.4980855e-01]\n",
            " [8.5047293e-01]\n",
            " [3.7103194e-01]\n",
            " [2.0772400e-01]\n",
            " [4.5204347e-01]\n",
            " [7.0059657e-02]\n",
            " [9.7176808e-01]\n",
            " [6.2954199e-01]\n",
            " [4.7982657e-01]\n",
            " [8.0336928e-01]\n",
            " [3.5233596e-01]\n",
            " [1.4595133e-01]\n",
            " [9.0828979e-01]\n",
            " [4.2245793e-01]\n",
            " [5.9587109e-01]\n",
            " [2.9508770e-03]\n",
            " [5.5480409e-01]\n",
            " [6.3748813e-01]\n",
            " [4.6823850e-01]\n",
            " [5.9177560e-01]\n",
            " [7.8223896e-01]\n",
            " [4.6830791e-01]\n",
            " [8.0584401e-01]\n",
            " [5.1568091e-01]\n",
            " [7.4010026e-01]\n",
            " [2.6917726e-01]\n",
            " [6.4398527e-01]\n",
            " [7.0669210e-01]\n",
            " [7.9508060e-01]\n",
            " [4.5118147e-01]\n",
            " [8.5808873e-01]\n",
            " [5.3151882e-01]\n",
            " [5.4390997e-01]\n",
            " [7.7066445e-01]\n",
            " [6.6275072e-01]\n",
            " [3.6837071e-01]\n",
            " [2.4180847e-01]\n",
            " [5.8436394e-04]\n",
            " [5.0051147e-01]\n",
            " [8.5808438e-01]\n",
            " [5.2925617e-01]\n",
            " [5.5831057e-01]\n",
            " [4.7105893e-01]\n",
            " [8.3774877e-01]\n",
            " [4.6709794e-01]\n",
            " [3.2746160e-01]\n",
            " [9.0122640e-01]\n",
            " [8.5563195e-01]\n",
            " [3.7957370e-01]\n",
            " [6.4734936e-01]\n",
            " [3.4388751e-01]\n",
            " [1.5914464e-01]\n",
            " [5.3041327e-01]\n",
            " [6.8042600e-01]\n",
            " [5.5333143e-01]\n",
            " [2.8157583e-01]\n",
            " [4.4743189e-01]\n",
            " [5.1407748e-01]\n",
            " [5.2926093e-01]\n",
            " [7.6381487e-01]\n",
            " [4.8040780e-01]\n",
            " [4.6273255e-01]\n",
            " [4.7844604e-01]\n",
            " [7.1216840e-01]\n",
            " [5.5362415e-01]\n",
            " [3.2206759e-01]\n",
            " [4.2768806e-01]\n",
            " [2.7799696e-01]\n",
            " [2.2012836e-01]\n",
            " [3.5676485e-01]\n",
            " [3.8011923e-01]\n",
            " [7.6722014e-01]\n",
            " [4.5951593e-01]\n",
            " [4.0291551e-01]\n",
            " [6.9811869e-01]\n",
            " [8.6578262e-01]\n",
            " [5.9344983e-01]\n",
            " [6.5450406e-01]\n",
            " [2.9100746e-01]\n",
            " [8.7122750e-01]\n",
            " [6.2877464e-01]\n",
            " [8.5360837e-01]\n",
            " [4.1415119e-01]\n",
            " [4.4596848e-01]\n",
            " [7.1281987e-01]\n",
            " [8.3234477e-01]\n",
            " [5.5802208e-01]\n",
            " [6.4839041e-01]\n",
            " [4.4951457e-01]\n",
            " [5.2456713e-01]\n",
            " [8.4454852e-01]\n",
            " [2.9640472e-01]\n",
            " [9.3554044e-01]\n",
            " [3.6202151e-01]\n",
            " [7.4714315e-01]\n",
            " [5.6788254e-01]\n",
            " [5.1675647e-01]\n",
            " [5.0776929e-01]\n",
            " [2.4872026e-01]]\n",
            "[1, 1, 1, 0, 0, 0, 0, 1, 1, 0, 1, 0, 0, 1, 0, 1, 0, 1, 1, 0, 1, 1, 0, 1, 1, 1, 0, 1, 1, 1, 0, 1, 1, 1, 1, 1, 0, 0, 0, 1, 1, 1, 1, 0, 1, 0, 0, 1, 1, 0, 1, 0, 0, 1, 1, 1, 0, 0, 1, 1, 1, 0, 0, 0, 1, 1, 0, 0, 0, 0, 0, 0, 1, 0, 0, 1, 1, 1, 1, 0, 1, 1, 1, 0, 0, 1, 1, 1, 1, 0, 1, 1, 0, 1, 0, 1, 1, 1, 1, 0]\n"
          ]
        }
      ]
    },
    {
      "cell_type": "code",
      "source": [
        "df_submission = pd.DataFrame(df_test['Id'])\n",
        "df_submission['Class'] = final_predictions"
      ],
      "metadata": {
        "id": "CpXHjcf1p4x_"
      },
      "execution_count": 48,
      "outputs": []
    },
    {
      "cell_type": "code",
      "source": [
        "df_submission.to_csv('/content/test-predictions.csv', index=False)"
      ],
      "metadata": {
        "id": "41GqlnyRqzD7"
      },
      "execution_count": 49,
      "outputs": []
    },
    {
      "cell_type": "code",
      "source": [
        "Test_pred=pd.read_csv('/content/test-predictions.csv')\n",
        "Test_pred"
      ],
      "metadata": {
        "id": "KLNBMmdmrNcS",
        "colab": {
          "base_uri": "https://localhost:8080/",
          "height": 424
        },
        "outputId": "2f8c9726-4545-490a-a4ec-afc2a955c8ff"
      },
      "execution_count": 50,
      "outputs": [
        {
          "output_type": "execute_result",
          "data": {
            "text/html": [
              "\n",
              "  <div id=\"df-7bdc74b1-9c09-4b66-ae39-706ee22ef0b5\">\n",
              "    <div class=\"colab-df-container\">\n",
              "      <div>\n",
              "<style scoped>\n",
              "    .dataframe tbody tr th:only-of-type {\n",
              "        vertical-align: middle;\n",
              "    }\n",
              "\n",
              "    .dataframe tbody tr th {\n",
              "        vertical-align: top;\n",
              "    }\n",
              "\n",
              "    .dataframe thead th {\n",
              "        text-align: right;\n",
              "    }\n",
              "</style>\n",
              "<table border=\"1\" class=\"dataframe\">\n",
              "  <thead>\n",
              "    <tr style=\"text-align: right;\">\n",
              "      <th></th>\n",
              "      <th>Id</th>\n",
              "      <th>Class</th>\n",
              "    </tr>\n",
              "  </thead>\n",
              "  <tbody>\n",
              "    <tr>\n",
              "      <th>0</th>\n",
              "      <td>1</td>\n",
              "      <td>1</td>\n",
              "    </tr>\n",
              "    <tr>\n",
              "      <th>1</th>\n",
              "      <td>2</td>\n",
              "      <td>1</td>\n",
              "    </tr>\n",
              "    <tr>\n",
              "      <th>2</th>\n",
              "      <td>3</td>\n",
              "      <td>1</td>\n",
              "    </tr>\n",
              "    <tr>\n",
              "      <th>3</th>\n",
              "      <td>4</td>\n",
              "      <td>0</td>\n",
              "    </tr>\n",
              "    <tr>\n",
              "      <th>4</th>\n",
              "      <td>5</td>\n",
              "      <td>0</td>\n",
              "    </tr>\n",
              "    <tr>\n",
              "      <th>...</th>\n",
              "      <td>...</td>\n",
              "      <td>...</td>\n",
              "    </tr>\n",
              "    <tr>\n",
              "      <th>95</th>\n",
              "      <td>96</td>\n",
              "      <td>1</td>\n",
              "    </tr>\n",
              "    <tr>\n",
              "      <th>96</th>\n",
              "      <td>97</td>\n",
              "      <td>1</td>\n",
              "    </tr>\n",
              "    <tr>\n",
              "      <th>97</th>\n",
              "      <td>98</td>\n",
              "      <td>1</td>\n",
              "    </tr>\n",
              "    <tr>\n",
              "      <th>98</th>\n",
              "      <td>99</td>\n",
              "      <td>1</td>\n",
              "    </tr>\n",
              "    <tr>\n",
              "      <th>99</th>\n",
              "      <td>100</td>\n",
              "      <td>0</td>\n",
              "    </tr>\n",
              "  </tbody>\n",
              "</table>\n",
              "<p>100 rows × 2 columns</p>\n",
              "</div>\n",
              "      <button class=\"colab-df-convert\" onclick=\"convertToInteractive('df-7bdc74b1-9c09-4b66-ae39-706ee22ef0b5')\"\n",
              "              title=\"Convert this dataframe to an interactive table.\"\n",
              "              style=\"display:none;\">\n",
              "        \n",
              "  <svg xmlns=\"http://www.w3.org/2000/svg\" height=\"24px\"viewBox=\"0 0 24 24\"\n",
              "       width=\"24px\">\n",
              "    <path d=\"M0 0h24v24H0V0z\" fill=\"none\"/>\n",
              "    <path d=\"M18.56 5.44l.94 2.06.94-2.06 2.06-.94-2.06-.94-.94-2.06-.94 2.06-2.06.94zm-11 1L8.5 8.5l.94-2.06 2.06-.94-2.06-.94L8.5 2.5l-.94 2.06-2.06.94zm10 10l.94 2.06.94-2.06 2.06-.94-2.06-.94-.94-2.06-.94 2.06-2.06.94z\"/><path d=\"M17.41 7.96l-1.37-1.37c-.4-.4-.92-.59-1.43-.59-.52 0-1.04.2-1.43.59L10.3 9.45l-7.72 7.72c-.78.78-.78 2.05 0 2.83L4 21.41c.39.39.9.59 1.41.59.51 0 1.02-.2 1.41-.59l7.78-7.78 2.81-2.81c.8-.78.8-2.07 0-2.86zM5.41 20L4 18.59l7.72-7.72 1.47 1.35L5.41 20z\"/>\n",
              "  </svg>\n",
              "      </button>\n",
              "      \n",
              "  <style>\n",
              "    .colab-df-container {\n",
              "      display:flex;\n",
              "      flex-wrap:wrap;\n",
              "      gap: 12px;\n",
              "    }\n",
              "\n",
              "    .colab-df-convert {\n",
              "      background-color: #E8F0FE;\n",
              "      border: none;\n",
              "      border-radius: 50%;\n",
              "      cursor: pointer;\n",
              "      display: none;\n",
              "      fill: #1967D2;\n",
              "      height: 32px;\n",
              "      padding: 0 0 0 0;\n",
              "      width: 32px;\n",
              "    }\n",
              "\n",
              "    .colab-df-convert:hover {\n",
              "      background-color: #E2EBFA;\n",
              "      box-shadow: 0px 1px 2px rgba(60, 64, 67, 0.3), 0px 1px 3px 1px rgba(60, 64, 67, 0.15);\n",
              "      fill: #174EA6;\n",
              "    }\n",
              "\n",
              "    [theme=dark] .colab-df-convert {\n",
              "      background-color: #3B4455;\n",
              "      fill: #D2E3FC;\n",
              "    }\n",
              "\n",
              "    [theme=dark] .colab-df-convert:hover {\n",
              "      background-color: #434B5C;\n",
              "      box-shadow: 0px 1px 3px 1px rgba(0, 0, 0, 0.15);\n",
              "      filter: drop-shadow(0px 1px 2px rgba(0, 0, 0, 0.3));\n",
              "      fill: #FFFFFF;\n",
              "    }\n",
              "  </style>\n",
              "\n",
              "      <script>\n",
              "        const buttonEl =\n",
              "          document.querySelector('#df-7bdc74b1-9c09-4b66-ae39-706ee22ef0b5 button.colab-df-convert');\n",
              "        buttonEl.style.display =\n",
              "          google.colab.kernel.accessAllowed ? 'block' : 'none';\n",
              "\n",
              "        async function convertToInteractive(key) {\n",
              "          const element = document.querySelector('#df-7bdc74b1-9c09-4b66-ae39-706ee22ef0b5');\n",
              "          const dataTable =\n",
              "            await google.colab.kernel.invokeFunction('convertToInteractive',\n",
              "                                                     [key], {});\n",
              "          if (!dataTable) return;\n",
              "\n",
              "          const docLinkHtml = 'Like what you see? Visit the ' +\n",
              "            '<a target=\"_blank\" href=https://colab.research.google.com/notebooks/data_table.ipynb>data table notebook</a>'\n",
              "            + ' to learn more about interactive tables.';\n",
              "          element.innerHTML = '';\n",
              "          dataTable['output_type'] = 'display_data';\n",
              "          await google.colab.output.renderOutput(dataTable, element);\n",
              "          const docLink = document.createElement('div');\n",
              "          docLink.innerHTML = docLinkHtml;\n",
              "          element.appendChild(docLink);\n",
              "        }\n",
              "      </script>\n",
              "    </div>\n",
              "  </div>\n",
              "  "
            ],
            "text/plain": [
              "     Id  Class\n",
              "0     1      1\n",
              "1     2      1\n",
              "2     3      1\n",
              "3     4      0\n",
              "4     5      0\n",
              "..  ...    ...\n",
              "95   96      1\n",
              "96   97      1\n",
              "97   98      1\n",
              "98   99      1\n",
              "99  100      0\n",
              "\n",
              "[100 rows x 2 columns]"
            ]
          },
          "metadata": {},
          "execution_count": 50
        }
      ]
    },
    {
      "cell_type": "code",
      "source": [
        "# Summarise class details\n",
        "sns.countplot(x=Test_pred['Class'])"
      ],
      "metadata": {
        "colab": {
          "base_uri": "https://localhost:8080/",
          "height": 297
        },
        "id": "HHnse9aIc-78",
        "outputId": "5cc05bf2-3f74-43ed-b3da-40a7701dc42d"
      },
      "execution_count": 53,
      "outputs": [
        {
          "output_type": "execute_result",
          "data": {
            "text/plain": [
              "<matplotlib.axes._subplots.AxesSubplot at 0x7ff34e781cd0>"
            ]
          },
          "metadata": {},
          "execution_count": 53
        },
        {
          "output_type": "display_data",
          "data": {
            "image/png": "[encoded data removed]",
            "text/plain": [
              "<Figure size 432x288 with 1 Axes>"
            ]
          },
          "metadata": {
            "needs_background": "light"
          }
        }
      ]
    },
    {
      "cell_type": "code",
      "source": [
        "Test_pred[\"Class\"].value_counts().plot(kind =\"pie\", autopct='%1.1f%%', figsize=(7,7));"
      ],
      "metadata": {
        "colab": {
          "base_uri": "https://localhost:8080/",
          "height": 411
        },
        "id": "LxCvOZl7dB1Q",
        "outputId": "734c037b-4ec9-4543-8ba0-c81fe8e23787"
      },
      "execution_count": 52,
      "outputs": [
        {
          "output_type": "display_data",
          "data": {
            "image/png": "[encoded data removed]",
            "text/plain": [
              "<Figure size 504x504 with 1 Axes>"
            ]
          },
          "metadata": {}
        }
      ]
    }
  ]
}