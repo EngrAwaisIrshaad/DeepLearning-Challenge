{
  "nbformat": 4,
  "nbformat_minor": 0,
  "metadata": {
    "colab": {
      "name": "Copy_of_DeepLearning_Challenge.ipynb",
      "provenance": [],
      "collapsed_sections": [],
      "include_colab_link": true
    },
    "kernelspec": {
      "name": "python3",
      "display_name": "Python 3"
    },
    "language_info": {
      "name": "python"
    }
  },
  "cells": [
    {
      "cell_type": "markdown",
      "metadata": {
        "id": "view-in-github",
        "colab_type": "text"
      },
      "source": [
        "<a href=\"https://colab.research.google.com/github/Megacity1/DeepLearning-Challenge/blob/main/Copy_of_DeepLearning_Challenge.ipynb\" target=\"_parent\"><img src=\"https://colab.research.google.com/assets/colab-badge.svg\" alt=\"Open In Colab\"/></a>"
      ]
    },
    {
      "cell_type": "code",
      "execution_count": 41,
      "metadata": {
        "id": "jWQOKO3zQVCr"
      },
      "outputs": [],
      "source": [
        ""
      ]
    },
    {
      "cell_type": "code",
      "execution_count": 42,
      "metadata": {
        "id": "J5lMtoAIW36P"
      },
      "outputs": [],
      "source": [
        "#Importing all the necessary libraries\n",
        "import pandas as pd\n",
        "import numpy as np\n",
        "import seaborn as sns\n",
        "import matplotlib.pyplot as plt\n",
        "from sklearn.preprocessing import normalize\n",
        "\n",
        "from sklearn.preprocessing import LabelEncoder\n",
        "from sklearn.model_selection import train_test_split\n",
        "\n",
        "from keras.models import Sequential\n",
        "from keras.layers import Dense\n",
        "\n",
        "from sklearn import metrics   \n",
        "\n",
        "from tensorflow.keras.layers import Dropout\n",
        "import tensorflow as tf"
      ]
    },
    {
      "cell_type": "code",
      "source": [
        "#Complete description of the provided dataset\n"
      ],
      "metadata": {
        "id": "82cDgqLPXSZR"
      },
      "execution_count": 43,
      "outputs": []
    },
    {
      "cell_type": "markdown",
      "source": [
        "### **Dataset Description**\n",
        "*   A1 - Number of times pregnant\n",
        "*   A2 - Plasma glucose concentration a 2 hours in an\n",
        "oral glucose tolerance test\n",
        "*   A3 - Diastolic blood pressure (mm Hg)\n",
        "*   A4 - Triceps skin fold thickness (mm)\n",
        "*   A5 - 2-Hour serum insulin (mu U/ml)\n",
        "*   A6 - Body mass index (weight in kg/(height in m)^2)\n",
        "*   A7 - Diabetes pedigree function\n",
        "*   A8 - Age (years)\n",
        "\n"
      ],
      "metadata": {
        "id": "_KKo36aTnM2f"
      }
    },
    {
      "cell_type": "code",
      "source": [
        "#Import training data file\n"
      ],
      "metadata": {
        "id": "bqtUH2XZXmIA"
      },
      "execution_count": 44,
      "outputs": []
    },
    {
      "cell_type": "code",
      "source": [
        "data = pd.read_csv('/content/train.csv')\n",
        "data"
      ],
      "metadata": {
        "colab": {
          "base_uri": "https://localhost:8080/",
          "height": 424
        },
        "id": "dXhbKLxjX8h-",
        "outputId": "7f4ce5d4-b45a-4b45-a1b9-261790e11afb"
      },
      "execution_count": 45,
      "outputs": [
        {
          "output_type": "execute_result",
          "data": {
            "text/html": [
              "\n",
              "  <div id=\"df-7fb54d78-55cc-450c-bbfe-079624fc10d0\">\n",
              "    <div class=\"colab-df-container\">\n",
              "      <div>\n",
              "<style scoped>\n",
              "    .dataframe tbody tr th:only-of-type {\n",
              "        vertical-align: middle;\n",
              "    }\n",
              "\n",
              "    .dataframe tbody tr th {\n",
              "        vertical-align: top;\n",
              "    }\n",
              "\n",
              "    .dataframe thead th {\n",
              "        text-align: right;\n",
              "    }\n",
              "</style>\n",
              "<table border=\"1\" class=\"dataframe\">\n",
              "  <thead>\n",
              "    <tr style=\"text-align: right;\">\n",
              "      <th></th>\n",
              "      <th>Id</th>\n",
              "      <th>A1</th>\n",
              "      <th>A2</th>\n",
              "      <th>A3</th>\n",
              "      <th>A4</th>\n",
              "      <th>A5</th>\n",
              "      <th>A6</th>\n",
              "      <th>A7</th>\n",
              "      <th>A8</th>\n",
              "      <th>Class</th>\n",
              "    </tr>\n",
              "  </thead>\n",
              "  <tbody>\n",
              "    <tr>\n",
              "      <th>0</th>\n",
              "      <td>1</td>\n",
              "      <td>6</td>\n",
              "      <td>148</td>\n",
              "      <td>72</td>\n",
              "      <td>35</td>\n",
              "      <td>0</td>\n",
              "      <td>33.6</td>\n",
              "      <td>0.627</td>\n",
              "      <td>50</td>\n",
              "      <td>1</td>\n",
              "    </tr>\n",
              "    <tr>\n",
              "      <th>1</th>\n",
              "      <td>2</td>\n",
              "      <td>1</td>\n",
              "      <td>85</td>\n",
              "      <td>66</td>\n",
              "      <td>29</td>\n",
              "      <td>0</td>\n",
              "      <td>26.6</td>\n",
              "      <td>0.351</td>\n",
              "      <td>31</td>\n",
              "      <td>0</td>\n",
              "    </tr>\n",
              "    <tr>\n",
              "      <th>2</th>\n",
              "      <td>3</td>\n",
              "      <td>8</td>\n",
              "      <td>183</td>\n",
              "      <td>64</td>\n",
              "      <td>0</td>\n",
              "      <td>0</td>\n",
              "      <td>23.3</td>\n",
              "      <td>0.672</td>\n",
              "      <td>32</td>\n",
              "      <td>1</td>\n",
              "    </tr>\n",
              "    <tr>\n",
              "      <th>3</th>\n",
              "      <td>4</td>\n",
              "      <td>1</td>\n",
              "      <td>89</td>\n",
              "      <td>66</td>\n",
              "      <td>23</td>\n",
              "      <td>94</td>\n",
              "      <td>28.1</td>\n",
              "      <td>0.167</td>\n",
              "      <td>21</td>\n",
              "      <td>0</td>\n",
              "    </tr>\n",
              "    <tr>\n",
              "      <th>4</th>\n",
              "      <td>5</td>\n",
              "      <td>0</td>\n",
              "      <td>137</td>\n",
              "      <td>40</td>\n",
              "      <td>35</td>\n",
              "      <td>168</td>\n",
              "      <td>43.1</td>\n",
              "      <td>2.288</td>\n",
              "      <td>33</td>\n",
              "      <td>1</td>\n",
              "    </tr>\n",
              "    <tr>\n",
              "      <th>...</th>\n",
              "      <td>...</td>\n",
              "      <td>...</td>\n",
              "      <td>...</td>\n",
              "      <td>...</td>\n",
              "      <td>...</td>\n",
              "      <td>...</td>\n",
              "      <td>...</td>\n",
              "      <td>...</td>\n",
              "      <td>...</td>\n",
              "      <td>...</td>\n",
              "    </tr>\n",
              "    <tr>\n",
              "      <th>663</th>\n",
              "      <td>664</td>\n",
              "      <td>9</td>\n",
              "      <td>145</td>\n",
              "      <td>80</td>\n",
              "      <td>46</td>\n",
              "      <td>130</td>\n",
              "      <td>37.9</td>\n",
              "      <td>0.637</td>\n",
              "      <td>40</td>\n",
              "      <td>1</td>\n",
              "    </tr>\n",
              "    <tr>\n",
              "      <th>664</th>\n",
              "      <td>665</td>\n",
              "      <td>6</td>\n",
              "      <td>115</td>\n",
              "      <td>60</td>\n",
              "      <td>39</td>\n",
              "      <td>0</td>\n",
              "      <td>33.7</td>\n",
              "      <td>0.245</td>\n",
              "      <td>40</td>\n",
              "      <td>1</td>\n",
              "    </tr>\n",
              "    <tr>\n",
              "      <th>665</th>\n",
              "      <td>666</td>\n",
              "      <td>1</td>\n",
              "      <td>112</td>\n",
              "      <td>80</td>\n",
              "      <td>45</td>\n",
              "      <td>132</td>\n",
              "      <td>34.8</td>\n",
              "      <td>0.217</td>\n",
              "      <td>24</td>\n",
              "      <td>0</td>\n",
              "    </tr>\n",
              "    <tr>\n",
              "      <th>666</th>\n",
              "      <td>667</td>\n",
              "      <td>4</td>\n",
              "      <td>145</td>\n",
              "      <td>82</td>\n",
              "      <td>18</td>\n",
              "      <td>0</td>\n",
              "      <td>32.5</td>\n",
              "      <td>0.235</td>\n",
              "      <td>70</td>\n",
              "      <td>1</td>\n",
              "    </tr>\n",
              "    <tr>\n",
              "      <th>667</th>\n",
              "      <td>668</td>\n",
              "      <td>10</td>\n",
              "      <td>111</td>\n",
              "      <td>70</td>\n",
              "      <td>27</td>\n",
              "      <td>0</td>\n",
              "      <td>27.5</td>\n",
              "      <td>0.141</td>\n",
              "      <td>40</td>\n",
              "      <td>1</td>\n",
              "    </tr>\n",
              "  </tbody>\n",
              "</table>\n",
              "<p>668 rows × 10 columns</p>\n",
              "</div>\n",
              "      <button class=\"colab-df-convert\" onclick=\"convertToInteractive('df-7fb54d78-55cc-450c-bbfe-079624fc10d0')\"\n",
              "              title=\"Convert this dataframe to an interactive table.\"\n",
              "              style=\"display:none;\">\n",
              "        \n",
              "  <svg xmlns=\"http://www.w3.org/2000/svg\" height=\"24px\"viewBox=\"0 0 24 24\"\n",
              "       width=\"24px\">\n",
              "    <path d=\"M0 0h24v24H0V0z\" fill=\"none\"/>\n",
              "    <path d=\"M18.56 5.44l.94 2.06.94-2.06 2.06-.94-2.06-.94-.94-2.06-.94 2.06-2.06.94zm-11 1L8.5 8.5l.94-2.06 2.06-.94-2.06-.94L8.5 2.5l-.94 2.06-2.06.94zm10 10l.94 2.06.94-2.06 2.06-.94-2.06-.94-.94-2.06-.94 2.06-2.06.94z\"/><path d=\"M17.41 7.96l-1.37-1.37c-.4-.4-.92-.59-1.43-.59-.52 0-1.04.2-1.43.59L10.3 9.45l-7.72 7.72c-.78.78-.78 2.05 0 2.83L4 21.41c.39.39.9.59 1.41.59.51 0 1.02-.2 1.41-.59l7.78-7.78 2.81-2.81c.8-.78.8-2.07 0-2.86zM5.41 20L4 18.59l7.72-7.72 1.47 1.35L5.41 20z\"/>\n",
              "  </svg>\n",
              "      </button>\n",
              "      \n",
              "  <style>\n",
              "    .colab-df-container {\n",
              "      display:flex;\n",
              "      flex-wrap:wrap;\n",
              "      gap: 12px;\n",
              "    }\n",
              "\n",
              "    .colab-df-convert {\n",
              "      background-color: #E8F0FE;\n",
              "      border: none;\n",
              "      border-radius: 50%;\n",
              "      cursor: pointer;\n",
              "      display: none;\n",
              "      fill: #1967D2;\n",
              "      height: 32px;\n",
              "      padding: 0 0 0 0;\n",
              "      width: 32px;\n",
              "    }\n",
              "\n",
              "    .colab-df-convert:hover {\n",
              "      background-color: #E2EBFA;\n",
              "      box-shadow: 0px 1px 2px rgba(60, 64, 67, 0.3), 0px 1px 3px 1px rgba(60, 64, 67, 0.15);\n",
              "      fill: #174EA6;\n",
              "    }\n",
              "\n",
              "    [theme=dark] .colab-df-convert {\n",
              "      background-color: #3B4455;\n",
              "      fill: #D2E3FC;\n",
              "    }\n",
              "\n",
              "    [theme=dark] .colab-df-convert:hover {\n",
              "      background-color: #434B5C;\n",
              "      box-shadow: 0px 1px 3px 1px rgba(0, 0, 0, 0.15);\n",
              "      filter: drop-shadow(0px 1px 2px rgba(0, 0, 0, 0.3));\n",
              "      fill: #FFFFFF;\n",
              "    }\n",
              "  </style>\n",
              "\n",
              "      <script>\n",
              "        const buttonEl =\n",
              "          document.querySelector('#df-7fb54d78-55cc-450c-bbfe-079624fc10d0 button.colab-df-convert');\n",
              "        buttonEl.style.display =\n",
              "          google.colab.kernel.accessAllowed ? 'block' : 'none';\n",
              "\n",
              "        async function convertToInteractive(key) {\n",
              "          const element = document.querySelector('#df-7fb54d78-55cc-450c-bbfe-079624fc10d0');\n",
              "          const dataTable =\n",
              "            await google.colab.kernel.invokeFunction('convertToInteractive',\n",
              "                                                     [key], {});\n",
              "          if (!dataTable) return;\n",
              "\n",
              "          const docLinkHtml = 'Like what you see? Visit the ' +\n",
              "            '<a target=\"_blank\" href=https://colab.research.google.com/notebooks/data_table.ipynb>data table notebook</a>'\n",
              "            + ' to learn more about interactive tables.';\n",
              "          element.innerHTML = '';\n",
              "          dataTable['output_type'] = 'display_data';\n",
              "          await google.colab.output.renderOutput(dataTable, element);\n",
              "          const docLink = document.createElement('div');\n",
              "          docLink.innerHTML = docLinkHtml;\n",
              "          element.appendChild(docLink);\n",
              "        }\n",
              "      </script>\n",
              "    </div>\n",
              "  </div>\n",
              "  "
            ],
            "text/plain": [
              "      Id  A1   A2  A3  A4   A5    A6     A7  A8  Class\n",
              "0      1   6  148  72  35    0  33.6  0.627  50      1\n",
              "1      2   1   85  66  29    0  26.6  0.351  31      0\n",
              "2      3   8  183  64   0    0  23.3  0.672  32      1\n",
              "3      4   1   89  66  23   94  28.1  0.167  21      0\n",
              "4      5   0  137  40  35  168  43.1  2.288  33      1\n",
              "..   ...  ..  ...  ..  ..  ...   ...    ...  ..    ...\n",
              "663  664   9  145  80  46  130  37.9  0.637  40      1\n",
              "664  665   6  115  60  39    0  33.7  0.245  40      1\n",
              "665  666   1  112  80  45  132  34.8  0.217  24      0\n",
              "666  667   4  145  82  18    0  32.5  0.235  70      1\n",
              "667  668  10  111  70  27    0  27.5  0.141  40      1\n",
              "\n",
              "[668 rows x 10 columns]"
            ]
          },
          "metadata": {},
          "execution_count": 45
        }
      ]
    },
    {
      "cell_type": "code",
      "source": [
        "sns.countplot(x=data['Class'])"
      ],
      "metadata": {
        "colab": {
          "base_uri": "https://localhost:8080/",
          "height": 296
        },
        "id": "QGNqXyygZc7t",
        "outputId": "2477ea62-0aea-48f8-c3b9-68d12c51d37d"
      },
      "execution_count": 46,
      "outputs": [
        {
          "output_type": "execute_result",
          "data": {
            "text/plain": [
              "<matplotlib.axes._subplots.AxesSubplot at 0x7fae269230d0>"
            ]
          },
          "metadata": {},
          "execution_count": 46
        },
        {
          "output_type": "display_data",
          "data": {
            "image/png": "[encoded data removed]",
            "text/plain": [
              "<Figure size 432x288 with 1 Axes>"
            ]
          },
          "metadata": {
            "needs_background": "light"
          }
        }
      ]
    },
    {
      "cell_type": "markdown",
      "source": [
        "# **Splitting the datase**"
      ],
      "metadata": {
        "id": "VoI1GR7OZbci"
      }
    },
    {
      "cell_type": "code",
      "source": [
        "# Extracting labels\n",
        "ylabel = data['Class']\n",
        "ylabel = pd.Series(ylabel)\n",
        "print(ylabel.value_counts())\n",
        "\n",
        "# Removing unnecessary columns in the bove data\n",
        "Xlabel = data.drop(['Id', 'Class'], axis=1)\n",
        "print(Xlabel.info())\n",
        "Xlabel.head()"
      ],
      "metadata": {
        "colab": {
          "base_uri": "https://localhost:8080/",
          "height": 536
        },
        "id": "jVwTlQb_bFVT",
        "outputId": "7cee12e6-7587-4c4f-d4d4-ecdc19a278eb"
      },
      "execution_count": 47,
      "outputs": [
        {
          "output_type": "stream",
          "name": "stdout",
          "text": [
            "0    437\n",
            "1    231\n",
            "Name: Class, dtype: int64\n",
            "<class 'pandas.core.frame.DataFrame'>\n",
            "RangeIndex: 668 entries, 0 to 667\n",
            "Data columns (total 8 columns):\n",
            " #   Column  Non-Null Count  Dtype  \n",
            "---  ------  --------------  -----  \n",
            " 0   A1      668 non-null    int64  \n",
            " 1   A2      668 non-null    int64  \n",
            " 2   A3      668 non-null    int64  \n",
            " 3   A4      668 non-null    int64  \n",
            " 4   A5      668 non-null    int64  \n",
            " 5   A6      668 non-null    float64\n",
            " 6   A7      668 non-null    float64\n",
            " 7   A8      668 non-null    int64  \n",
            "dtypes: float64(2), int64(6)\n",
            "memory usage: 41.9 KB\n",
            "None\n"
          ]
        },
        {
          "output_type": "execute_result",
          "data": {
            "text/html": [
              "\n",
              "  <div id=\"df-e1b3a549-0820-47f5-92c5-4e374bac0920\">\n",
              "    <div class=\"colab-df-container\">\n",
              "      <div>\n",
              "<style scoped>\n",
              "    .dataframe tbody tr th:only-of-type {\n",
              "        vertical-align: middle;\n",
              "    }\n",
              "\n",
              "    .dataframe tbody tr th {\n",
              "        vertical-align: top;\n",
              "    }\n",
              "\n",
              "    .dataframe thead th {\n",
              "        text-align: right;\n",
              "    }\n",
              "</style>\n",
              "<table border=\"1\" class=\"dataframe\">\n",
              "  <thead>\n",
              "    <tr style=\"text-align: right;\">\n",
              "      <th></th>\n",
              "      <th>A1</th>\n",
              "      <th>A2</th>\n",
              "      <th>A3</th>\n",
              "      <th>A4</th>\n",
              "      <th>A5</th>\n",
              "      <th>A6</th>\n",
              "      <th>A7</th>\n",
              "      <th>A8</th>\n",
              "    </tr>\n",
              "  </thead>\n",
              "  <tbody>\n",
              "    <tr>\n",
              "      <th>0</th>\n",
              "      <td>6</td>\n",
              "      <td>148</td>\n",
              "      <td>72</td>\n",
              "      <td>35</td>\n",
              "      <td>0</td>\n",
              "      <td>33.6</td>\n",
              "      <td>0.627</td>\n",
              "      <td>50</td>\n",
              "    </tr>\n",
              "    <tr>\n",
              "      <th>1</th>\n",
              "      <td>1</td>\n",
              "      <td>85</td>\n",
              "      <td>66</td>\n",
              "      <td>29</td>\n",
              "      <td>0</td>\n",
              "      <td>26.6</td>\n",
              "      <td>0.351</td>\n",
              "      <td>31</td>\n",
              "    </tr>\n",
              "    <tr>\n",
              "      <th>2</th>\n",
              "      <td>8</td>\n",
              "      <td>183</td>\n",
              "      <td>64</td>\n",
              "      <td>0</td>\n",
              "      <td>0</td>\n",
              "      <td>23.3</td>\n",
              "      <td>0.672</td>\n",
              "      <td>32</td>\n",
              "    </tr>\n",
              "    <tr>\n",
              "      <th>3</th>\n",
              "      <td>1</td>\n",
              "      <td>89</td>\n",
              "      <td>66</td>\n",
              "      <td>23</td>\n",
              "      <td>94</td>\n",
              "      <td>28.1</td>\n",
              "      <td>0.167</td>\n",
              "      <td>21</td>\n",
              "    </tr>\n",
              "    <tr>\n",
              "      <th>4</th>\n",
              "      <td>0</td>\n",
              "      <td>137</td>\n",
              "      <td>40</td>\n",
              "      <td>35</td>\n",
              "      <td>168</td>\n",
              "      <td>43.1</td>\n",
              "      <td>2.288</td>\n",
              "      <td>33</td>\n",
              "    </tr>\n",
              "  </tbody>\n",
              "</table>\n",
              "</div>\n",
              "      <button class=\"colab-df-convert\" onclick=\"convertToInteractive('df-e1b3a549-0820-47f5-92c5-4e374bac0920')\"\n",
              "              title=\"Convert this dataframe to an interactive table.\"\n",
              "              style=\"display:none;\">\n",
              "        \n",
              "  <svg xmlns=\"http://www.w3.org/2000/svg\" height=\"24px\"viewBox=\"0 0 24 24\"\n",
              "       width=\"24px\">\n",
              "    <path d=\"M0 0h24v24H0V0z\" fill=\"none\"/>\n",
              "    <path d=\"M18.56 5.44l.94 2.06.94-2.06 2.06-.94-2.06-.94-.94-2.06-.94 2.06-2.06.94zm-11 1L8.5 8.5l.94-2.06 2.06-.94-2.06-.94L8.5 2.5l-.94 2.06-2.06.94zm10 10l.94 2.06.94-2.06 2.06-.94-2.06-.94-.94-2.06-.94 2.06-2.06.94z\"/><path d=\"M17.41 7.96l-1.37-1.37c-.4-.4-.92-.59-1.43-.59-.52 0-1.04.2-1.43.59L10.3 9.45l-7.72 7.72c-.78.78-.78 2.05 0 2.83L4 21.41c.39.39.9.59 1.41.59.51 0 1.02-.2 1.41-.59l7.78-7.78 2.81-2.81c.8-.78.8-2.07 0-2.86zM5.41 20L4 18.59l7.72-7.72 1.47 1.35L5.41 20z\"/>\n",
              "  </svg>\n",
              "      </button>\n",
              "      \n",
              "  <style>\n",
              "    .colab-df-container {\n",
              "      display:flex;\n",
              "      flex-wrap:wrap;\n",
              "      gap: 12px;\n",
              "    }\n",
              "\n",
              "    .colab-df-convert {\n",
              "      background-color: #E8F0FE;\n",
              "      border: none;\n",
              "      border-radius: 50%;\n",
              "      cursor: pointer;\n",
              "      display: none;\n",
              "      fill: #1967D2;\n",
              "      height: 32px;\n",
              "      padding: 0 0 0 0;\n",
              "      width: 32px;\n",
              "    }\n",
              "\n",
              "    .colab-df-convert:hover {\n",
              "      background-color: #E2EBFA;\n",
              "      box-shadow: 0px 1px 2px rgba(60, 64, 67, 0.3), 0px 1px 3px 1px rgba(60, 64, 67, 0.15);\n",
              "      fill: #174EA6;\n",
              "    }\n",
              "\n",
              "    [theme=dark] .colab-df-convert {\n",
              "      background-color: #3B4455;\n",
              "      fill: #D2E3FC;\n",
              "    }\n",
              "\n",
              "    [theme=dark] .colab-df-convert:hover {\n",
              "      background-color: #434B5C;\n",
              "      box-shadow: 0px 1px 3px 1px rgba(0, 0, 0, 0.15);\n",
              "      filter: drop-shadow(0px 1px 2px rgba(0, 0, 0, 0.3));\n",
              "      fill: #FFFFFF;\n",
              "    }\n",
              "  </style>\n",
              "\n",
              "      <script>\n",
              "        const buttonEl =\n",
              "          document.querySelector('#df-e1b3a549-0820-47f5-92c5-4e374bac0920 button.colab-df-convert');\n",
              "        buttonEl.style.display =\n",
              "          google.colab.kernel.accessAllowed ? 'block' : 'none';\n",
              "\n",
              "        async function convertToInteractive(key) {\n",
              "          const element = document.querySelector('#df-e1b3a549-0820-47f5-92c5-4e374bac0920');\n",
              "          const dataTable =\n",
              "            await google.colab.kernel.invokeFunction('convertToInteractive',\n",
              "                                                     [key], {});\n",
              "          if (!dataTable) return;\n",
              "\n",
              "          const docLinkHtml = 'Like what you see? Visit the ' +\n",
              "            '<a target=\"_blank\" href=https://colab.research.google.com/notebooks/data_table.ipynb>data table notebook</a>'\n",
              "            + ' to learn more about interactive tables.';\n",
              "          element.innerHTML = '';\n",
              "          dataTable['output_type'] = 'display_data';\n",
              "          await google.colab.output.renderOutput(dataTable, element);\n",
              "          const docLink = document.createElement('div');\n",
              "          docLink.innerHTML = docLinkHtml;\n",
              "          element.appendChild(docLink);\n",
              "        }\n",
              "      </script>\n",
              "    </div>\n",
              "  </div>\n",
              "  "
            ],
            "text/plain": [
              "   A1   A2  A3  A4   A5    A6     A7  A8\n",
              "0   6  148  72  35    0  33.6  0.627  50\n",
              "1   1   85  66  29    0  26.6  0.351  31\n",
              "2   8  183  64   0    0  23.3  0.672  32\n",
              "3   1   89  66  23   94  28.1  0.167  21\n",
              "4   0  137  40  35  168  43.1  2.288  33"
            ]
          },
          "metadata": {},
          "execution_count": 47
        }
      ]
    },
    {
      "cell_type": "code",
      "source": [
        "# Spliting data into train and validation sets\n",
        "X_train1, X_val1, y_train1, y_val1 = train_test_split(X, y, test_size=0.3, random_state=100)\n",
        "print(f'training data set size: {len(X_train1)}')\n",
        "print(f'validation data set size: {len(X_val1)}')"
      ],
      "metadata": {
        "id": "riQywpRcbcqH",
        "colab": {
          "base_uri": "https://localhost:8080/"
        },
        "outputId": "4d0dd90b-989b-4484-b70b-15993e20387e"
      },
      "execution_count": 48,
      "outputs": [
        {
          "output_type": "stream",
          "name": "stdout",
          "text": [
            "training data set size: 467\n",
            "validation data set size: 201\n"
          ]
        }
      ]
    },
    {
      "cell_type": "markdown",
      "source": [
        "# Build the Model "
      ],
      "metadata": {
        "id": "cGHb2kYVakl5"
      }
    },
    {
      "cell_type": "code",
      "source": [
        "# define the keras model \n",
        "model1 = Sequential()\n",
        "model1.add(Dense(units=64, input_dim=8, activation='relu'))\n",
        "model1.add(Dense(units=32, activation='relu'))\n",
        "#model1.add(Dense(units=80, activation='relu'))\n",
        "model1.add(Dense(1, activation='sigmoid'))\n",
        "\n",
        "model1.summary()"
      ],
      "metadata": {
        "id": "pFZDAuWDbhfo",
        "colab": {
          "base_uri": "https://localhost:8080/"
        },
        "outputId": "6b861be9-9b27-444b-e096-028510bf64ed"
      },
      "execution_count": 49,
      "outputs": [
        {
          "output_type": "stream",
          "name": "stdout",
          "text": [
            "Model: \"sequential_2\"\n",
            "_________________________________________________________________\n",
            " Layer (type)                Output Shape              Param #   \n",
            "=================================================================\n",
            " dense_6 (Dense)             (None, 64)                576       \n",
            "                                                                 \n",
            " dense_7 (Dense)             (None, 32)                2080      \n",
            "                                                                 \n",
            " dense_8 (Dense)             (None, 1)                 33        \n",
            "                                                                 \n",
            "=================================================================\n",
            "Total params: 2,689\n",
            "Trainable params: 2,689\n",
            "Non-trainable params: 0\n",
            "_________________________________________________________________\n"
          ]
        }
      ]
    },
    {
      "cell_type": "code",
      "source": [
        "# Using keras model as a compiling\n",
        "import tensorflow as tf\n",
        "# create an optimiser object and set the learning rate\n",
        "opt = tf.keras.optimizers.Adam(learning_rate=0.01)\n"
      ],
      "metadata": {
        "id": "c7qzW6BpbjhA"
      },
      "execution_count": 50,
      "outputs": []
    },
    {
      "cell_type": "code",
      "source": [
        "# Compile the model with the optimiser object\n",
        "model1.compile(loss='binary_crossentropy', optimizer=opt, metrics=['accuracy'])"
      ],
      "metadata": {
        "id": "Jqd_boQum6jt"
      },
      "execution_count": 51,
      "outputs": []
    },
    {
      "cell_type": "code",
      "source": [
        "# training model\n",
        "history = model1.fit(X_train1, y_train1, batch_size=10, epochs=60, validation_data=(X_val1, y_val1))\n",
        "\n"
      ],
      "metadata": {
        "id": "9SvBvzI8blby",
        "colab": {
          "base_uri": "https://localhost:8080/"
        },
        "outputId": "b50101e8-a993-46b1-b8ab-495c4509501f"
      },
      "execution_count": 52,
      "outputs": [
        {
          "output_type": "stream",
          "name": "stdout",
          "text": [
            "Epoch 1/60\n",
            "47/47 [==============================] - 1s 8ms/step - loss: 2.6675 - accuracy: 0.5974 - val_loss: 1.2845 - val_accuracy: 0.4030\n",
            "Epoch 2/60\n",
            "47/47 [==============================] - 0s 4ms/step - loss: 0.8047 - accuracy: 0.6445 - val_loss: 0.7724 - val_accuracy: 0.6169\n",
            "Epoch 3/60\n",
            "47/47 [==============================] - 0s 3ms/step - loss: 0.7381 - accuracy: 0.6188 - val_loss: 0.6201 - val_accuracy: 0.6866\n",
            "Epoch 4/60\n",
            "47/47 [==============================] - 0s 3ms/step - loss: 0.6321 - accuracy: 0.6595 - val_loss: 0.7287 - val_accuracy: 0.6517\n",
            "Epoch 5/60\n",
            "47/47 [==============================] - 0s 3ms/step - loss: 0.6173 - accuracy: 0.6617 - val_loss: 0.7409 - val_accuracy: 0.6318\n",
            "Epoch 6/60\n",
            "47/47 [==============================] - 0s 5ms/step - loss: 0.6285 - accuracy: 0.6595 - val_loss: 0.6088 - val_accuracy: 0.6766\n",
            "Epoch 7/60\n",
            "47/47 [==============================] - 0s 4ms/step - loss: 0.5980 - accuracy: 0.7024 - val_loss: 0.5972 - val_accuracy: 0.7164\n",
            "Epoch 8/60\n",
            "47/47 [==============================] - 0s 4ms/step - loss: 0.5858 - accuracy: 0.6788 - val_loss: 0.6287 - val_accuracy: 0.6866\n",
            "Epoch 9/60\n",
            "47/47 [==============================] - 0s 5ms/step - loss: 0.6175 - accuracy: 0.6767 - val_loss: 0.6156 - val_accuracy: 0.7015\n",
            "Epoch 10/60\n",
            "47/47 [==============================] - 0s 5ms/step - loss: 0.5758 - accuracy: 0.7173 - val_loss: 0.6185 - val_accuracy: 0.7164\n",
            "Epoch 11/60\n",
            "47/47 [==============================] - 0s 5ms/step - loss: 0.5769 - accuracy: 0.6981 - val_loss: 0.5722 - val_accuracy: 0.7264\n",
            "Epoch 12/60\n",
            "47/47 [==============================] - 0s 5ms/step - loss: 0.5663 - accuracy: 0.7152 - val_loss: 0.6001 - val_accuracy: 0.7264\n",
            "Epoch 13/60\n",
            "47/47 [==============================] - 0s 4ms/step - loss: 0.5636 - accuracy: 0.7152 - val_loss: 0.6143 - val_accuracy: 0.7214\n",
            "Epoch 14/60\n",
            "47/47 [==============================] - 0s 4ms/step - loss: 0.5780 - accuracy: 0.6916 - val_loss: 0.6143 - val_accuracy: 0.7363\n",
            "Epoch 15/60\n",
            "47/47 [==============================] - 0s 3ms/step - loss: 0.5796 - accuracy: 0.7045 - val_loss: 0.5854 - val_accuracy: 0.7264\n",
            "Epoch 16/60\n",
            "47/47 [==============================] - 0s 4ms/step - loss: 0.5528 - accuracy: 0.7259 - val_loss: 0.5731 - val_accuracy: 0.7512\n",
            "Epoch 17/60\n",
            "47/47 [==============================] - 0s 5ms/step - loss: 0.5498 - accuracy: 0.7409 - val_loss: 0.5744 - val_accuracy: 0.7463\n",
            "Epoch 18/60\n",
            "47/47 [==============================] - 0s 4ms/step - loss: 0.5587 - accuracy: 0.7366 - val_loss: 0.5916 - val_accuracy: 0.7512\n",
            "Epoch 19/60\n",
            "47/47 [==============================] - 0s 3ms/step - loss: 0.5578 - accuracy: 0.7045 - val_loss: 0.5933 - val_accuracy: 0.7463\n",
            "Epoch 20/60\n",
            "47/47 [==============================] - 0s 3ms/step - loss: 0.5723 - accuracy: 0.7152 - val_loss: 0.5935 - val_accuracy: 0.7313\n",
            "Epoch 21/60\n",
            "47/47 [==============================] - 0s 4ms/step - loss: 0.5688 - accuracy: 0.7109 - val_loss: 0.5868 - val_accuracy: 0.7512\n",
            "Epoch 22/60\n",
            "47/47 [==============================] - 0s 4ms/step - loss: 0.5581 - accuracy: 0.7173 - val_loss: 0.5674 - val_accuracy: 0.7363\n",
            "Epoch 23/60\n",
            "47/47 [==============================] - 0s 4ms/step - loss: 0.5463 - accuracy: 0.7216 - val_loss: 0.5792 - val_accuracy: 0.7562\n",
            "Epoch 24/60\n",
            "47/47 [==============================] - 0s 4ms/step - loss: 0.5323 - accuracy: 0.7345 - val_loss: 0.5815 - val_accuracy: 0.7363\n",
            "Epoch 25/60\n",
            "47/47 [==============================] - 0s 4ms/step - loss: 0.5546 - accuracy: 0.7131 - val_loss: 0.5966 - val_accuracy: 0.7363\n",
            "Epoch 26/60\n",
            "47/47 [==============================] - 0s 4ms/step - loss: 0.5455 - accuracy: 0.7173 - val_loss: 0.5571 - val_accuracy: 0.7711\n",
            "Epoch 27/60\n",
            "47/47 [==============================] - 0s 4ms/step - loss: 0.5481 - accuracy: 0.7109 - val_loss: 0.5783 - val_accuracy: 0.7562\n",
            "Epoch 28/60\n",
            "47/47 [==============================] - 0s 3ms/step - loss: 0.5497 - accuracy: 0.7238 - val_loss: 0.6374 - val_accuracy: 0.7214\n",
            "Epoch 29/60\n",
            "47/47 [==============================] - 0s 4ms/step - loss: 0.5591 - accuracy: 0.7152 - val_loss: 0.5806 - val_accuracy: 0.7363\n",
            "Epoch 30/60\n",
            "47/47 [==============================] - 0s 4ms/step - loss: 0.5594 - accuracy: 0.7259 - val_loss: 0.6041 - val_accuracy: 0.7214\n",
            "Epoch 31/60\n",
            "47/47 [==============================] - 0s 4ms/step - loss: 0.5472 - accuracy: 0.7066 - val_loss: 0.5704 - val_accuracy: 0.7512\n",
            "Epoch 32/60\n",
            "47/47 [==============================] - 0s 3ms/step - loss: 0.5420 - accuracy: 0.7430 - val_loss: 0.5870 - val_accuracy: 0.7363\n",
            "Epoch 33/60\n",
            "47/47 [==============================] - 0s 4ms/step - loss: 0.5441 - accuracy: 0.7345 - val_loss: 0.6021 - val_accuracy: 0.7512\n",
            "Epoch 34/60\n",
            "47/47 [==============================] - 0s 4ms/step - loss: 0.5541 - accuracy: 0.7345 - val_loss: 0.5586 - val_accuracy: 0.7562\n",
            "Epoch 35/60\n",
            "47/47 [==============================] - 0s 4ms/step - loss: 0.5294 - accuracy: 0.7238 - val_loss: 0.6087 - val_accuracy: 0.7612\n",
            "Epoch 36/60\n",
            "47/47 [==============================] - 0s 5ms/step - loss: 0.5441 - accuracy: 0.7259 - val_loss: 0.5703 - val_accuracy: 0.7562\n",
            "Epoch 37/60\n",
            "47/47 [==============================] - 0s 5ms/step - loss: 0.5465 - accuracy: 0.7281 - val_loss: 0.5570 - val_accuracy: 0.7861\n",
            "Epoch 38/60\n",
            "47/47 [==============================] - 0s 4ms/step - loss: 0.5301 - accuracy: 0.7430 - val_loss: 0.5664 - val_accuracy: 0.7612\n",
            "Epoch 39/60\n",
            "47/47 [==============================] - 0s 4ms/step - loss: 0.5469 - accuracy: 0.7195 - val_loss: 0.6086 - val_accuracy: 0.7562\n",
            "Epoch 40/60\n",
            "47/47 [==============================] - 0s 4ms/step - loss: 0.5389 - accuracy: 0.7323 - val_loss: 0.5901 - val_accuracy: 0.7363\n",
            "Epoch 41/60\n",
            "47/47 [==============================] - 0s 4ms/step - loss: 0.5449 - accuracy: 0.7281 - val_loss: 0.5691 - val_accuracy: 0.7662\n",
            "Epoch 42/60\n",
            "47/47 [==============================] - 0s 4ms/step - loss: 0.5316 - accuracy: 0.7238 - val_loss: 0.5621 - val_accuracy: 0.7761\n",
            "Epoch 43/60\n",
            "47/47 [==============================] - 0s 3ms/step - loss: 0.5166 - accuracy: 0.7473 - val_loss: 0.5558 - val_accuracy: 0.7463\n",
            "Epoch 44/60\n",
            "47/47 [==============================] - 0s 4ms/step - loss: 0.5250 - accuracy: 0.7366 - val_loss: 0.6073 - val_accuracy: 0.6965\n",
            "Epoch 45/60\n",
            "47/47 [==============================] - 0s 4ms/step - loss: 0.5280 - accuracy: 0.7409 - val_loss: 0.5880 - val_accuracy: 0.7512\n",
            "Epoch 46/60\n",
            "47/47 [==============================] - 0s 4ms/step - loss: 0.5452 - accuracy: 0.7366 - val_loss: 0.6032 - val_accuracy: 0.7214\n",
            "Epoch 47/60\n",
            "47/47 [==============================] - 0s 4ms/step - loss: 0.5237 - accuracy: 0.7409 - val_loss: 0.5925 - val_accuracy: 0.7065\n",
            "Epoch 48/60\n",
            "47/47 [==============================] - 0s 4ms/step - loss: 0.5291 - accuracy: 0.7259 - val_loss: 0.5576 - val_accuracy: 0.7612\n",
            "Epoch 49/60\n",
            "47/47 [==============================] - 0s 4ms/step - loss: 0.5208 - accuracy: 0.7537 - val_loss: 0.6051 - val_accuracy: 0.7463\n",
            "Epoch 50/60\n",
            "47/47 [==============================] - 0s 4ms/step - loss: 0.5332 - accuracy: 0.7238 - val_loss: 0.5667 - val_accuracy: 0.7612\n",
            "Epoch 51/60\n",
            "47/47 [==============================] - 0s 4ms/step - loss: 0.5143 - accuracy: 0.7559 - val_loss: 0.6132 - val_accuracy: 0.7413\n",
            "Epoch 52/60\n",
            "47/47 [==============================] - 0s 4ms/step - loss: 0.5432 - accuracy: 0.7302 - val_loss: 0.5434 - val_accuracy: 0.7612\n",
            "Epoch 53/60\n",
            "47/47 [==============================] - 0s 4ms/step - loss: 0.5133 - accuracy: 0.7366 - val_loss: 0.5519 - val_accuracy: 0.7811\n",
            "Epoch 54/60\n",
            "47/47 [==============================] - 0s 4ms/step - loss: 0.5397 - accuracy: 0.7109 - val_loss: 0.5673 - val_accuracy: 0.7612\n",
            "Epoch 55/60\n",
            "47/47 [==============================] - 0s 4ms/step - loss: 0.5358 - accuracy: 0.7366 - val_loss: 0.6357 - val_accuracy: 0.6866\n",
            "Epoch 56/60\n",
            "47/47 [==============================] - 0s 4ms/step - loss: 0.5223 - accuracy: 0.7345 - val_loss: 0.5565 - val_accuracy: 0.7612\n",
            "Epoch 57/60\n",
            "47/47 [==============================] - 0s 4ms/step - loss: 0.5156 - accuracy: 0.7366 - val_loss: 0.5585 - val_accuracy: 0.7711\n",
            "Epoch 58/60\n",
            "47/47 [==============================] - 0s 4ms/step - loss: 0.5084 - accuracy: 0.7430 - val_loss: 0.5945 - val_accuracy: 0.7463\n",
            "Epoch 59/60\n",
            "47/47 [==============================] - 0s 4ms/step - loss: 0.5063 - accuracy: 0.7430 - val_loss: 0.6112 - val_accuracy: 0.7413\n",
            "Epoch 60/60\n",
            "47/47 [==============================] - 0s 4ms/step - loss: 0.5090 - accuracy: 0.7430 - val_loss: 0.5792 - val_accuracy: 0.7562\n"
          ]
        }
      ]
    },
    {
      "cell_type": "markdown",
      "source": [
        "# Plotting the Graph"
      ],
      "metadata": {
        "id": "yJxaXih1bZNp"
      }
    },
    {
      "cell_type": "code",
      "source": [
        "# A complete history for accuracy\n",
        "plt.plot(history.history['accuracy'])\n",
        "plt.plot(history.history['val_accuracy'])\n",
        "plt.title('model accuracy')\n",
        "plt.ylabel('accuracy')\n",
        "plt.xlabel('epoch')\n",
        "plt.legend(['train','test'], loc='upper left')\n",
        "plt.show()\n",
        "\n",
        "# A complete the history for loss\n",
        "plt.plot(history.history['loss'])\n",
        "plt.plot(history.history['val_loss'])\n",
        "plt.title('model loss')\n",
        "plt.ylabel('loss')\n",
        "plt.xlabel('epoch')\n",
        "plt.legend(['train','test'], loc='upper left')\n",
        "plt.show()"
      ],
      "metadata": {
        "id": "SO68BqpIcPjF",
        "colab": {
          "base_uri": "https://localhost:8080/",
          "height": 573
        },
        "outputId": "4cc336ad-722b-425f-ffdc-42943b69ebe6"
      },
      "execution_count": 53,
      "outputs": [
        {
          "output_type": "display_data",
          "data": {
            "image/png": "[encoded data removed]",
            "text/plain": [
              "<Figure size 432x288 with 1 Axes>"
            ]
          },
          "metadata": {
            "needs_background": "light"
          }
        },
        {
          "output_type": "display_data",
          "data": {
            "image/png": "[encoded data removed]",
            "text/plain": [
              "<Figure size 432x288 with 1 Axes>"
            ]
          },
          "metadata": {
            "needs_background": "light"
          }
        }
      ]
    },
    {
      "cell_type": "markdown",
      "source": [
        "# Validating the Model"
      ],
      "metadata": {
        "id": "5cEVL2iAbsAD"
      }
    },
    {
      "cell_type": "code",
      "source": [
        "# Getting model predictions\n",
        "y_pred1 = model1.predict(X_val1)\n",
        "print(y_pred1[:10])"
      ],
      "metadata": {
        "id": "XOSR5y1Bfg9C",
        "colab": {
          "base_uri": "https://localhost:8080/"
        },
        "outputId": "921c1d41-bfd9-4f42-a135-87f9e86e7b99"
      },
      "execution_count": 54,
      "outputs": [
        {
          "output_type": "stream",
          "name": "stdout",
          "text": [
            "[[0.29304063]\n",
            " [0.32118106]\n",
            " [0.18776879]\n",
            " [0.17375246]\n",
            " [0.43203318]\n",
            " [0.02882174]\n",
            " [0.37293208]\n",
            " [0.37593812]\n",
            " [0.40923238]\n",
            " [0.05746287]]\n"
          ]
        }
      ]
    },
    {
      "cell_type": "code",
      "source": [
        "# Making a categorical predictions\n",
        "y_pred_categorical1 = [1 if pred > 0.5 else 0 for pred in y_pred1]\n",
        "print(y_pred_categorical1[:10])"
      ],
      "metadata": {
        "id": "EnxOOzECfn5t",
        "colab": {
          "base_uri": "https://localhost:8080/"
        },
        "outputId": "7a6c4b44-04d3-4fa3-adfa-bc85e7763953"
      },
      "execution_count": 55,
      "outputs": [
        {
          "output_type": "stream",
          "name": "stdout",
          "text": [
            "[0, 0, 0, 0, 0, 0, 0, 0, 0, 0]\n"
          ]
        }
      ]
    },
    {
      "cell_type": "code",
      "source": [
        "# Getting accuracy\n",
        "accuracy = metrics.accuracy_score(y_val1, y_pred_categorical1)\n",
        "print(f'Accuracy: {accuracy}')"
      ],
      "metadata": {
        "id": "jCz-3PCefqWv",
        "colab": {
          "base_uri": "https://localhost:8080/"
        },
        "outputId": "8609e0c7-06d4-43f5-dc42-fd05aaa75ff8"
      },
      "execution_count": 56,
      "outputs": [
        {
          "output_type": "stream",
          "name": "stdout",
          "text": [
            "Accuracy: 0.7562189054726368\n"
          ]
        }
      ]
    },
    {
      "cell_type": "markdown",
      "source": [
        "# Doing Test Prediction"
      ],
      "metadata": {
        "id": "sstU92V2cFVT"
      }
    },
    {
      "cell_type": "code",
      "source": [
        "df_test = pd.read_csv('/content/test.csv')\n",
        "df_test\n"
      ],
      "metadata": {
        "id": "da3MVvcagDq1",
        "colab": {
          "base_uri": "https://localhost:8080/",
          "height": 424
        },
        "outputId": "5e1a0cd1-becd-430b-c6c3-02254a7899e9"
      },
      "execution_count": 57,
      "outputs": [
        {
          "output_type": "execute_result",
          "data": {
            "text/html": [
              "\n",
              "  <div id=\"df-604d446b-5ce7-41fa-880c-ab7f40914ff8\">\n",
              "    <div class=\"colab-df-container\">\n",
              "      <div>\n",
              "<style scoped>\n",
              "    .dataframe tbody tr th:only-of-type {\n",
              "        vertical-align: middle;\n",
              "    }\n",
              "\n",
              "    .dataframe tbody tr th {\n",
              "        vertical-align: top;\n",
              "    }\n",
              "\n",
              "    .dataframe thead th {\n",
              "        text-align: right;\n",
              "    }\n",
              "</style>\n",
              "<table border=\"1\" class=\"dataframe\">\n",
              "  <thead>\n",
              "    <tr style=\"text-align: right;\">\n",
              "      <th></th>\n",
              "      <th>Id</th>\n",
              "      <th>A1</th>\n",
              "      <th>A2</th>\n",
              "      <th>A3</th>\n",
              "      <th>A4</th>\n",
              "      <th>A5</th>\n",
              "      <th>A6</th>\n",
              "      <th>A7</th>\n",
              "      <th>A8</th>\n",
              "    </tr>\n",
              "  </thead>\n",
              "  <tbody>\n",
              "    <tr>\n",
              "      <th>0</th>\n",
              "      <td>1</td>\n",
              "      <td>6</td>\n",
              "      <td>98</td>\n",
              "      <td>58</td>\n",
              "      <td>33</td>\n",
              "      <td>190</td>\n",
              "      <td>34.0</td>\n",
              "      <td>0.430</td>\n",
              "      <td>43</td>\n",
              "    </tr>\n",
              "    <tr>\n",
              "      <th>1</th>\n",
              "      <td>2</td>\n",
              "      <td>9</td>\n",
              "      <td>154</td>\n",
              "      <td>78</td>\n",
              "      <td>30</td>\n",
              "      <td>100</td>\n",
              "      <td>30.9</td>\n",
              "      <td>0.164</td>\n",
              "      <td>45</td>\n",
              "    </tr>\n",
              "    <tr>\n",
              "      <th>2</th>\n",
              "      <td>3</td>\n",
              "      <td>6</td>\n",
              "      <td>165</td>\n",
              "      <td>68</td>\n",
              "      <td>26</td>\n",
              "      <td>168</td>\n",
              "      <td>33.6</td>\n",
              "      <td>0.631</td>\n",
              "      <td>49</td>\n",
              "    </tr>\n",
              "    <tr>\n",
              "      <th>3</th>\n",
              "      <td>4</td>\n",
              "      <td>1</td>\n",
              "      <td>99</td>\n",
              "      <td>58</td>\n",
              "      <td>10</td>\n",
              "      <td>0</td>\n",
              "      <td>25.4</td>\n",
              "      <td>0.551</td>\n",
              "      <td>21</td>\n",
              "    </tr>\n",
              "    <tr>\n",
              "      <th>4</th>\n",
              "      <td>5</td>\n",
              "      <td>10</td>\n",
              "      <td>68</td>\n",
              "      <td>106</td>\n",
              "      <td>23</td>\n",
              "      <td>49</td>\n",
              "      <td>35.5</td>\n",
              "      <td>0.285</td>\n",
              "      <td>47</td>\n",
              "    </tr>\n",
              "    <tr>\n",
              "      <th>...</th>\n",
              "      <td>...</td>\n",
              "      <td>...</td>\n",
              "      <td>...</td>\n",
              "      <td>...</td>\n",
              "      <td>...</td>\n",
              "      <td>...</td>\n",
              "      <td>...</td>\n",
              "      <td>...</td>\n",
              "      <td>...</td>\n",
              "    </tr>\n",
              "    <tr>\n",
              "      <th>95</th>\n",
              "      <td>96</td>\n",
              "      <td>10</td>\n",
              "      <td>101</td>\n",
              "      <td>76</td>\n",
              "      <td>48</td>\n",
              "      <td>180</td>\n",
              "      <td>32.9</td>\n",
              "      <td>0.171</td>\n",
              "      <td>63</td>\n",
              "    </tr>\n",
              "    <tr>\n",
              "      <th>96</th>\n",
              "      <td>97</td>\n",
              "      <td>2</td>\n",
              "      <td>122</td>\n",
              "      <td>70</td>\n",
              "      <td>27</td>\n",
              "      <td>0</td>\n",
              "      <td>36.8</td>\n",
              "      <td>0.340</td>\n",
              "      <td>27</td>\n",
              "    </tr>\n",
              "    <tr>\n",
              "      <th>97</th>\n",
              "      <td>98</td>\n",
              "      <td>5</td>\n",
              "      <td>121</td>\n",
              "      <td>72</td>\n",
              "      <td>23</td>\n",
              "      <td>112</td>\n",
              "      <td>26.2</td>\n",
              "      <td>0.245</td>\n",
              "      <td>30</td>\n",
              "    </tr>\n",
              "    <tr>\n",
              "      <th>98</th>\n",
              "      <td>99</td>\n",
              "      <td>1</td>\n",
              "      <td>126</td>\n",
              "      <td>60</td>\n",
              "      <td>0</td>\n",
              "      <td>0</td>\n",
              "      <td>30.1</td>\n",
              "      <td>0.349</td>\n",
              "      <td>47</td>\n",
              "    </tr>\n",
              "    <tr>\n",
              "      <th>99</th>\n",
              "      <td>100</td>\n",
              "      <td>1</td>\n",
              "      <td>93</td>\n",
              "      <td>70</td>\n",
              "      <td>31</td>\n",
              "      <td>0</td>\n",
              "      <td>30.4</td>\n",
              "      <td>0.315</td>\n",
              "      <td>23</td>\n",
              "    </tr>\n",
              "  </tbody>\n",
              "</table>\n",
              "<p>100 rows × 9 columns</p>\n",
              "</div>\n",
              "      <button class=\"colab-df-convert\" onclick=\"convertToInteractive('df-604d446b-5ce7-41fa-880c-ab7f40914ff8')\"\n",
              "              title=\"Convert this dataframe to an interactive table.\"\n",
              "              style=\"display:none;\">\n",
              "        \n",
              "  <svg xmlns=\"http://www.w3.org/2000/svg\" height=\"24px\"viewBox=\"0 0 24 24\"\n",
              "       width=\"24px\">\n",
              "    <path d=\"M0 0h24v24H0V0z\" fill=\"none\"/>\n",
              "    <path d=\"M18.56 5.44l.94 2.06.94-2.06 2.06-.94-2.06-.94-.94-2.06-.94 2.06-2.06.94zm-11 1L8.5 8.5l.94-2.06 2.06-.94-2.06-.94L8.5 2.5l-.94 2.06-2.06.94zm10 10l.94 2.06.94-2.06 2.06-.94-2.06-.94-.94-2.06-.94 2.06-2.06.94z\"/><path d=\"M17.41 7.96l-1.37-1.37c-.4-.4-.92-.59-1.43-.59-.52 0-1.04.2-1.43.59L10.3 9.45l-7.72 7.72c-.78.78-.78 2.05 0 2.83L4 21.41c.39.39.9.59 1.41.59.51 0 1.02-.2 1.41-.59l7.78-7.78 2.81-2.81c.8-.78.8-2.07 0-2.86zM5.41 20L4 18.59l7.72-7.72 1.47 1.35L5.41 20z\"/>\n",
              "  </svg>\n",
              "      </button>\n",
              "      \n",
              "  <style>\n",
              "    .colab-df-container {\n",
              "      display:flex;\n",
              "      flex-wrap:wrap;\n",
              "      gap: 12px;\n",
              "    }\n",
              "\n",
              "    .colab-df-convert {\n",
              "      background-color: #E8F0FE;\n",
              "      border: none;\n",
              "      border-radius: 50%;\n",
              "      cursor: pointer;\n",
              "      display: none;\n",
              "      fill: #1967D2;\n",
              "      height: 32px;\n",
              "      padding: 0 0 0 0;\n",
              "      width: 32px;\n",
              "    }\n",
              "\n",
              "    .colab-df-convert:hover {\n",
              "      background-color: #E2EBFA;\n",
              "      box-shadow: 0px 1px 2px rgba(60, 64, 67, 0.3), 0px 1px 3px 1px rgba(60, 64, 67, 0.15);\n",
              "      fill: #174EA6;\n",
              "    }\n",
              "\n",
              "    [theme=dark] .colab-df-convert {\n",
              "      background-color: #3B4455;\n",
              "      fill: #D2E3FC;\n",
              "    }\n",
              "\n",
              "    [theme=dark] .colab-df-convert:hover {\n",
              "      background-color: #434B5C;\n",
              "      box-shadow: 0px 1px 3px 1px rgba(0, 0, 0, 0.15);\n",
              "      filter: drop-shadow(0px 1px 2px rgba(0, 0, 0, 0.3));\n",
              "      fill: #FFFFFF;\n",
              "    }\n",
              "  </style>\n",
              "\n",
              "      <script>\n",
              "        const buttonEl =\n",
              "          document.querySelector('#df-604d446b-5ce7-41fa-880c-ab7f40914ff8 button.colab-df-convert');\n",
              "        buttonEl.style.display =\n",
              "          google.colab.kernel.accessAllowed ? 'block' : 'none';\n",
              "\n",
              "        async function convertToInteractive(key) {\n",
              "          const element = document.querySelector('#df-604d446b-5ce7-41fa-880c-ab7f40914ff8');\n",
              "          const dataTable =\n",
              "            await google.colab.kernel.invokeFunction('convertToInteractive',\n",
              "                                                     [key], {});\n",
              "          if (!dataTable) return;\n",
              "\n",
              "          const docLinkHtml = 'Like what you see? Visit the ' +\n",
              "            '<a target=\"_blank\" href=https://colab.research.google.com/notebooks/data_table.ipynb>data table notebook</a>'\n",
              "            + ' to learn more about interactive tables.';\n",
              "          element.innerHTML = '';\n",
              "          dataTable['output_type'] = 'display_data';\n",
              "          await google.colab.output.renderOutput(dataTable, element);\n",
              "          const docLink = document.createElement('div');\n",
              "          docLink.innerHTML = docLinkHtml;\n",
              "          element.appendChild(docLink);\n",
              "        }\n",
              "      </script>\n",
              "    </div>\n",
              "  </div>\n",
              "  "
            ],
            "text/plain": [
              "     Id  A1   A2   A3  A4   A5    A6     A7  A8\n",
              "0     1   6   98   58  33  190  34.0  0.430  43\n",
              "1     2   9  154   78  30  100  30.9  0.164  45\n",
              "2     3   6  165   68  26  168  33.6  0.631  49\n",
              "3     4   1   99   58  10    0  25.4  0.551  21\n",
              "4     5  10   68  106  23   49  35.5  0.285  47\n",
              "..  ...  ..  ...  ...  ..  ...   ...    ...  ..\n",
              "95   96  10  101   76  48  180  32.9  0.171  63\n",
              "96   97   2  122   70  27    0  36.8  0.340  27\n",
              "97   98   5  121   72  23  112  26.2  0.245  30\n",
              "98   99   1  126   60   0    0  30.1  0.349  47\n",
              "99  100   1   93   70  31    0  30.4  0.315  23\n",
              "\n",
              "[100 rows x 9 columns]"
            ]
          },
          "metadata": {},
          "execution_count": 57
        }
      ]
    },
    {
      "cell_type": "code",
      "source": [
        "# summarise the details\n",
        "print(f'Number of entries: {len(df_test)}')\n",
        "\n",
        "X_test = df_test.drop(['Id'], axis=1)\n",
        "print(X_test.info())"
      ],
      "metadata": {
        "id": "CyfJVdWZgRZb",
        "colab": {
          "base_uri": "https://localhost:8080/"
        },
        "outputId": "a814e0d3-6c59-4380-efa6-ea2b38310f75"
      },
      "execution_count": 58,
      "outputs": [
        {
          "output_type": "stream",
          "name": "stdout",
          "text": [
            "Number of entries: 100\n",
            "<class 'pandas.core.frame.DataFrame'>\n",
            "RangeIndex: 100 entries, 0 to 99\n",
            "Data columns (total 8 columns):\n",
            " #   Column  Non-Null Count  Dtype  \n",
            "---  ------  --------------  -----  \n",
            " 0   A1      100 non-null    int64  \n",
            " 1   A2      100 non-null    int64  \n",
            " 2   A3      100 non-null    int64  \n",
            " 3   A4      100 non-null    int64  \n",
            " 4   A5      100 non-null    int64  \n",
            " 5   A6      100 non-null    float64\n",
            " 6   A7      100 non-null    float64\n",
            " 7   A8      100 non-null    int64  \n",
            "dtypes: float64(2), int64(6)\n",
            "memory usage: 6.4 KB\n",
            "None\n"
          ]
        }
      ]
    },
    {
      "cell_type": "code",
      "source": [
        "# create LabelEncoder for labels \n",
        "predictions = model1.predict(X_test)\n",
        "print(predictions)\n",
        "\n",
        "final_predictions = [1 if pred > 0.5 else 0 for pred in predictions]\n",
        "print(final_predictions)\n"
      ],
      "metadata": {
        "id": "ucYp7h2GgX2T",
        "colab": {
          "base_uri": "https://localhost:8080/"
        },
        "outputId": "bc3912b8-93a5-4fb0-dcd7-4408c2c4c348"
      },
      "execution_count": 59,
      "outputs": [
        {
          "output_type": "stream",
          "name": "stdout",
          "text": [
            "[[3.8237995e-01]\n",
            " [5.3009003e-01]\n",
            " [6.2016201e-01]\n",
            " [1.4842525e-01]\n",
            " [3.7463814e-02]\n",
            " [1.9467944e-01]\n",
            " [3.5493195e-02]\n",
            " [7.6827240e-01]\n",
            " [2.9720211e-01]\n",
            " [2.4828464e-01]\n",
            " [5.2943218e-01]\n",
            " [2.1266633e-01]\n",
            " [7.7559054e-02]\n",
            " [5.5128837e-01]\n",
            " [2.0758957e-01]\n",
            " [2.5585765e-01]\n",
            " [1.4835894e-03]\n",
            " [2.6875889e-01]\n",
            " [2.6973712e-01]\n",
            " [2.7791199e-01]\n",
            " [2.8694189e-01]\n",
            " [4.3338040e-01]\n",
            " [1.8739933e-01]\n",
            " [3.2375848e-01]\n",
            " [2.8444040e-01]\n",
            " [5.3089684e-01]\n",
            " [1.0409650e-01]\n",
            " [3.5362816e-01]\n",
            " [4.2219371e-01]\n",
            " [5.8822662e-01]\n",
            " [1.9946674e-01]\n",
            " [6.2111771e-01]\n",
            " [2.4215055e-01]\n",
            " [3.3920178e-01]\n",
            " [4.4431734e-01]\n",
            " [1.2949598e-01]\n",
            " [1.8415689e-01]\n",
            " [1.0079563e-01]\n",
            " [6.0224229e-05]\n",
            " [3.5829669e-01]\n",
            " [5.5771852e-01]\n",
            " [2.1361968e-01]\n",
            " [3.8322106e-01]\n",
            " [2.8914347e-01]\n",
            " [6.2660927e-01]\n",
            " [2.8891215e-01]\n",
            " [1.0898581e-01]\n",
            " [7.6586354e-01]\n",
            " [5.2450037e-01]\n",
            " [3.1910929e-01]\n",
            " [2.9892641e-01]\n",
            " [2.6043904e-01]\n",
            " [4.8826516e-02]\n",
            " [2.4885032e-01]\n",
            " [4.3667269e-01]\n",
            " [2.8003812e-01]\n",
            " [6.3666046e-02]\n",
            " [2.3794746e-01]\n",
            " [2.0768580e-01]\n",
            " [1.2106413e-01]\n",
            " [2.3468736e-01]\n",
            " [2.6406169e-01]\n",
            " [2.4557444e-01]\n",
            " [1.8479437e-01]\n",
            " [3.9813846e-01]\n",
            " [2.5485575e-01]\n",
            " [1.6734043e-01]\n",
            " [2.4637377e-01]\n",
            " [1.2806192e-01]\n",
            " [1.6863203e-01]\n",
            " [1.9624397e-01]\n",
            " [1.6838214e-01]\n",
            " [4.8563305e-01]\n",
            " [3.0578858e-01]\n",
            " [2.1432209e-01]\n",
            " [3.2529896e-01]\n",
            " [5.7934868e-01]\n",
            " [3.3925089e-01]\n",
            " [2.2115821e-01]\n",
            " [1.7421556e-01]\n",
            " [5.7202643e-01]\n",
            " [2.6189491e-01]\n",
            " [5.3531492e-01]\n",
            " [2.1297920e-01]\n",
            " [1.9307983e-01]\n",
            " [4.2728639e-01]\n",
            " [5.4377079e-01]\n",
            " [2.6016968e-01]\n",
            " [2.6755568e-01]\n",
            " [2.8277963e-01]\n",
            " [2.2084656e-01]\n",
            " [6.0261083e-01]\n",
            " [1.7568305e-01]\n",
            " [7.4039614e-01]\n",
            " [2.1877173e-01]\n",
            " [4.8974216e-01]\n",
            " [2.4242291e-01]\n",
            " [2.7633357e-01]\n",
            " [3.6436403e-01]\n",
            " [8.6997390e-02]]\n",
            "[0, 1, 1, 0, 0, 0, 0, 1, 0, 0, 1, 0, 0, 1, 0, 0, 0, 0, 0, 0, 0, 0, 0, 0, 0, 1, 0, 0, 0, 1, 0, 1, 0, 0, 0, 0, 0, 0, 0, 0, 1, 0, 0, 0, 1, 0, 0, 1, 1, 0, 0, 0, 0, 0, 0, 0, 0, 0, 0, 0, 0, 0, 0, 0, 0, 0, 0, 0, 0, 0, 0, 0, 0, 0, 0, 0, 1, 0, 0, 0, 1, 0, 1, 0, 0, 0, 1, 0, 0, 0, 0, 1, 0, 1, 0, 0, 0, 0, 0, 0]\n"
          ]
        }
      ]
    },
    {
      "cell_type": "code",
      "source": [
        "df_submission = pd.DataFrame(df_test['Id'])\n",
        "df_submission['Class'] = final_predictions"
      ],
      "metadata": {
        "id": "CpXHjcf1p4x_"
      },
      "execution_count": 60,
      "outputs": []
    },
    {
      "cell_type": "code",
      "source": [
        "df_submission.to_csv('/content/test-predictions.csv', index=False)"
      ],
      "metadata": {
        "id": "41GqlnyRqzD7"
      },
      "execution_count": 61,
      "outputs": []
    },
    {
      "cell_type": "code",
      "source": [
        "Test_pred=pd.read_csv('/content/test-predictions.csv')\n",
        "Test_pred"
      ],
      "metadata": {
        "id": "KLNBMmdmrNcS",
        "colab": {
          "base_uri": "https://localhost:8080/",
          "height": 424
        },
        "outputId": "75b3d6cc-2144-415f-903d-822a812a31fb"
      },
      "execution_count": 62,
      "outputs": [
        {
          "output_type": "execute_result",
          "data": {
            "text/html": [
              "\n",
              "  <div id=\"df-4c3da810-fbc0-4a70-a738-80de94ef4dc2\">\n",
              "    <div class=\"colab-df-container\">\n",
              "      <div>\n",
              "<style scoped>\n",
              "    .dataframe tbody tr th:only-of-type {\n",
              "        vertical-align: middle;\n",
              "    }\n",
              "\n",
              "    .dataframe tbody tr th {\n",
              "        vertical-align: top;\n",
              "    }\n",
              "\n",
              "    .dataframe thead th {\n",
              "        text-align: right;\n",
              "    }\n",
              "</style>\n",
              "<table border=\"1\" class=\"dataframe\">\n",
              "  <thead>\n",
              "    <tr style=\"text-align: right;\">\n",
              "      <th></th>\n",
              "      <th>Id</th>\n",
              "      <th>Class</th>\n",
              "    </tr>\n",
              "  </thead>\n",
              "  <tbody>\n",
              "    <tr>\n",
              "      <th>0</th>\n",
              "      <td>1</td>\n",
              "      <td>0</td>\n",
              "    </tr>\n",
              "    <tr>\n",
              "      <th>1</th>\n",
              "      <td>2</td>\n",
              "      <td>1</td>\n",
              "    </tr>\n",
              "    <tr>\n",
              "      <th>2</th>\n",
              "      <td>3</td>\n",
              "      <td>1</td>\n",
              "    </tr>\n",
              "    <tr>\n",
              "      <th>3</th>\n",
              "      <td>4</td>\n",
              "      <td>0</td>\n",
              "    </tr>\n",
              "    <tr>\n",
              "      <th>4</th>\n",
              "      <td>5</td>\n",
              "      <td>0</td>\n",
              "    </tr>\n",
              "    <tr>\n",
              "      <th>...</th>\n",
              "      <td>...</td>\n",
              "      <td>...</td>\n",
              "    </tr>\n",
              "    <tr>\n",
              "      <th>95</th>\n",
              "      <td>96</td>\n",
              "      <td>0</td>\n",
              "    </tr>\n",
              "    <tr>\n",
              "      <th>96</th>\n",
              "      <td>97</td>\n",
              "      <td>0</td>\n",
              "    </tr>\n",
              "    <tr>\n",
              "      <th>97</th>\n",
              "      <td>98</td>\n",
              "      <td>0</td>\n",
              "    </tr>\n",
              "    <tr>\n",
              "      <th>98</th>\n",
              "      <td>99</td>\n",
              "      <td>0</td>\n",
              "    </tr>\n",
              "    <tr>\n",
              "      <th>99</th>\n",
              "      <td>100</td>\n",
              "      <td>0</td>\n",
              "    </tr>\n",
              "  </tbody>\n",
              "</table>\n",
              "<p>100 rows × 2 columns</p>\n",
              "</div>\n",
              "      <button class=\"colab-df-convert\" onclick=\"convertToInteractive('df-4c3da810-fbc0-4a70-a738-80de94ef4dc2')\"\n",
              "              title=\"Convert this dataframe to an interactive table.\"\n",
              "              style=\"display:none;\">\n",
              "        \n",
              "  <svg xmlns=\"http://www.w3.org/2000/svg\" height=\"24px\"viewBox=\"0 0 24 24\"\n",
              "       width=\"24px\">\n",
              "    <path d=\"M0 0h24v24H0V0z\" fill=\"none\"/>\n",
              "    <path d=\"M18.56 5.44l.94 2.06.94-2.06 2.06-.94-2.06-.94-.94-2.06-.94 2.06-2.06.94zm-11 1L8.5 8.5l.94-2.06 2.06-.94-2.06-.94L8.5 2.5l-.94 2.06-2.06.94zm10 10l.94 2.06.94-2.06 2.06-.94-2.06-.94-.94-2.06-.94 2.06-2.06.94z\"/><path d=\"M17.41 7.96l-1.37-1.37c-.4-.4-.92-.59-1.43-.59-.52 0-1.04.2-1.43.59L10.3 9.45l-7.72 7.72c-.78.78-.78 2.05 0 2.83L4 21.41c.39.39.9.59 1.41.59.51 0 1.02-.2 1.41-.59l7.78-7.78 2.81-2.81c.8-.78.8-2.07 0-2.86zM5.41 20L4 18.59l7.72-7.72 1.47 1.35L5.41 20z\"/>\n",
              "  </svg>\n",
              "      </button>\n",
              "      \n",
              "  <style>\n",
              "    .colab-df-container {\n",
              "      display:flex;\n",
              "      flex-wrap:wrap;\n",
              "      gap: 12px;\n",
              "    }\n",
              "\n",
              "    .colab-df-convert {\n",
              "      background-color: #E8F0FE;\n",
              "      border: none;\n",
              "      border-radius: 50%;\n",
              "      cursor: pointer;\n",
              "      display: none;\n",
              "      fill: #1967D2;\n",
              "      height: 32px;\n",
              "      padding: 0 0 0 0;\n",
              "      width: 32px;\n",
              "    }\n",
              "\n",
              "    .colab-df-convert:hover {\n",
              "      background-color: #E2EBFA;\n",
              "      box-shadow: 0px 1px 2px rgba(60, 64, 67, 0.3), 0px 1px 3px 1px rgba(60, 64, 67, 0.15);\n",
              "      fill: #174EA6;\n",
              "    }\n",
              "\n",
              "    [theme=dark] .colab-df-convert {\n",
              "      background-color: #3B4455;\n",
              "      fill: #D2E3FC;\n",
              "    }\n",
              "\n",
              "    [theme=dark] .colab-df-convert:hover {\n",
              "      background-color: #434B5C;\n",
              "      box-shadow: 0px 1px 3px 1px rgba(0, 0, 0, 0.15);\n",
              "      filter: drop-shadow(0px 1px 2px rgba(0, 0, 0, 0.3));\n",
              "      fill: #FFFFFF;\n",
              "    }\n",
              "  </style>\n",
              "\n",
              "      <script>\n",
              "        const buttonEl =\n",
              "          document.querySelector('#df-4c3da810-fbc0-4a70-a738-80de94ef4dc2 button.colab-df-convert');\n",
              "        buttonEl.style.display =\n",
              "          google.colab.kernel.accessAllowed ? 'block' : 'none';\n",
              "\n",
              "        async function convertToInteractive(key) {\n",
              "          const element = document.querySelector('#df-4c3da810-fbc0-4a70-a738-80de94ef4dc2');\n",
              "          const dataTable =\n",
              "            await google.colab.kernel.invokeFunction('convertToInteractive',\n",
              "                                                     [key], {});\n",
              "          if (!dataTable) return;\n",
              "\n",
              "          const docLinkHtml = 'Like what you see? Visit the ' +\n",
              "            '<a target=\"_blank\" href=https://colab.research.google.com/notebooks/data_table.ipynb>data table notebook</a>'\n",
              "            + ' to learn more about interactive tables.';\n",
              "          element.innerHTML = '';\n",
              "          dataTable['output_type'] = 'display_data';\n",
              "          await google.colab.output.renderOutput(dataTable, element);\n",
              "          const docLink = document.createElement('div');\n",
              "          docLink.innerHTML = docLinkHtml;\n",
              "          element.appendChild(docLink);\n",
              "        }\n",
              "      </script>\n",
              "    </div>\n",
              "  </div>\n",
              "  "
            ],
            "text/plain": [
              "     Id  Class\n",
              "0     1      0\n",
              "1     2      1\n",
              "2     3      1\n",
              "3     4      0\n",
              "4     5      0\n",
              "..  ...    ...\n",
              "95   96      0\n",
              "96   97      0\n",
              "97   98      0\n",
              "98   99      0\n",
              "99  100      0\n",
              "\n",
              "[100 rows x 2 columns]"
            ]
          },
          "metadata": {},
          "execution_count": 62
        }
      ]
    },
    {
      "cell_type": "code",
      "source": [
        "# Summarise class details\n",
        "sns.countplot(x=Test_pred['Class'])"
      ],
      "metadata": {
        "colab": {
          "base_uri": "https://localhost:8080/",
          "height": 296
        },
        "id": "HHnse9aIc-78",
        "outputId": "ac6d1fee-1d17-4a48-fd73-161388fef754"
      },
      "execution_count": 63,
      "outputs": [
        {
          "output_type": "execute_result",
          "data": {
            "text/plain": [
              "<matplotlib.axes._subplots.AxesSubplot at 0x7fae265eec10>"
            ]
          },
          "metadata": {},
          "execution_count": 63
        },
        {
          "output_type": "display_data",
          "data": {
            "image/png": "[encoded data removed]",
            "text/plain": [
              "<Figure size 432x288 with 1 Axes>"
            ]
          },
          "metadata": {
            "needs_background": "light"
          }
        }
      ]
    },
    {
      "cell_type": "code",
      "source": [
        "Test_pred[\"Class\"].value_counts().plot(kind =\"pie\", autopct='%1.1f%%', figsize=(9.5,9.5));"
      ],
      "metadata": {
        "colab": {
          "base_uri": "https://localhost:8080/",
          "height": 547
        },
        "id": "LxCvOZl7dB1Q",
        "outputId": "a4cf2761-9ca9-4c0b-84b1-ae26c1efda36"
      },
      "execution_count": 64,
      "outputs": [
        {
          "output_type": "display_data",
          "data": {
            "image/png": "[encoded data removed]",
            "text/plain": [
              "<Figure size 684x684 with 1 Axes>"
            ]
          },
          "metadata": {}
        }
      ]
    }
  ]
}