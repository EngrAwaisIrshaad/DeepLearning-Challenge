{
  "nbformat": 4,
  "nbformat_minor": 0,
  "metadata": {
    "colab": {
      "name": "Copy_of_DeepLearning_Challenge.ipynb",
      "provenance": [],
      "collapsed_sections": [],
      "include_colab_link": true
    },
    "kernelspec": {
      "name": "python3",
      "display_name": "Python 3"
    },
    "language_info": {
      "name": "python"
    }
  },
  "cells": [
    {
      "cell_type": "markdown",
      "metadata": {
        "id": "view-in-github",
        "colab_type": "text"
      },
      "source": [
        "<a href=\"https://colab.research.google.com/github/Megacity1/DeepLearning-Challenge/blob/main/Copy_of_DeepLearning_Challenge.ipynb\" target=\"_parent\"><img src=\"https://colab.research.google.com/assets/colab-badge.svg\" alt=\"Open In Colab\"/></a>"
      ]
    },
    {
      "cell_type": "code",
      "execution_count": 73,
      "metadata": {
        "id": "jWQOKO3zQVCr"
      },
      "outputs": [],
      "source": [
        ""
      ]
    },
    {
      "cell_type": "code",
      "execution_count": 74,
      "metadata": {
        "id": "J5lMtoAIW36P"
      },
      "outputs": [],
      "source": [
        "#Importing all the necessary libraries\n",
        "import pandas as pd\n",
        "import numpy as np\n",
        "import seaborn as sns\n",
        "import matplotlib.pyplot as plt\n",
        "from sklearn.preprocessing import normalize\n",
        "\n",
        "from sklearn.preprocessing import LabelEncoder\n",
        "from sklearn.model_selection import train_test_split\n",
        "\n",
        "from keras.models import Sequential\n",
        "from keras.layers import Dense\n",
        "\n",
        "from sklearn import metrics   \n",
        "\n",
        "from tensorflow.keras.layers import Dropout\n",
        "import tensorflow as tf"
      ]
    },
    {
      "cell_type": "code",
      "source": [
        "#Complete description of the provided dataset\n"
      ],
      "metadata": {
        "id": "82cDgqLPXSZR"
      },
      "execution_count": 75,
      "outputs": []
    },
    {
      "cell_type": "markdown",
      "source": [
        "### **Dataset Description**\n",
        "*   A1 - Number of times pregnant\n",
        "*   A2 - Plasma glucose concentration a 2 hours in an\n",
        "oral glucose tolerance test\n",
        "*   A3 - Diastolic blood pressure (mm Hg)\n",
        "*   A4 - Triceps skin fold thickness (mm)\n",
        "*   A5 - 2-Hour serum insulin (mu U/ml)\n",
        "*   A6 - Body mass index (weight in kg/(height in m)^2)\n",
        "*   A7 - Diabetes pedigree function\n",
        "*   A8 - Age (years)\n",
        "\n"
      ],
      "metadata": {
        "id": "_KKo36aTnM2f"
      }
    },
    {
      "cell_type": "code",
      "source": [
        "#Import training data file\n"
      ],
      "metadata": {
        "id": "bqtUH2XZXmIA"
      },
      "execution_count": 76,
      "outputs": []
    },
    {
      "cell_type": "code",
      "source": [
        "data = pd.read_csv('/content/train.csv')\n",
        "data"
      ],
      "metadata": {
        "colab": {
          "base_uri": "https://localhost:8080/",
          "height": 424
        },
        "id": "dXhbKLxjX8h-",
        "outputId": "ff611847-1d7f-4a9b-a085-a7099d600312"
      },
      "execution_count": 77,
      "outputs": [
        {
          "output_type": "execute_result",
          "data": {
            "text/html": [
              "\n",
              "  <div id=\"df-3eaabbc1-d2ea-4cc0-93be-c1db1911e556\">\n",
              "    <div class=\"colab-df-container\">\n",
              "      <div>\n",
              "<style scoped>\n",
              "    .dataframe tbody tr th:only-of-type {\n",
              "        vertical-align: middle;\n",
              "    }\n",
              "\n",
              "    .dataframe tbody tr th {\n",
              "        vertical-align: top;\n",
              "    }\n",
              "\n",
              "    .dataframe thead th {\n",
              "        text-align: right;\n",
              "    }\n",
              "</style>\n",
              "<table border=\"1\" class=\"dataframe\">\n",
              "  <thead>\n",
              "    <tr style=\"text-align: right;\">\n",
              "      <th></th>\n",
              "      <th>Id</th>\n",
              "      <th>A1</th>\n",
              "      <th>A2</th>\n",
              "      <th>A3</th>\n",
              "      <th>A4</th>\n",
              "      <th>A5</th>\n",
              "      <th>A6</th>\n",
              "      <th>A7</th>\n",
              "      <th>A8</th>\n",
              "      <th>Class</th>\n",
              "    </tr>\n",
              "  </thead>\n",
              "  <tbody>\n",
              "    <tr>\n",
              "      <th>0</th>\n",
              "      <td>1</td>\n",
              "      <td>6</td>\n",
              "      <td>148</td>\n",
              "      <td>72</td>\n",
              "      <td>35</td>\n",
              "      <td>0</td>\n",
              "      <td>33.6</td>\n",
              "      <td>0.627</td>\n",
              "      <td>50</td>\n",
              "      <td>1</td>\n",
              "    </tr>\n",
              "    <tr>\n",
              "      <th>1</th>\n",
              "      <td>2</td>\n",
              "      <td>1</td>\n",
              "      <td>85</td>\n",
              "      <td>66</td>\n",
              "      <td>29</td>\n",
              "      <td>0</td>\n",
              "      <td>26.6</td>\n",
              "      <td>0.351</td>\n",
              "      <td>31</td>\n",
              "      <td>0</td>\n",
              "    </tr>\n",
              "    <tr>\n",
              "      <th>2</th>\n",
              "      <td>3</td>\n",
              "      <td>8</td>\n",
              "      <td>183</td>\n",
              "      <td>64</td>\n",
              "      <td>0</td>\n",
              "      <td>0</td>\n",
              "      <td>23.3</td>\n",
              "      <td>0.672</td>\n",
              "      <td>32</td>\n",
              "      <td>1</td>\n",
              "    </tr>\n",
              "    <tr>\n",
              "      <th>3</th>\n",
              "      <td>4</td>\n",
              "      <td>1</td>\n",
              "      <td>89</td>\n",
              "      <td>66</td>\n",
              "      <td>23</td>\n",
              "      <td>94</td>\n",
              "      <td>28.1</td>\n",
              "      <td>0.167</td>\n",
              "      <td>21</td>\n",
              "      <td>0</td>\n",
              "    </tr>\n",
              "    <tr>\n",
              "      <th>4</th>\n",
              "      <td>5</td>\n",
              "      <td>0</td>\n",
              "      <td>137</td>\n",
              "      <td>40</td>\n",
              "      <td>35</td>\n",
              "      <td>168</td>\n",
              "      <td>43.1</td>\n",
              "      <td>2.288</td>\n",
              "      <td>33</td>\n",
              "      <td>1</td>\n",
              "    </tr>\n",
              "    <tr>\n",
              "      <th>...</th>\n",
              "      <td>...</td>\n",
              "      <td>...</td>\n",
              "      <td>...</td>\n",
              "      <td>...</td>\n",
              "      <td>...</td>\n",
              "      <td>...</td>\n",
              "      <td>...</td>\n",
              "      <td>...</td>\n",
              "      <td>...</td>\n",
              "      <td>...</td>\n",
              "    </tr>\n",
              "    <tr>\n",
              "      <th>663</th>\n",
              "      <td>664</td>\n",
              "      <td>9</td>\n",
              "      <td>145</td>\n",
              "      <td>80</td>\n",
              "      <td>46</td>\n",
              "      <td>130</td>\n",
              "      <td>37.9</td>\n",
              "      <td>0.637</td>\n",
              "      <td>40</td>\n",
              "      <td>1</td>\n",
              "    </tr>\n",
              "    <tr>\n",
              "      <th>664</th>\n",
              "      <td>665</td>\n",
              "      <td>6</td>\n",
              "      <td>115</td>\n",
              "      <td>60</td>\n",
              "      <td>39</td>\n",
              "      <td>0</td>\n",
              "      <td>33.7</td>\n",
              "      <td>0.245</td>\n",
              "      <td>40</td>\n",
              "      <td>1</td>\n",
              "    </tr>\n",
              "    <tr>\n",
              "      <th>665</th>\n",
              "      <td>666</td>\n",
              "      <td>1</td>\n",
              "      <td>112</td>\n",
              "      <td>80</td>\n",
              "      <td>45</td>\n",
              "      <td>132</td>\n",
              "      <td>34.8</td>\n",
              "      <td>0.217</td>\n",
              "      <td>24</td>\n",
              "      <td>0</td>\n",
              "    </tr>\n",
              "    <tr>\n",
              "      <th>666</th>\n",
              "      <td>667</td>\n",
              "      <td>4</td>\n",
              "      <td>145</td>\n",
              "      <td>82</td>\n",
              "      <td>18</td>\n",
              "      <td>0</td>\n",
              "      <td>32.5</td>\n",
              "      <td>0.235</td>\n",
              "      <td>70</td>\n",
              "      <td>1</td>\n",
              "    </tr>\n",
              "    <tr>\n",
              "      <th>667</th>\n",
              "      <td>668</td>\n",
              "      <td>10</td>\n",
              "      <td>111</td>\n",
              "      <td>70</td>\n",
              "      <td>27</td>\n",
              "      <td>0</td>\n",
              "      <td>27.5</td>\n",
              "      <td>0.141</td>\n",
              "      <td>40</td>\n",
              "      <td>1</td>\n",
              "    </tr>\n",
              "  </tbody>\n",
              "</table>\n",
              "<p>668 rows × 10 columns</p>\n",
              "</div>\n",
              "      <button class=\"colab-df-convert\" onclick=\"convertToInteractive('df-3eaabbc1-d2ea-4cc0-93be-c1db1911e556')\"\n",
              "              title=\"Convert this dataframe to an interactive table.\"\n",
              "              style=\"display:none;\">\n",
              "        \n",
              "  <svg xmlns=\"http://www.w3.org/2000/svg\" height=\"24px\"viewBox=\"0 0 24 24\"\n",
              "       width=\"24px\">\n",
              "    <path d=\"M0 0h24v24H0V0z\" fill=\"none\"/>\n",
              "    <path d=\"M18.56 5.44l.94 2.06.94-2.06 2.06-.94-2.06-.94-.94-2.06-.94 2.06-2.06.94zm-11 1L8.5 8.5l.94-2.06 2.06-.94-2.06-.94L8.5 2.5l-.94 2.06-2.06.94zm10 10l.94 2.06.94-2.06 2.06-.94-2.06-.94-.94-2.06-.94 2.06-2.06.94z\"/><path d=\"M17.41 7.96l-1.37-1.37c-.4-.4-.92-.59-1.43-.59-.52 0-1.04.2-1.43.59L10.3 9.45l-7.72 7.72c-.78.78-.78 2.05 0 2.83L4 21.41c.39.39.9.59 1.41.59.51 0 1.02-.2 1.41-.59l7.78-7.78 2.81-2.81c.8-.78.8-2.07 0-2.86zM5.41 20L4 18.59l7.72-7.72 1.47 1.35L5.41 20z\"/>\n",
              "  </svg>\n",
              "      </button>\n",
              "      \n",
              "  <style>\n",
              "    .colab-df-container {\n",
              "      display:flex;\n",
              "      flex-wrap:wrap;\n",
              "      gap: 12px;\n",
              "    }\n",
              "\n",
              "    .colab-df-convert {\n",
              "      background-color: #E8F0FE;\n",
              "      border: none;\n",
              "      border-radius: 50%;\n",
              "      cursor: pointer;\n",
              "      display: none;\n",
              "      fill: #1967D2;\n",
              "      height: 32px;\n",
              "      padding: 0 0 0 0;\n",
              "      width: 32px;\n",
              "    }\n",
              "\n",
              "    .colab-df-convert:hover {\n",
              "      background-color: #E2EBFA;\n",
              "      box-shadow: 0px 1px 2px rgba(60, 64, 67, 0.3), 0px 1px 3px 1px rgba(60, 64, 67, 0.15);\n",
              "      fill: #174EA6;\n",
              "    }\n",
              "\n",
              "    [theme=dark] .colab-df-convert {\n",
              "      background-color: #3B4455;\n",
              "      fill: #D2E3FC;\n",
              "    }\n",
              "\n",
              "    [theme=dark] .colab-df-convert:hover {\n",
              "      background-color: #434B5C;\n",
              "      box-shadow: 0px 1px 3px 1px rgba(0, 0, 0, 0.15);\n",
              "      filter: drop-shadow(0px 1px 2px rgba(0, 0, 0, 0.3));\n",
              "      fill: #FFFFFF;\n",
              "    }\n",
              "  </style>\n",
              "\n",
              "      <script>\n",
              "        const buttonEl =\n",
              "          document.querySelector('#df-3eaabbc1-d2ea-4cc0-93be-c1db1911e556 button.colab-df-convert');\n",
              "        buttonEl.style.display =\n",
              "          google.colab.kernel.accessAllowed ? 'block' : 'none';\n",
              "\n",
              "        async function convertToInteractive(key) {\n",
              "          const element = document.querySelector('#df-3eaabbc1-d2ea-4cc0-93be-c1db1911e556');\n",
              "          const dataTable =\n",
              "            await google.colab.kernel.invokeFunction('convertToInteractive',\n",
              "                                                     [key], {});\n",
              "          if (!dataTable) return;\n",
              "\n",
              "          const docLinkHtml = 'Like what you see? Visit the ' +\n",
              "            '<a target=\"_blank\" href=https://colab.research.google.com/notebooks/data_table.ipynb>data table notebook</a>'\n",
              "            + ' to learn more about interactive tables.';\n",
              "          element.innerHTML = '';\n",
              "          dataTable['output_type'] = 'display_data';\n",
              "          await google.colab.output.renderOutput(dataTable, element);\n",
              "          const docLink = document.createElement('div');\n",
              "          docLink.innerHTML = docLinkHtml;\n",
              "          element.appendChild(docLink);\n",
              "        }\n",
              "      </script>\n",
              "    </div>\n",
              "  </div>\n",
              "  "
            ],
            "text/plain": [
              "      Id  A1   A2  A3  A4   A5    A6     A7  A8  Class\n",
              "0      1   6  148  72  35    0  33.6  0.627  50      1\n",
              "1      2   1   85  66  29    0  26.6  0.351  31      0\n",
              "2      3   8  183  64   0    0  23.3  0.672  32      1\n",
              "3      4   1   89  66  23   94  28.1  0.167  21      0\n",
              "4      5   0  137  40  35  168  43.1  2.288  33      1\n",
              "..   ...  ..  ...  ..  ..  ...   ...    ...  ..    ...\n",
              "663  664   9  145  80  46  130  37.9  0.637  40      1\n",
              "664  665   6  115  60  39    0  33.7  0.245  40      1\n",
              "665  666   1  112  80  45  132  34.8  0.217  24      0\n",
              "666  667   4  145  82  18    0  32.5  0.235  70      1\n",
              "667  668  10  111  70  27    0  27.5  0.141  40      1\n",
              "\n",
              "[668 rows x 10 columns]"
            ]
          },
          "metadata": {},
          "execution_count": 77
        }
      ]
    },
    {
      "cell_type": "code",
      "source": [
        "sns.countplot(x=data['Class'])"
      ],
      "metadata": {
        "colab": {
          "base_uri": "https://localhost:8080/",
          "height": 296
        },
        "id": "QGNqXyygZc7t",
        "outputId": "d93e91b8-4dd6-47a8-debc-b0d28611b130"
      },
      "execution_count": 78,
      "outputs": [
        {
          "output_type": "execute_result",
          "data": {
            "text/plain": [
              "<matplotlib.axes._subplots.AxesSubplot at 0x7fae263b9b10>"
            ]
          },
          "metadata": {},
          "execution_count": 78
        },
        {
          "output_type": "display_data",
          "data": {
            "image/png": "[encoded data removed]",
            "text/plain": [
              "<Figure size 432x288 with 1 Axes>"
            ]
          },
          "metadata": {
            "needs_background": "light"
          }
        }
      ]
    },
    {
      "cell_type": "markdown",
      "source": [
        "# **Splitting the datase**"
      ],
      "metadata": {
        "id": "VoI1GR7OZbci"
      }
    },
    {
      "cell_type": "code",
      "source": [
        "# Extracting labels\n",
        "ylabel = data['Class']\n",
        "ylabel = pd.Series(ylabel)\n",
        "print(ylabel.value_counts())\n",
        "\n",
        "# Removing unnecessary columns in the bove data\n",
        "Xlabel = data.drop(['Id', 'Class'], axis=1)\n",
        "print(Xlabel.info())\n",
        "Xlabel.head()"
      ],
      "metadata": {
        "colab": {
          "base_uri": "https://localhost:8080/",
          "height": 536
        },
        "id": "jVwTlQb_bFVT",
        "outputId": "f39a4dbc-9257-44ba-ba8c-e6a1f3e5c5d8"
      },
      "execution_count": 79,
      "outputs": [
        {
          "output_type": "stream",
          "name": "stdout",
          "text": [
            "0    437\n",
            "1    231\n",
            "Name: Class, dtype: int64\n",
            "<class 'pandas.core.frame.DataFrame'>\n",
            "RangeIndex: 668 entries, 0 to 667\n",
            "Data columns (total 8 columns):\n",
            " #   Column  Non-Null Count  Dtype  \n",
            "---  ------  --------------  -----  \n",
            " 0   A1      668 non-null    int64  \n",
            " 1   A2      668 non-null    int64  \n",
            " 2   A3      668 non-null    int64  \n",
            " 3   A4      668 non-null    int64  \n",
            " 4   A5      668 non-null    int64  \n",
            " 5   A6      668 non-null    float64\n",
            " 6   A7      668 non-null    float64\n",
            " 7   A8      668 non-null    int64  \n",
            "dtypes: float64(2), int64(6)\n",
            "memory usage: 41.9 KB\n",
            "None\n"
          ]
        },
        {
          "output_type": "execute_result",
          "data": {
            "text/html": [
              "\n",
              "  <div id=\"df-1f0fc805-089d-499d-adc2-8a31a4320aff\">\n",
              "    <div class=\"colab-df-container\">\n",
              "      <div>\n",
              "<style scoped>\n",
              "    .dataframe tbody tr th:only-of-type {\n",
              "        vertical-align: middle;\n",
              "    }\n",
              "\n",
              "    .dataframe tbody tr th {\n",
              "        vertical-align: top;\n",
              "    }\n",
              "\n",
              "    .dataframe thead th {\n",
              "        text-align: right;\n",
              "    }\n",
              "</style>\n",
              "<table border=\"1\" class=\"dataframe\">\n",
              "  <thead>\n",
              "    <tr style=\"text-align: right;\">\n",
              "      <th></th>\n",
              "      <th>A1</th>\n",
              "      <th>A2</th>\n",
              "      <th>A3</th>\n",
              "      <th>A4</th>\n",
              "      <th>A5</th>\n",
              "      <th>A6</th>\n",
              "      <th>A7</th>\n",
              "      <th>A8</th>\n",
              "    </tr>\n",
              "  </thead>\n",
              "  <tbody>\n",
              "    <tr>\n",
              "      <th>0</th>\n",
              "      <td>6</td>\n",
              "      <td>148</td>\n",
              "      <td>72</td>\n",
              "      <td>35</td>\n",
              "      <td>0</td>\n",
              "      <td>33.6</td>\n",
              "      <td>0.627</td>\n",
              "      <td>50</td>\n",
              "    </tr>\n",
              "    <tr>\n",
              "      <th>1</th>\n",
              "      <td>1</td>\n",
              "      <td>85</td>\n",
              "      <td>66</td>\n",
              "      <td>29</td>\n",
              "      <td>0</td>\n",
              "      <td>26.6</td>\n",
              "      <td>0.351</td>\n",
              "      <td>31</td>\n",
              "    </tr>\n",
              "    <tr>\n",
              "      <th>2</th>\n",
              "      <td>8</td>\n",
              "      <td>183</td>\n",
              "      <td>64</td>\n",
              "      <td>0</td>\n",
              "      <td>0</td>\n",
              "      <td>23.3</td>\n",
              "      <td>0.672</td>\n",
              "      <td>32</td>\n",
              "    </tr>\n",
              "    <tr>\n",
              "      <th>3</th>\n",
              "      <td>1</td>\n",
              "      <td>89</td>\n",
              "      <td>66</td>\n",
              "      <td>23</td>\n",
              "      <td>94</td>\n",
              "      <td>28.1</td>\n",
              "      <td>0.167</td>\n",
              "      <td>21</td>\n",
              "    </tr>\n",
              "    <tr>\n",
              "      <th>4</th>\n",
              "      <td>0</td>\n",
              "      <td>137</td>\n",
              "      <td>40</td>\n",
              "      <td>35</td>\n",
              "      <td>168</td>\n",
              "      <td>43.1</td>\n",
              "      <td>2.288</td>\n",
              "      <td>33</td>\n",
              "    </tr>\n",
              "  </tbody>\n",
              "</table>\n",
              "</div>\n",
              "      <button class=\"colab-df-convert\" onclick=\"convertToInteractive('df-1f0fc805-089d-499d-adc2-8a31a4320aff')\"\n",
              "              title=\"Convert this dataframe to an interactive table.\"\n",
              "              style=\"display:none;\">\n",
              "        \n",
              "  <svg xmlns=\"http://www.w3.org/2000/svg\" height=\"24px\"viewBox=\"0 0 24 24\"\n",
              "       width=\"24px\">\n",
              "    <path d=\"M0 0h24v24H0V0z\" fill=\"none\"/>\n",
              "    <path d=\"M18.56 5.44l.94 2.06.94-2.06 2.06-.94-2.06-.94-.94-2.06-.94 2.06-2.06.94zm-11 1L8.5 8.5l.94-2.06 2.06-.94-2.06-.94L8.5 2.5l-.94 2.06-2.06.94zm10 10l.94 2.06.94-2.06 2.06-.94-2.06-.94-.94-2.06-.94 2.06-2.06.94z\"/><path d=\"M17.41 7.96l-1.37-1.37c-.4-.4-.92-.59-1.43-.59-.52 0-1.04.2-1.43.59L10.3 9.45l-7.72 7.72c-.78.78-.78 2.05 0 2.83L4 21.41c.39.39.9.59 1.41.59.51 0 1.02-.2 1.41-.59l7.78-7.78 2.81-2.81c.8-.78.8-2.07 0-2.86zM5.41 20L4 18.59l7.72-7.72 1.47 1.35L5.41 20z\"/>\n",
              "  </svg>\n",
              "      </button>\n",
              "      \n",
              "  <style>\n",
              "    .colab-df-container {\n",
              "      display:flex;\n",
              "      flex-wrap:wrap;\n",
              "      gap: 12px;\n",
              "    }\n",
              "\n",
              "    .colab-df-convert {\n",
              "      background-color: #E8F0FE;\n",
              "      border: none;\n",
              "      border-radius: 50%;\n",
              "      cursor: pointer;\n",
              "      display: none;\n",
              "      fill: #1967D2;\n",
              "      height: 32px;\n",
              "      padding: 0 0 0 0;\n",
              "      width: 32px;\n",
              "    }\n",
              "\n",
              "    .colab-df-convert:hover {\n",
              "      background-color: #E2EBFA;\n",
              "      box-shadow: 0px 1px 2px rgba(60, 64, 67, 0.3), 0px 1px 3px 1px rgba(60, 64, 67, 0.15);\n",
              "      fill: #174EA6;\n",
              "    }\n",
              "\n",
              "    [theme=dark] .colab-df-convert {\n",
              "      background-color: #3B4455;\n",
              "      fill: #D2E3FC;\n",
              "    }\n",
              "\n",
              "    [theme=dark] .colab-df-convert:hover {\n",
              "      background-color: #434B5C;\n",
              "      box-shadow: 0px 1px 3px 1px rgba(0, 0, 0, 0.15);\n",
              "      filter: drop-shadow(0px 1px 2px rgba(0, 0, 0, 0.3));\n",
              "      fill: #FFFFFF;\n",
              "    }\n",
              "  </style>\n",
              "\n",
              "      <script>\n",
              "        const buttonEl =\n",
              "          document.querySelector('#df-1f0fc805-089d-499d-adc2-8a31a4320aff button.colab-df-convert');\n",
              "        buttonEl.style.display =\n",
              "          google.colab.kernel.accessAllowed ? 'block' : 'none';\n",
              "\n",
              "        async function convertToInteractive(key) {\n",
              "          const element = document.querySelector('#df-1f0fc805-089d-499d-adc2-8a31a4320aff');\n",
              "          const dataTable =\n",
              "            await google.colab.kernel.invokeFunction('convertToInteractive',\n",
              "                                                     [key], {});\n",
              "          if (!dataTable) return;\n",
              "\n",
              "          const docLinkHtml = 'Like what you see? Visit the ' +\n",
              "            '<a target=\"_blank\" href=https://colab.research.google.com/notebooks/data_table.ipynb>data table notebook</a>'\n",
              "            + ' to learn more about interactive tables.';\n",
              "          element.innerHTML = '';\n",
              "          dataTable['output_type'] = 'display_data';\n",
              "          await google.colab.output.renderOutput(dataTable, element);\n",
              "          const docLink = document.createElement('div');\n",
              "          docLink.innerHTML = docLinkHtml;\n",
              "          element.appendChild(docLink);\n",
              "        }\n",
              "      </script>\n",
              "    </div>\n",
              "  </div>\n",
              "  "
            ],
            "text/plain": [
              "   A1   A2  A3  A4   A5    A6     A7  A8\n",
              "0   6  148  72  35    0  33.6  0.627  50\n",
              "1   1   85  66  29    0  26.6  0.351  31\n",
              "2   8  183  64   0    0  23.3  0.672  32\n",
              "3   1   89  66  23   94  28.1  0.167  21\n",
              "4   0  137  40  35  168  43.1  2.288  33"
            ]
          },
          "metadata": {},
          "execution_count": 79
        }
      ]
    },
    {
      "cell_type": "code",
      "source": [
        "# Spliting data into train and validation sets\n",
        "X_train1, X_val1, y_train1, y_val1 = train_test_split(X, y, test_size=0.3, random_state=100)\n",
        "print(f'training data set size: {len(X_train1)}')\n",
        "print(f'validation data set size: {len(X_val1)}')"
      ],
      "metadata": {
        "id": "riQywpRcbcqH",
        "colab": {
          "base_uri": "https://localhost:8080/"
        },
        "outputId": "bf7bd23c-4f9c-4379-f78a-139816b40317"
      },
      "execution_count": 80,
      "outputs": [
        {
          "output_type": "stream",
          "name": "stdout",
          "text": [
            "training data set size: 467\n",
            "validation data set size: 201\n"
          ]
        }
      ]
    },
    {
      "cell_type": "markdown",
      "source": [
        "# Build the Model "
      ],
      "metadata": {
        "id": "cGHb2kYVakl5"
      }
    },
    {
      "cell_type": "code",
      "source": [
        "# define the keras model \n",
        "model1 = Sequential()\n",
        "model1.add(Dense(units=60, input_dim=8, activation='relu'))\n",
        "model1.add(Dense(units=32, activation='relu'))\n",
        "#model1.add(Dense(units=50, activation='relu'))\n",
        "model1.add(Dense(1, activation='sigmoid'))\n",
        "\n",
        "model1.summary()"
      ],
      "metadata": {
        "id": "pFZDAuWDbhfo",
        "colab": {
          "base_uri": "https://localhost:8080/"
        },
        "outputId": "7e98cfa7-1ae7-4d22-db91-e2cb3ba1048a"
      },
      "execution_count": 81,
      "outputs": [
        {
          "output_type": "stream",
          "name": "stdout",
          "text": [
            "Model: \"sequential_6\"\n",
            "_________________________________________________________________\n",
            " Layer (type)                Output Shape              Param #   \n",
            "=================================================================\n",
            " dense_18 (Dense)            (None, 60)                540       \n",
            "                                                                 \n",
            " dense_19 (Dense)            (None, 32)                1952      \n",
            "                                                                 \n",
            " dense_20 (Dense)            (None, 1)                 33        \n",
            "                                                                 \n",
            "=================================================================\n",
            "Total params: 2,525\n",
            "Trainable params: 2,525\n",
            "Non-trainable params: 0\n",
            "_________________________________________________________________\n"
          ]
        }
      ]
    },
    {
      "cell_type": "code",
      "source": [
        "# Using keras model as a compiling\n",
        "import tensorflow as tf\n",
        "# create an optimiser object and set the learning rate\n",
        "opt = tf.keras.optimizers.Adam(learning_rate=0.01)\n"
      ],
      "metadata": {
        "id": "c7qzW6BpbjhA"
      },
      "execution_count": 82,
      "outputs": []
    },
    {
      "cell_type": "code",
      "source": [
        "# Compile the model with the optimiser object\n",
        "model1.compile(loss='binary_crossentropy', optimizer=opt, metrics=['accuracy'])"
      ],
      "metadata": {
        "id": "Jqd_boQum6jt"
      },
      "execution_count": 83,
      "outputs": []
    },
    {
      "cell_type": "code",
      "source": [
        "# training model\n",
        "history = model1.fit(X_train1, y_train1, batch_size=10, epochs=50, validation_data=(X_val1, y_val1))\n",
        "\n"
      ],
      "metadata": {
        "id": "9SvBvzI8blby",
        "colab": {
          "base_uri": "https://localhost:8080/"
        },
        "outputId": "b71615d2-ff70-4b5e-a98b-0a1f97a1058a"
      },
      "execution_count": 84,
      "outputs": [
        {
          "output_type": "stream",
          "name": "stdout",
          "text": [
            "Epoch 1/50\n",
            "47/47 [==============================] - 1s 7ms/step - loss: 3.0954 - accuracy: 0.5974 - val_loss: 2.3472 - val_accuracy: 0.3731\n",
            "Epoch 2/50\n",
            "47/47 [==============================] - 0s 4ms/step - loss: 1.3104 - accuracy: 0.5889 - val_loss: 0.6568 - val_accuracy: 0.6617\n",
            "Epoch 3/50\n",
            "47/47 [==============================] - 0s 3ms/step - loss: 0.7990 - accuracy: 0.6488 - val_loss: 0.7248 - val_accuracy: 0.6766\n",
            "Epoch 4/50\n",
            "47/47 [==============================] - 0s 4ms/step - loss: 0.6221 - accuracy: 0.6809 - val_loss: 0.5774 - val_accuracy: 0.7065\n",
            "Epoch 5/50\n",
            "47/47 [==============================] - 0s 3ms/step - loss: 0.6648 - accuracy: 0.6724 - val_loss: 0.6234 - val_accuracy: 0.7015\n",
            "Epoch 6/50\n",
            "47/47 [==============================] - 0s 4ms/step - loss: 0.6827 - accuracy: 0.6445 - val_loss: 0.6171 - val_accuracy: 0.7065\n",
            "Epoch 7/50\n",
            "47/47 [==============================] - 0s 4ms/step - loss: 0.6138 - accuracy: 0.6617 - val_loss: 0.6003 - val_accuracy: 0.7413\n",
            "Epoch 8/50\n",
            "47/47 [==============================] - 0s 4ms/step - loss: 0.5902 - accuracy: 0.7152 - val_loss: 0.6287 - val_accuracy: 0.6965\n",
            "Epoch 9/50\n",
            "47/47 [==============================] - 0s 4ms/step - loss: 0.6196 - accuracy: 0.6767 - val_loss: 0.6786 - val_accuracy: 0.6716\n",
            "Epoch 10/50\n",
            "47/47 [==============================] - 0s 4ms/step - loss: 0.5907 - accuracy: 0.7281 - val_loss: 0.5709 - val_accuracy: 0.7363\n",
            "Epoch 11/50\n",
            "47/47 [==============================] - 0s 4ms/step - loss: 0.5835 - accuracy: 0.7024 - val_loss: 0.5956 - val_accuracy: 0.7463\n",
            "Epoch 12/50\n",
            "47/47 [==============================] - 0s 4ms/step - loss: 0.5889 - accuracy: 0.7045 - val_loss: 0.6116 - val_accuracy: 0.7015\n",
            "Epoch 13/50\n",
            "47/47 [==============================] - 0s 3ms/step - loss: 0.5813 - accuracy: 0.7238 - val_loss: 0.5915 - val_accuracy: 0.7264\n",
            "Epoch 14/50\n",
            "47/47 [==============================] - 0s 4ms/step - loss: 0.5563 - accuracy: 0.7195 - val_loss: 0.5534 - val_accuracy: 0.7512\n",
            "Epoch 15/50\n",
            "47/47 [==============================] - 0s 4ms/step - loss: 0.5597 - accuracy: 0.7259 - val_loss: 0.7120 - val_accuracy: 0.7065\n",
            "Epoch 16/50\n",
            "47/47 [==============================] - 0s 4ms/step - loss: 0.6109 - accuracy: 0.6916 - val_loss: 0.5896 - val_accuracy: 0.7015\n",
            "Epoch 17/50\n",
            "47/47 [==============================] - 0s 4ms/step - loss: 0.5805 - accuracy: 0.7045 - val_loss: 0.6017 - val_accuracy: 0.7612\n",
            "Epoch 18/50\n",
            "47/47 [==============================] - 0s 3ms/step - loss: 0.5733 - accuracy: 0.7216 - val_loss: 0.5547 - val_accuracy: 0.7065\n",
            "Epoch 19/50\n",
            "47/47 [==============================] - 0s 4ms/step - loss: 0.5415 - accuracy: 0.7409 - val_loss: 0.5903 - val_accuracy: 0.7015\n",
            "Epoch 20/50\n",
            "47/47 [==============================] - 0s 3ms/step - loss: 0.5543 - accuracy: 0.7323 - val_loss: 0.5449 - val_accuracy: 0.7264\n",
            "Epoch 21/50\n",
            "47/47 [==============================] - 0s 3ms/step - loss: 0.5497 - accuracy: 0.7281 - val_loss: 0.5545 - val_accuracy: 0.7363\n",
            "Epoch 22/50\n",
            "47/47 [==============================] - 0s 4ms/step - loss: 0.5458 - accuracy: 0.7323 - val_loss: 0.5359 - val_accuracy: 0.7662\n",
            "Epoch 23/50\n",
            "47/47 [==============================] - 0s 3ms/step - loss: 0.5790 - accuracy: 0.6874 - val_loss: 0.6351 - val_accuracy: 0.7015\n",
            "Epoch 24/50\n",
            "47/47 [==============================] - 0s 4ms/step - loss: 0.5568 - accuracy: 0.7088 - val_loss: 0.5924 - val_accuracy: 0.7363\n",
            "Epoch 25/50\n",
            "47/47 [==============================] - 0s 3ms/step - loss: 0.5449 - accuracy: 0.7152 - val_loss: 0.5985 - val_accuracy: 0.7413\n",
            "Epoch 26/50\n",
            "47/47 [==============================] - 0s 3ms/step - loss: 0.5503 - accuracy: 0.7173 - val_loss: 0.5981 - val_accuracy: 0.7015\n",
            "Epoch 27/50\n",
            "47/47 [==============================] - 0s 4ms/step - loss: 0.5425 - accuracy: 0.7109 - val_loss: 0.5632 - val_accuracy: 0.7512\n",
            "Epoch 28/50\n",
            "47/47 [==============================] - 0s 4ms/step - loss: 0.5300 - accuracy: 0.7430 - val_loss: 0.5680 - val_accuracy: 0.7413\n",
            "Epoch 29/50\n",
            "47/47 [==============================] - 0s 5ms/step - loss: 0.5518 - accuracy: 0.7045 - val_loss: 0.6108 - val_accuracy: 0.7761\n",
            "Epoch 30/50\n",
            "47/47 [==============================] - 0s 3ms/step - loss: 0.5530 - accuracy: 0.7045 - val_loss: 0.5771 - val_accuracy: 0.7761\n",
            "Epoch 31/50\n",
            "47/47 [==============================] - 0s 3ms/step - loss: 0.5360 - accuracy: 0.7366 - val_loss: 0.5894 - val_accuracy: 0.7463\n",
            "Epoch 32/50\n",
            "47/47 [==============================] - 0s 3ms/step - loss: 0.5715 - accuracy: 0.7281 - val_loss: 0.5882 - val_accuracy: 0.7363\n",
            "Epoch 33/50\n",
            "47/47 [==============================] - 0s 4ms/step - loss: 0.5249 - accuracy: 0.7302 - val_loss: 0.5933 - val_accuracy: 0.7662\n",
            "Epoch 34/50\n",
            "47/47 [==============================] - 0s 3ms/step - loss: 0.5360 - accuracy: 0.7152 - val_loss: 0.6143 - val_accuracy: 0.6915\n",
            "Epoch 35/50\n",
            "47/47 [==============================] - 0s 5ms/step - loss: 0.5393 - accuracy: 0.7388 - val_loss: 0.5694 - val_accuracy: 0.7512\n",
            "Epoch 36/50\n",
            "47/47 [==============================] - 0s 4ms/step - loss: 0.5230 - accuracy: 0.7173 - val_loss: 0.5700 - val_accuracy: 0.7711\n",
            "Epoch 37/50\n",
            "47/47 [==============================] - 0s 3ms/step - loss: 0.5206 - accuracy: 0.7409 - val_loss: 0.5666 - val_accuracy: 0.7612\n",
            "Epoch 38/50\n",
            "47/47 [==============================] - 0s 4ms/step - loss: 0.5397 - accuracy: 0.7259 - val_loss: 0.5688 - val_accuracy: 0.7761\n",
            "Epoch 39/50\n",
            "47/47 [==============================] - 0s 3ms/step - loss: 0.5383 - accuracy: 0.7302 - val_loss: 0.5690 - val_accuracy: 0.7811\n",
            "Epoch 40/50\n",
            "47/47 [==============================] - 0s 5ms/step - loss: 0.5283 - accuracy: 0.7323 - val_loss: 0.5752 - val_accuracy: 0.7463\n",
            "Epoch 41/50\n",
            "47/47 [==============================] - 0s 3ms/step - loss: 0.5393 - accuracy: 0.7430 - val_loss: 0.5638 - val_accuracy: 0.7711\n",
            "Epoch 42/50\n",
            "47/47 [==============================] - 0s 4ms/step - loss: 0.5257 - accuracy: 0.7388 - val_loss: 0.5676 - val_accuracy: 0.7612\n",
            "Epoch 43/50\n",
            "47/47 [==============================] - 0s 4ms/step - loss: 0.5334 - accuracy: 0.7302 - val_loss: 0.6110 - val_accuracy: 0.7612\n",
            "Epoch 44/50\n",
            "47/47 [==============================] - 0s 3ms/step - loss: 0.5720 - accuracy: 0.6959 - val_loss: 0.6206 - val_accuracy: 0.7463\n",
            "Epoch 45/50\n",
            "47/47 [==============================] - 0s 4ms/step - loss: 0.5023 - accuracy: 0.7559 - val_loss: 0.6862 - val_accuracy: 0.7214\n",
            "Epoch 46/50\n",
            "47/47 [==============================] - 0s 4ms/step - loss: 0.5563 - accuracy: 0.7173 - val_loss: 0.6255 - val_accuracy: 0.7313\n",
            "Epoch 47/50\n",
            "47/47 [==============================] - 0s 3ms/step - loss: 0.5168 - accuracy: 0.7516 - val_loss: 0.6288 - val_accuracy: 0.7612\n",
            "Epoch 48/50\n",
            "47/47 [==============================] - 0s 4ms/step - loss: 0.5372 - accuracy: 0.7388 - val_loss: 0.5934 - val_accuracy: 0.7761\n",
            "Epoch 49/50\n",
            "47/47 [==============================] - 0s 3ms/step - loss: 0.5274 - accuracy: 0.7345 - val_loss: 0.6112 - val_accuracy: 0.7662\n",
            "Epoch 50/50\n",
            "47/47 [==============================] - 0s 3ms/step - loss: 0.5277 - accuracy: 0.7409 - val_loss: 0.5601 - val_accuracy: 0.8010\n"
          ]
        }
      ]
    },
    {
      "cell_type": "markdown",
      "source": [
        "# Plotting the Graph"
      ],
      "metadata": {
        "id": "yJxaXih1bZNp"
      }
    },
    {
      "cell_type": "code",
      "source": [
        "# A complete history for accuracy\n",
        "plt.plot(history.history['accuracy'])\n",
        "plt.plot(history.history['val_accuracy'])\n",
        "plt.title('model accuracy')\n",
        "plt.ylabel('accuracy')\n",
        "plt.xlabel('epoch')\n",
        "plt.legend(['train','test'], loc='upper left')\n",
        "plt.show()\n",
        "\n",
        "# A complete the history for loss\n",
        "plt.plot(history.history['loss'])\n",
        "plt.plot(history.history['val_loss'])\n",
        "plt.title('model loss')\n",
        "plt.ylabel('loss')\n",
        "plt.xlabel('epoch')\n",
        "plt.legend(['train','test'], loc='upper left')\n",
        "plt.show()"
      ],
      "metadata": {
        "id": "SO68BqpIcPjF",
        "colab": {
          "base_uri": "https://localhost:8080/",
          "height": 573
        },
        "outputId": "e4de5a39-ed4e-451d-c944-215b08383d8a"
      },
      "execution_count": 85,
      "outputs": [
        {
          "output_type": "display_data",
          "data": {
            "image/png": "[encoded data removed]",
            "text/plain": [
              "<Figure size 432x288 with 1 Axes>"
            ]
          },
          "metadata": {
            "needs_background": "light"
          }
        },
        {
          "output_type": "display_data",
          "data": {
            "image/png": "[encoded data removed]",
            "text/plain": [
              "<Figure size 432x288 with 1 Axes>"
            ]
          },
          "metadata": {
            "needs_background": "light"
          }
        }
      ]
    },
    {
      "cell_type": "markdown",
      "source": [
        "# Validating the Model"
      ],
      "metadata": {
        "id": "5cEVL2iAbsAD"
      }
    },
    {
      "cell_type": "code",
      "source": [
        "# Getting model predictions\n",
        "y_pred1 = model1.predict(X_val1)\n",
        "print(y_pred1[:10])"
      ],
      "metadata": {
        "id": "XOSR5y1Bfg9C",
        "colab": {
          "base_uri": "https://localhost:8080/"
        },
        "outputId": "64ca546f-719e-4033-86b7-bde97c00b0f7"
      },
      "execution_count": 86,
      "outputs": [
        {
          "output_type": "stream",
          "name": "stdout",
          "text": [
            "[[0.34266055]\n",
            " [0.46433553]\n",
            " [0.2768023 ]\n",
            " [0.3192685 ]\n",
            " [0.53130823]\n",
            " [0.01099241]\n",
            " [0.3625262 ]\n",
            " [0.24189904]\n",
            " [0.45339918]\n",
            " [0.14738244]]\n"
          ]
        }
      ]
    },
    {
      "cell_type": "code",
      "source": [
        "# Making a categorical predictions\n",
        "y_pred_categorical1 = [1 if pred > 0.5 else 0 for pred in y_pred1]\n",
        "print(y_pred_categorical1[:10])"
      ],
      "metadata": {
        "id": "EnxOOzECfn5t",
        "colab": {
          "base_uri": "https://localhost:8080/"
        },
        "outputId": "b04d8cc0-f167-4e88-98e7-81886e7b5468"
      },
      "execution_count": 87,
      "outputs": [
        {
          "output_type": "stream",
          "name": "stdout",
          "text": [
            "[0, 0, 0, 0, 1, 0, 0, 0, 0, 0]\n"
          ]
        }
      ]
    },
    {
      "cell_type": "code",
      "source": [
        "# Getting accuracy\n",
        "accuracy = metrics.accuracy_score(y_val1, y_pred_categorical1)\n",
        "print(f'Accuracy: {accuracy}')"
      ],
      "metadata": {
        "id": "jCz-3PCefqWv",
        "colab": {
          "base_uri": "https://localhost:8080/"
        },
        "outputId": "63d4402e-2a96-44ba-a704-f220aace33d5"
      },
      "execution_count": 88,
      "outputs": [
        {
          "output_type": "stream",
          "name": "stdout",
          "text": [
            "Accuracy: 0.8009950248756219\n"
          ]
        }
      ]
    },
    {
      "cell_type": "markdown",
      "source": [
        "# Doing Test Prediction"
      ],
      "metadata": {
        "id": "sstU92V2cFVT"
      }
    },
    {
      "cell_type": "code",
      "source": [
        "df_test = pd.read_csv('/content/test.csv')\n",
        "df_test\n"
      ],
      "metadata": {
        "id": "da3MVvcagDq1",
        "colab": {
          "base_uri": "https://localhost:8080/",
          "height": 424
        },
        "outputId": "51c75774-81c6-47ba-dcaa-1c8bfe6c8006"
      },
      "execution_count": 89,
      "outputs": [
        {
          "output_type": "execute_result",
          "data": {
            "text/html": [
              "\n",
              "  <div id=\"df-a05a6401-2566-49ca-83cb-235966f8b07b\">\n",
              "    <div class=\"colab-df-container\">\n",
              "      <div>\n",
              "<style scoped>\n",
              "    .dataframe tbody tr th:only-of-type {\n",
              "        vertical-align: middle;\n",
              "    }\n",
              "\n",
              "    .dataframe tbody tr th {\n",
              "        vertical-align: top;\n",
              "    }\n",
              "\n",
              "    .dataframe thead th {\n",
              "        text-align: right;\n",
              "    }\n",
              "</style>\n",
              "<table border=\"1\" class=\"dataframe\">\n",
              "  <thead>\n",
              "    <tr style=\"text-align: right;\">\n",
              "      <th></th>\n",
              "      <th>Id</th>\n",
              "      <th>A1</th>\n",
              "      <th>A2</th>\n",
              "      <th>A3</th>\n",
              "      <th>A4</th>\n",
              "      <th>A5</th>\n",
              "      <th>A6</th>\n",
              "      <th>A7</th>\n",
              "      <th>A8</th>\n",
              "    </tr>\n",
              "  </thead>\n",
              "  <tbody>\n",
              "    <tr>\n",
              "      <th>0</th>\n",
              "      <td>1</td>\n",
              "      <td>6</td>\n",
              "      <td>98</td>\n",
              "      <td>58</td>\n",
              "      <td>33</td>\n",
              "      <td>190</td>\n",
              "      <td>34.0</td>\n",
              "      <td>0.430</td>\n",
              "      <td>43</td>\n",
              "    </tr>\n",
              "    <tr>\n",
              "      <th>1</th>\n",
              "      <td>2</td>\n",
              "      <td>9</td>\n",
              "      <td>154</td>\n",
              "      <td>78</td>\n",
              "      <td>30</td>\n",
              "      <td>100</td>\n",
              "      <td>30.9</td>\n",
              "      <td>0.164</td>\n",
              "      <td>45</td>\n",
              "    </tr>\n",
              "    <tr>\n",
              "      <th>2</th>\n",
              "      <td>3</td>\n",
              "      <td>6</td>\n",
              "      <td>165</td>\n",
              "      <td>68</td>\n",
              "      <td>26</td>\n",
              "      <td>168</td>\n",
              "      <td>33.6</td>\n",
              "      <td>0.631</td>\n",
              "      <td>49</td>\n",
              "    </tr>\n",
              "    <tr>\n",
              "      <th>3</th>\n",
              "      <td>4</td>\n",
              "      <td>1</td>\n",
              "      <td>99</td>\n",
              "      <td>58</td>\n",
              "      <td>10</td>\n",
              "      <td>0</td>\n",
              "      <td>25.4</td>\n",
              "      <td>0.551</td>\n",
              "      <td>21</td>\n",
              "    </tr>\n",
              "    <tr>\n",
              "      <th>4</th>\n",
              "      <td>5</td>\n",
              "      <td>10</td>\n",
              "      <td>68</td>\n",
              "      <td>106</td>\n",
              "      <td>23</td>\n",
              "      <td>49</td>\n",
              "      <td>35.5</td>\n",
              "      <td>0.285</td>\n",
              "      <td>47</td>\n",
              "    </tr>\n",
              "    <tr>\n",
              "      <th>...</th>\n",
              "      <td>...</td>\n",
              "      <td>...</td>\n",
              "      <td>...</td>\n",
              "      <td>...</td>\n",
              "      <td>...</td>\n",
              "      <td>...</td>\n",
              "      <td>...</td>\n",
              "      <td>...</td>\n",
              "      <td>...</td>\n",
              "    </tr>\n",
              "    <tr>\n",
              "      <th>95</th>\n",
              "      <td>96</td>\n",
              "      <td>10</td>\n",
              "      <td>101</td>\n",
              "      <td>76</td>\n",
              "      <td>48</td>\n",
              "      <td>180</td>\n",
              "      <td>32.9</td>\n",
              "      <td>0.171</td>\n",
              "      <td>63</td>\n",
              "    </tr>\n",
              "    <tr>\n",
              "      <th>96</th>\n",
              "      <td>97</td>\n",
              "      <td>2</td>\n",
              "      <td>122</td>\n",
              "      <td>70</td>\n",
              "      <td>27</td>\n",
              "      <td>0</td>\n",
              "      <td>36.8</td>\n",
              "      <td>0.340</td>\n",
              "      <td>27</td>\n",
              "    </tr>\n",
              "    <tr>\n",
              "      <th>97</th>\n",
              "      <td>98</td>\n",
              "      <td>5</td>\n",
              "      <td>121</td>\n",
              "      <td>72</td>\n",
              "      <td>23</td>\n",
              "      <td>112</td>\n",
              "      <td>26.2</td>\n",
              "      <td>0.245</td>\n",
              "      <td>30</td>\n",
              "    </tr>\n",
              "    <tr>\n",
              "      <th>98</th>\n",
              "      <td>99</td>\n",
              "      <td>1</td>\n",
              "      <td>126</td>\n",
              "      <td>60</td>\n",
              "      <td>0</td>\n",
              "      <td>0</td>\n",
              "      <td>30.1</td>\n",
              "      <td>0.349</td>\n",
              "      <td>47</td>\n",
              "    </tr>\n",
              "    <tr>\n",
              "      <th>99</th>\n",
              "      <td>100</td>\n",
              "      <td>1</td>\n",
              "      <td>93</td>\n",
              "      <td>70</td>\n",
              "      <td>31</td>\n",
              "      <td>0</td>\n",
              "      <td>30.4</td>\n",
              "      <td>0.315</td>\n",
              "      <td>23</td>\n",
              "    </tr>\n",
              "  </tbody>\n",
              "</table>\n",
              "<p>100 rows × 9 columns</p>\n",
              "</div>\n",
              "      <button class=\"colab-df-convert\" onclick=\"convertToInteractive('df-a05a6401-2566-49ca-83cb-235966f8b07b')\"\n",
              "              title=\"Convert this dataframe to an interactive table.\"\n",
              "              style=\"display:none;\">\n",
              "        \n",
              "  <svg xmlns=\"http://www.w3.org/2000/svg\" height=\"24px\"viewBox=\"0 0 24 24\"\n",
              "       width=\"24px\">\n",
              "    <path d=\"M0 0h24v24H0V0z\" fill=\"none\"/>\n",
              "    <path d=\"M18.56 5.44l.94 2.06.94-2.06 2.06-.94-2.06-.94-.94-2.06-.94 2.06-2.06.94zm-11 1L8.5 8.5l.94-2.06 2.06-.94-2.06-.94L8.5 2.5l-.94 2.06-2.06.94zm10 10l.94 2.06.94-2.06 2.06-.94-2.06-.94-.94-2.06-.94 2.06-2.06.94z\"/><path d=\"M17.41 7.96l-1.37-1.37c-.4-.4-.92-.59-1.43-.59-.52 0-1.04.2-1.43.59L10.3 9.45l-7.72 7.72c-.78.78-.78 2.05 0 2.83L4 21.41c.39.39.9.59 1.41.59.51 0 1.02-.2 1.41-.59l7.78-7.78 2.81-2.81c.8-.78.8-2.07 0-2.86zM5.41 20L4 18.59l7.72-7.72 1.47 1.35L5.41 20z\"/>\n",
              "  </svg>\n",
              "      </button>\n",
              "      \n",
              "  <style>\n",
              "    .colab-df-container {\n",
              "      display:flex;\n",
              "      flex-wrap:wrap;\n",
              "      gap: 12px;\n",
              "    }\n",
              "\n",
              "    .colab-df-convert {\n",
              "      background-color: #E8F0FE;\n",
              "      border: none;\n",
              "      border-radius: 50%;\n",
              "      cursor: pointer;\n",
              "      display: none;\n",
              "      fill: #1967D2;\n",
              "      height: 32px;\n",
              "      padding: 0 0 0 0;\n",
              "      width: 32px;\n",
              "    }\n",
              "\n",
              "    .colab-df-convert:hover {\n",
              "      background-color: #E2EBFA;\n",
              "      box-shadow: 0px 1px 2px rgba(60, 64, 67, 0.3), 0px 1px 3px 1px rgba(60, 64, 67, 0.15);\n",
              "      fill: #174EA6;\n",
              "    }\n",
              "\n",
              "    [theme=dark] .colab-df-convert {\n",
              "      background-color: #3B4455;\n",
              "      fill: #D2E3FC;\n",
              "    }\n",
              "\n",
              "    [theme=dark] .colab-df-convert:hover {\n",
              "      background-color: #434B5C;\n",
              "      box-shadow: 0px 1px 3px 1px rgba(0, 0, 0, 0.15);\n",
              "      filter: drop-shadow(0px 1px 2px rgba(0, 0, 0, 0.3));\n",
              "      fill: #FFFFFF;\n",
              "    }\n",
              "  </style>\n",
              "\n",
              "      <script>\n",
              "        const buttonEl =\n",
              "          document.querySelector('#df-a05a6401-2566-49ca-83cb-235966f8b07b button.colab-df-convert');\n",
              "        buttonEl.style.display =\n",
              "          google.colab.kernel.accessAllowed ? 'block' : 'none';\n",
              "\n",
              "        async function convertToInteractive(key) {\n",
              "          const element = document.querySelector('#df-a05a6401-2566-49ca-83cb-235966f8b07b');\n",
              "          const dataTable =\n",
              "            await google.colab.kernel.invokeFunction('convertToInteractive',\n",
              "                                                     [key], {});\n",
              "          if (!dataTable) return;\n",
              "\n",
              "          const docLinkHtml = 'Like what you see? Visit the ' +\n",
              "            '<a target=\"_blank\" href=https://colab.research.google.com/notebooks/data_table.ipynb>data table notebook</a>'\n",
              "            + ' to learn more about interactive tables.';\n",
              "          element.innerHTML = '';\n",
              "          dataTable['output_type'] = 'display_data';\n",
              "          await google.colab.output.renderOutput(dataTable, element);\n",
              "          const docLink = document.createElement('div');\n",
              "          docLink.innerHTML = docLinkHtml;\n",
              "          element.appendChild(docLink);\n",
              "        }\n",
              "      </script>\n",
              "    </div>\n",
              "  </div>\n",
              "  "
            ],
            "text/plain": [
              "     Id  A1   A2   A3  A4   A5    A6     A7  A8\n",
              "0     1   6   98   58  33  190  34.0  0.430  43\n",
              "1     2   9  154   78  30  100  30.9  0.164  45\n",
              "2     3   6  165   68  26  168  33.6  0.631  49\n",
              "3     4   1   99   58  10    0  25.4  0.551  21\n",
              "4     5  10   68  106  23   49  35.5  0.285  47\n",
              "..  ...  ..  ...  ...  ..  ...   ...    ...  ..\n",
              "95   96  10  101   76  48  180  32.9  0.171  63\n",
              "96   97   2  122   70  27    0  36.8  0.340  27\n",
              "97   98   5  121   72  23  112  26.2  0.245  30\n",
              "98   99   1  126   60   0    0  30.1  0.349  47\n",
              "99  100   1   93   70  31    0  30.4  0.315  23\n",
              "\n",
              "[100 rows x 9 columns]"
            ]
          },
          "metadata": {},
          "execution_count": 89
        }
      ]
    },
    {
      "cell_type": "code",
      "source": [
        "# summarise the details\n",
        "print(f'Number of entries: {len(df_test)}')\n",
        "\n",
        "X_test = df_test.drop(['Id'], axis=1)\n",
        "print(X_test.info())"
      ],
      "metadata": {
        "id": "CyfJVdWZgRZb",
        "colab": {
          "base_uri": "https://localhost:8080/"
        },
        "outputId": "a5ec5448-722f-4e81-bc18-cb4bffa092ed"
      },
      "execution_count": 90,
      "outputs": [
        {
          "output_type": "stream",
          "name": "stdout",
          "text": [
            "Number of entries: 100\n",
            "<class 'pandas.core.frame.DataFrame'>\n",
            "RangeIndex: 100 entries, 0 to 99\n",
            "Data columns (total 8 columns):\n",
            " #   Column  Non-Null Count  Dtype  \n",
            "---  ------  --------------  -----  \n",
            " 0   A1      100 non-null    int64  \n",
            " 1   A2      100 non-null    int64  \n",
            " 2   A3      100 non-null    int64  \n",
            " 3   A4      100 non-null    int64  \n",
            " 4   A5      100 non-null    int64  \n",
            " 5   A6      100 non-null    float64\n",
            " 6   A7      100 non-null    float64\n",
            " 7   A8      100 non-null    int64  \n",
            "dtypes: float64(2), int64(6)\n",
            "memory usage: 6.4 KB\n",
            "None\n"
          ]
        }
      ]
    },
    {
      "cell_type": "code",
      "source": [
        "# create LabelEncoder for labels \n",
        "predictions = model1.predict(X_test)\n",
        "print(predictions)\n",
        "\n",
        "final_predictions = [1 if pred > 0.5 else 0 for pred in predictions]\n",
        "print(final_predictions)\n"
      ],
      "metadata": {
        "id": "ucYp7h2GgX2T",
        "colab": {
          "base_uri": "https://localhost:8080/"
        },
        "outputId": "ca86da41-e85d-4a67-c353-bd75dc56959b"
      },
      "execution_count": 91,
      "outputs": [
        {
          "output_type": "stream",
          "name": "stdout",
          "text": [
            "[[0.4687451 ]\n",
            " [0.50112   ]\n",
            " [0.61926097]\n",
            " [0.3443526 ]\n",
            " [0.10184899]\n",
            " [0.31734958]\n",
            " [0.05315658]\n",
            " [0.91561794]\n",
            " [0.47173882]\n",
            " [0.30714458]\n",
            " [0.5950903 ]\n",
            " [0.27541065]\n",
            " [0.1208359 ]\n",
            " [0.7245457 ]\n",
            " [0.26044095]\n",
            " [0.46465012]\n",
            " [0.00298795]\n",
            " [0.37436152]\n",
            " [0.56383806]\n",
            " [0.48784715]\n",
            " [0.35816765]\n",
            " [0.48679605]\n",
            " [0.36610833]\n",
            " [0.63538647]\n",
            " [0.3158859 ]\n",
            " [0.483299  ]\n",
            " [0.26080388]\n",
            " [0.4324565 ]\n",
            " [0.5141525 ]\n",
            " [0.7610166 ]\n",
            " [0.27076042]\n",
            " [0.5436229 ]\n",
            " [0.36677772]\n",
            " [0.48849607]\n",
            " [0.7025756 ]\n",
            " [0.58506334]\n",
            " [0.2806369 ]\n",
            " [0.18745449]\n",
            " [0.02589849]\n",
            " [0.42881206]\n",
            " [0.80516326]\n",
            " [0.30979168]\n",
            " [0.36143678]\n",
            " [0.3614291 ]\n",
            " [0.7378228 ]\n",
            " [0.3281344 ]\n",
            " [0.27289027]\n",
            " [0.798251  ]\n",
            " [0.5701467 ]\n",
            " [0.24540848]\n",
            " [0.3888765 ]\n",
            " [0.3509744 ]\n",
            " [0.12720966]\n",
            " [0.37222767]\n",
            " [0.47302532]\n",
            " [0.30399814]\n",
            " [0.18547606]\n",
            " [0.3773478 ]\n",
            " [0.3339277 ]\n",
            " [0.39828777]\n",
            " [0.5062429 ]\n",
            " [0.3616102 ]\n",
            " [0.30480307]\n",
            " [0.32957697]\n",
            " [0.46074244]\n",
            " [0.36569566]\n",
            " [0.21666127]\n",
            " [0.37008464]\n",
            " [0.22859794]\n",
            " [0.21456778]\n",
            " [0.2961605 ]\n",
            " [0.32408112]\n",
            " [0.48099726]\n",
            " [0.33639282]\n",
            " [0.30450875]\n",
            " [0.5898469 ]\n",
            " [0.5527388 ]\n",
            " [0.31208846]\n",
            " [0.45294315]\n",
            " [0.16500491]\n",
            " [0.637523  ]\n",
            " [0.48436767]\n",
            " [0.6463217 ]\n",
            " [0.24566352]\n",
            " [0.36857584]\n",
            " [0.46173316]\n",
            " [0.7446189 ]\n",
            " [0.30233508]\n",
            " [0.45236725]\n",
            " [0.4975725 ]\n",
            " [0.29881483]\n",
            " [0.76927006]\n",
            " [0.2314001 ]\n",
            " [0.8674479 ]\n",
            " [0.29771495]\n",
            " [0.50071913]\n",
            " [0.4660429 ]\n",
            " [0.35190964]\n",
            " [0.57077146]\n",
            " [0.20158085]]\n",
            "[0, 1, 1, 0, 0, 0, 0, 1, 0, 0, 1, 0, 0, 1, 0, 0, 0, 0, 1, 0, 0, 0, 0, 1, 0, 0, 0, 0, 1, 1, 0, 1, 0, 0, 1, 1, 0, 0, 0, 0, 1, 0, 0, 0, 1, 0, 0, 1, 1, 0, 0, 0, 0, 0, 0, 0, 0, 0, 0, 0, 1, 0, 0, 0, 0, 0, 0, 0, 0, 0, 0, 0, 0, 0, 0, 1, 1, 0, 0, 0, 1, 0, 1, 0, 0, 0, 1, 0, 0, 0, 0, 1, 0, 1, 0, 1, 0, 0, 1, 0]\n"
          ]
        }
      ]
    },
    {
      "cell_type": "code",
      "source": [
        "df_submission = pd.DataFrame(df_test['Id'])\n",
        "df_submission['Class'] = final_predictions"
      ],
      "metadata": {
        "id": "CpXHjcf1p4x_"
      },
      "execution_count": 92,
      "outputs": []
    },
    {
      "cell_type": "code",
      "source": [
        "df_submission.to_csv('/content/test-predictions.csv', index=False)"
      ],
      "metadata": {
        "id": "41GqlnyRqzD7"
      },
      "execution_count": 93,
      "outputs": []
    },
    {
      "cell_type": "code",
      "source": [
        "Test_pred=pd.read_csv('/content/test-predictions.csv')\n",
        "Test_pred"
      ],
      "metadata": {
        "id": "KLNBMmdmrNcS",
        "colab": {
          "base_uri": "https://localhost:8080/",
          "height": 424
        },
        "outputId": "2c0e57d3-e485-42af-e7b0-f377b55b4bf7"
      },
      "execution_count": 94,
      "outputs": [
        {
          "output_type": "execute_result",
          "data": {
            "text/html": [
              "\n",
              "  <div id=\"df-106321da-4117-494a-a53f-53a3adfa6699\">\n",
              "    <div class=\"colab-df-container\">\n",
              "      <div>\n",
              "<style scoped>\n",
              "    .dataframe tbody tr th:only-of-type {\n",
              "        vertical-align: middle;\n",
              "    }\n",
              "\n",
              "    .dataframe tbody tr th {\n",
              "        vertical-align: top;\n",
              "    }\n",
              "\n",
              "    .dataframe thead th {\n",
              "        text-align: right;\n",
              "    }\n",
              "</style>\n",
              "<table border=\"1\" class=\"dataframe\">\n",
              "  <thead>\n",
              "    <tr style=\"text-align: right;\">\n",
              "      <th></th>\n",
              "      <th>Id</th>\n",
              "      <th>Class</th>\n",
              "    </tr>\n",
              "  </thead>\n",
              "  <tbody>\n",
              "    <tr>\n",
              "      <th>0</th>\n",
              "      <td>1</td>\n",
              "      <td>0</td>\n",
              "    </tr>\n",
              "    <tr>\n",
              "      <th>1</th>\n",
              "      <td>2</td>\n",
              "      <td>1</td>\n",
              "    </tr>\n",
              "    <tr>\n",
              "      <th>2</th>\n",
              "      <td>3</td>\n",
              "      <td>1</td>\n",
              "    </tr>\n",
              "    <tr>\n",
              "      <th>3</th>\n",
              "      <td>4</td>\n",
              "      <td>0</td>\n",
              "    </tr>\n",
              "    <tr>\n",
              "      <th>4</th>\n",
              "      <td>5</td>\n",
              "      <td>0</td>\n",
              "    </tr>\n",
              "    <tr>\n",
              "      <th>...</th>\n",
              "      <td>...</td>\n",
              "      <td>...</td>\n",
              "    </tr>\n",
              "    <tr>\n",
              "      <th>95</th>\n",
              "      <td>96</td>\n",
              "      <td>1</td>\n",
              "    </tr>\n",
              "    <tr>\n",
              "      <th>96</th>\n",
              "      <td>97</td>\n",
              "      <td>0</td>\n",
              "    </tr>\n",
              "    <tr>\n",
              "      <th>97</th>\n",
              "      <td>98</td>\n",
              "      <td>0</td>\n",
              "    </tr>\n",
              "    <tr>\n",
              "      <th>98</th>\n",
              "      <td>99</td>\n",
              "      <td>1</td>\n",
              "    </tr>\n",
              "    <tr>\n",
              "      <th>99</th>\n",
              "      <td>100</td>\n",
              "      <td>0</td>\n",
              "    </tr>\n",
              "  </tbody>\n",
              "</table>\n",
              "<p>100 rows × 2 columns</p>\n",
              "</div>\n",
              "      <button class=\"colab-df-convert\" onclick=\"convertToInteractive('df-106321da-4117-494a-a53f-53a3adfa6699')\"\n",
              "              title=\"Convert this dataframe to an interactive table.\"\n",
              "              style=\"display:none;\">\n",
              "        \n",
              "  <svg xmlns=\"http://www.w3.org/2000/svg\" height=\"24px\"viewBox=\"0 0 24 24\"\n",
              "       width=\"24px\">\n",
              "    <path d=\"M0 0h24v24H0V0z\" fill=\"none\"/>\n",
              "    <path d=\"M18.56 5.44l.94 2.06.94-2.06 2.06-.94-2.06-.94-.94-2.06-.94 2.06-2.06.94zm-11 1L8.5 8.5l.94-2.06 2.06-.94-2.06-.94L8.5 2.5l-.94 2.06-2.06.94zm10 10l.94 2.06.94-2.06 2.06-.94-2.06-.94-.94-2.06-.94 2.06-2.06.94z\"/><path d=\"M17.41 7.96l-1.37-1.37c-.4-.4-.92-.59-1.43-.59-.52 0-1.04.2-1.43.59L10.3 9.45l-7.72 7.72c-.78.78-.78 2.05 0 2.83L4 21.41c.39.39.9.59 1.41.59.51 0 1.02-.2 1.41-.59l7.78-7.78 2.81-2.81c.8-.78.8-2.07 0-2.86zM5.41 20L4 18.59l7.72-7.72 1.47 1.35L5.41 20z\"/>\n",
              "  </svg>\n",
              "      </button>\n",
              "      \n",
              "  <style>\n",
              "    .colab-df-container {\n",
              "      display:flex;\n",
              "      flex-wrap:wrap;\n",
              "      gap: 12px;\n",
              "    }\n",
              "\n",
              "    .colab-df-convert {\n",
              "      background-color: #E8F0FE;\n",
              "      border: none;\n",
              "      border-radius: 50%;\n",
              "      cursor: pointer;\n",
              "      display: none;\n",
              "      fill: #1967D2;\n",
              "      height: 32px;\n",
              "      padding: 0 0 0 0;\n",
              "      width: 32px;\n",
              "    }\n",
              "\n",
              "    .colab-df-convert:hover {\n",
              "      background-color: #E2EBFA;\n",
              "      box-shadow: 0px 1px 2px rgba(60, 64, 67, 0.3), 0px 1px 3px 1px rgba(60, 64, 67, 0.15);\n",
              "      fill: #174EA6;\n",
              "    }\n",
              "\n",
              "    [theme=dark] .colab-df-convert {\n",
              "      background-color: #3B4455;\n",
              "      fill: #D2E3FC;\n",
              "    }\n",
              "\n",
              "    [theme=dark] .colab-df-convert:hover {\n",
              "      background-color: #434B5C;\n",
              "      box-shadow: 0px 1px 3px 1px rgba(0, 0, 0, 0.15);\n",
              "      filter: drop-shadow(0px 1px 2px rgba(0, 0, 0, 0.3));\n",
              "      fill: #FFFFFF;\n",
              "    }\n",
              "  </style>\n",
              "\n",
              "      <script>\n",
              "        const buttonEl =\n",
              "          document.querySelector('#df-106321da-4117-494a-a53f-53a3adfa6699 button.colab-df-convert');\n",
              "        buttonEl.style.display =\n",
              "          google.colab.kernel.accessAllowed ? 'block' : 'none';\n",
              "\n",
              "        async function convertToInteractive(key) {\n",
              "          const element = document.querySelector('#df-106321da-4117-494a-a53f-53a3adfa6699');\n",
              "          const dataTable =\n",
              "            await google.colab.kernel.invokeFunction('convertToInteractive',\n",
              "                                                     [key], {});\n",
              "          if (!dataTable) return;\n",
              "\n",
              "          const docLinkHtml = 'Like what you see? Visit the ' +\n",
              "            '<a target=\"_blank\" href=https://colab.research.google.com/notebooks/data_table.ipynb>data table notebook</a>'\n",
              "            + ' to learn more about interactive tables.';\n",
              "          element.innerHTML = '';\n",
              "          dataTable['output_type'] = 'display_data';\n",
              "          await google.colab.output.renderOutput(dataTable, element);\n",
              "          const docLink = document.createElement('div');\n",
              "          docLink.innerHTML = docLinkHtml;\n",
              "          element.appendChild(docLink);\n",
              "        }\n",
              "      </script>\n",
              "    </div>\n",
              "  </div>\n",
              "  "
            ],
            "text/plain": [
              "     Id  Class\n",
              "0     1      0\n",
              "1     2      1\n",
              "2     3      1\n",
              "3     4      0\n",
              "4     5      0\n",
              "..  ...    ...\n",
              "95   96      1\n",
              "96   97      0\n",
              "97   98      0\n",
              "98   99      1\n",
              "99  100      0\n",
              "\n",
              "[100 rows x 2 columns]"
            ]
          },
          "metadata": {},
          "execution_count": 94
        }
      ]
    },
    {
      "cell_type": "code",
      "source": [
        "# Summarise class details\n",
        "sns.countplot(x=Test_pred['Class'])"
      ],
      "metadata": {
        "colab": {
          "base_uri": "https://localhost:8080/",
          "height": 296
        },
        "id": "HHnse9aIc-78",
        "outputId": "60511eb5-5b7e-4f7e-d6c6-7572c118269a"
      },
      "execution_count": 95,
      "outputs": [
        {
          "output_type": "execute_result",
          "data": {
            "text/plain": [
              "<matplotlib.axes._subplots.AxesSubplot at 0x7fae233d5c90>"
            ]
          },
          "metadata": {},
          "execution_count": 95
        },
        {
          "output_type": "display_data",
          "data": {
            "image/png": "[encoded data removed]",
            "text/plain": [
              "<Figure size 432x288 with 1 Axes>"
            ]
          },
          "metadata": {
            "needs_background": "light"
          }
        }
      ]
    },
    {
      "cell_type": "code",
      "source": [
        "Test_pred[\"Class\"].value_counts().plot(kind =\"pie\", autopct='%1.1f%%', figsize=(9.5,9.5));"
      ],
      "metadata": {
        "colab": {
          "base_uri": "https://localhost:8080/",
          "height": 547
        },
        "id": "LxCvOZl7dB1Q",
        "outputId": "522f5272-1b6c-4587-b94b-19ec1c1f096a"
      },
      "execution_count": 96,
      "outputs": [
        {
          "output_type": "display_data",
          "data": {
            "image/png": "[encoded data removed]",
            "text/plain": [
              "<Figure size 684x684 with 1 Axes>"
            ]
          },
          "metadata": {}
        }
      ]
    }
  ]
}