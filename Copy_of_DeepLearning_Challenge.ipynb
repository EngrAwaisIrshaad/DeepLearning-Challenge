{
  "nbformat": 4,
  "nbformat_minor": 0,
  "metadata": {
    "colab": {
      "name": "Copy_of_DeepLearning_Challenge.ipynb",
      "provenance": [],
      "collapsed_sections": [],
      "include_colab_link": true
    },
    "kernelspec": {
      "name": "python3",
      "display_name": "Python 3"
    },
    "language_info": {
      "name": "python"
    }
  },
  "cells": [
    {
      "cell_type": "markdown",
      "metadata": {
        "id": "view-in-github",
        "colab_type": "text"
      },
      "source": [
        "<a href=\"https://colab.research.google.com/github/Megacity1/DeepLearning-Challenge/blob/main/Copy_of_DeepLearning_Challenge.ipynb\" target=\"_parent\"><img src=\"https://colab.research.google.com/assets/colab-badge.svg\" alt=\"Open In Colab\"/></a>"
      ]
    },
    {
      "cell_type": "code",
      "execution_count": null,
      "metadata": {
        "id": "jWQOKO3zQVCr"
      },
      "outputs": [],
      "source": [
        ""
      ]
    },
    {
      "cell_type": "code",
      "execution_count": 1,
      "metadata": {
        "id": "J5lMtoAIW36P"
      },
      "outputs": [],
      "source": [
        "#Importing all the necessary libraries\n",
        "import pandas as pd\n",
        "import numpy as np\n",
        "import seaborn as sns\n",
        "import matplotlib.pyplot as plt\n",
        "from sklearn.preprocessing import normalize\n",
        "\n",
        "from sklearn.preprocessing import LabelEncoder\n",
        "from sklearn.model_selection import train_test_split\n",
        "\n",
        "from keras.models import Sequential\n",
        "from keras.layers import Dense\n",
        "\n",
        "from sklearn import metrics   \n",
        "\n",
        "from tensorflow.keras.layers import Dropout\n",
        "import tensorflow as tf"
      ]
    },
    {
      "cell_type": "code",
      "source": [
        "#Complete description of the provided dataset\n"
      ],
      "metadata": {
        "id": "82cDgqLPXSZR"
      },
      "execution_count": 2,
      "outputs": []
    },
    {
      "cell_type": "markdown",
      "source": [
        "### **Dataset Description**\n",
        "*   A1 - Number of times pregnant\n",
        "*   A2 - Plasma glucose concentration a 2 hours in an\n",
        "oral glucose tolerance test\n",
        "*   A3 - Diastolic blood pressure (mm Hg)\n",
        "*   A4 - Triceps skin fold thickness (mm)\n",
        "*   A5 - 2-Hour serum insulin (mu U/ml)\n",
        "*   A6 - Body mass index (weight in kg/(height in m)^2)\n",
        "*   A7 - Diabetes pedigree function\n",
        "*   A8 - Age (years)\n",
        "\n"
      ],
      "metadata": {
        "id": "_KKo36aTnM2f"
      }
    },
    {
      "cell_type": "code",
      "source": [
        "#Import training data file\n"
      ],
      "metadata": {
        "id": "bqtUH2XZXmIA"
      },
      "execution_count": 3,
      "outputs": []
    },
    {
      "cell_type": "code",
      "source": [
        "data = pd.read_csv('/content/train.csv')\n",
        "data"
      ],
      "metadata": {
        "colab": {
          "base_uri": "https://localhost:8080/",
          "height": 424
        },
        "id": "dXhbKLxjX8h-",
        "outputId": "3d6005ea-531b-464f-98c6-a75ab2a5b740"
      },
      "execution_count": 4,
      "outputs": [
        {
          "output_type": "execute_result",
          "data": {
            "text/html": [
              "\n",
              "  <div id=\"df-4fc4578b-8ce6-46ee-a40b-079317d77841\">\n",
              "    <div class=\"colab-df-container\">\n",
              "      <div>\n",
              "<style scoped>\n",
              "    .dataframe tbody tr th:only-of-type {\n",
              "        vertical-align: middle;\n",
              "    }\n",
              "\n",
              "    .dataframe tbody tr th {\n",
              "        vertical-align: top;\n",
              "    }\n",
              "\n",
              "    .dataframe thead th {\n",
              "        text-align: right;\n",
              "    }\n",
              "</style>\n",
              "<table border=\"1\" class=\"dataframe\">\n",
              "  <thead>\n",
              "    <tr style=\"text-align: right;\">\n",
              "      <th></th>\n",
              "      <th>Id</th>\n",
              "      <th>A1</th>\n",
              "      <th>A2</th>\n",
              "      <th>A3</th>\n",
              "      <th>A4</th>\n",
              "      <th>A5</th>\n",
              "      <th>A6</th>\n",
              "      <th>A7</th>\n",
              "      <th>A8</th>\n",
              "      <th>Class</th>\n",
              "    </tr>\n",
              "  </thead>\n",
              "  <tbody>\n",
              "    <tr>\n",
              "      <th>0</th>\n",
              "      <td>1</td>\n",
              "      <td>6</td>\n",
              "      <td>148</td>\n",
              "      <td>72</td>\n",
              "      <td>35</td>\n",
              "      <td>0</td>\n",
              "      <td>33.6</td>\n",
              "      <td>0.627</td>\n",
              "      <td>50</td>\n",
              "      <td>1</td>\n",
              "    </tr>\n",
              "    <tr>\n",
              "      <th>1</th>\n",
              "      <td>2</td>\n",
              "      <td>1</td>\n",
              "      <td>85</td>\n",
              "      <td>66</td>\n",
              "      <td>29</td>\n",
              "      <td>0</td>\n",
              "      <td>26.6</td>\n",
              "      <td>0.351</td>\n",
              "      <td>31</td>\n",
              "      <td>0</td>\n",
              "    </tr>\n",
              "    <tr>\n",
              "      <th>2</th>\n",
              "      <td>3</td>\n",
              "      <td>8</td>\n",
              "      <td>183</td>\n",
              "      <td>64</td>\n",
              "      <td>0</td>\n",
              "      <td>0</td>\n",
              "      <td>23.3</td>\n",
              "      <td>0.672</td>\n",
              "      <td>32</td>\n",
              "      <td>1</td>\n",
              "    </tr>\n",
              "    <tr>\n",
              "      <th>3</th>\n",
              "      <td>4</td>\n",
              "      <td>1</td>\n",
              "      <td>89</td>\n",
              "      <td>66</td>\n",
              "      <td>23</td>\n",
              "      <td>94</td>\n",
              "      <td>28.1</td>\n",
              "      <td>0.167</td>\n",
              "      <td>21</td>\n",
              "      <td>0</td>\n",
              "    </tr>\n",
              "    <tr>\n",
              "      <th>4</th>\n",
              "      <td>5</td>\n",
              "      <td>0</td>\n",
              "      <td>137</td>\n",
              "      <td>40</td>\n",
              "      <td>35</td>\n",
              "      <td>168</td>\n",
              "      <td>43.1</td>\n",
              "      <td>2.288</td>\n",
              "      <td>33</td>\n",
              "      <td>1</td>\n",
              "    </tr>\n",
              "    <tr>\n",
              "      <th>...</th>\n",
              "      <td>...</td>\n",
              "      <td>...</td>\n",
              "      <td>...</td>\n",
              "      <td>...</td>\n",
              "      <td>...</td>\n",
              "      <td>...</td>\n",
              "      <td>...</td>\n",
              "      <td>...</td>\n",
              "      <td>...</td>\n",
              "      <td>...</td>\n",
              "    </tr>\n",
              "    <tr>\n",
              "      <th>663</th>\n",
              "      <td>664</td>\n",
              "      <td>9</td>\n",
              "      <td>145</td>\n",
              "      <td>80</td>\n",
              "      <td>46</td>\n",
              "      <td>130</td>\n",
              "      <td>37.9</td>\n",
              "      <td>0.637</td>\n",
              "      <td>40</td>\n",
              "      <td>1</td>\n",
              "    </tr>\n",
              "    <tr>\n",
              "      <th>664</th>\n",
              "      <td>665</td>\n",
              "      <td>6</td>\n",
              "      <td>115</td>\n",
              "      <td>60</td>\n",
              "      <td>39</td>\n",
              "      <td>0</td>\n",
              "      <td>33.7</td>\n",
              "      <td>0.245</td>\n",
              "      <td>40</td>\n",
              "      <td>1</td>\n",
              "    </tr>\n",
              "    <tr>\n",
              "      <th>665</th>\n",
              "      <td>666</td>\n",
              "      <td>1</td>\n",
              "      <td>112</td>\n",
              "      <td>80</td>\n",
              "      <td>45</td>\n",
              "      <td>132</td>\n",
              "      <td>34.8</td>\n",
              "      <td>0.217</td>\n",
              "      <td>24</td>\n",
              "      <td>0</td>\n",
              "    </tr>\n",
              "    <tr>\n",
              "      <th>666</th>\n",
              "      <td>667</td>\n",
              "      <td>4</td>\n",
              "      <td>145</td>\n",
              "      <td>82</td>\n",
              "      <td>18</td>\n",
              "      <td>0</td>\n",
              "      <td>32.5</td>\n",
              "      <td>0.235</td>\n",
              "      <td>70</td>\n",
              "      <td>1</td>\n",
              "    </tr>\n",
              "    <tr>\n",
              "      <th>667</th>\n",
              "      <td>668</td>\n",
              "      <td>10</td>\n",
              "      <td>111</td>\n",
              "      <td>70</td>\n",
              "      <td>27</td>\n",
              "      <td>0</td>\n",
              "      <td>27.5</td>\n",
              "      <td>0.141</td>\n",
              "      <td>40</td>\n",
              "      <td>1</td>\n",
              "    </tr>\n",
              "  </tbody>\n",
              "</table>\n",
              "<p>668 rows × 10 columns</p>\n",
              "</div>\n",
              "      <button class=\"colab-df-convert\" onclick=\"convertToInteractive('df-4fc4578b-8ce6-46ee-a40b-079317d77841')\"\n",
              "              title=\"Convert this dataframe to an interactive table.\"\n",
              "              style=\"display:none;\">\n",
              "        \n",
              "  <svg xmlns=\"http://www.w3.org/2000/svg\" height=\"24px\"viewBox=\"0 0 24 24\"\n",
              "       width=\"24px\">\n",
              "    <path d=\"M0 0h24v24H0V0z\" fill=\"none\"/>\n",
              "    <path d=\"M18.56 5.44l.94 2.06.94-2.06 2.06-.94-2.06-.94-.94-2.06-.94 2.06-2.06.94zm-11 1L8.5 8.5l.94-2.06 2.06-.94-2.06-.94L8.5 2.5l-.94 2.06-2.06.94zm10 10l.94 2.06.94-2.06 2.06-.94-2.06-.94-.94-2.06-.94 2.06-2.06.94z\"/><path d=\"M17.41 7.96l-1.37-1.37c-.4-.4-.92-.59-1.43-.59-.52 0-1.04.2-1.43.59L10.3 9.45l-7.72 7.72c-.78.78-.78 2.05 0 2.83L4 21.41c.39.39.9.59 1.41.59.51 0 1.02-.2 1.41-.59l7.78-7.78 2.81-2.81c.8-.78.8-2.07 0-2.86zM5.41 20L4 18.59l7.72-7.72 1.47 1.35L5.41 20z\"/>\n",
              "  </svg>\n",
              "      </button>\n",
              "      \n",
              "  <style>\n",
              "    .colab-df-container {\n",
              "      display:flex;\n",
              "      flex-wrap:wrap;\n",
              "      gap: 12px;\n",
              "    }\n",
              "\n",
              "    .colab-df-convert {\n",
              "      background-color: #E8F0FE;\n",
              "      border: none;\n",
              "      border-radius: 50%;\n",
              "      cursor: pointer;\n",
              "      display: none;\n",
              "      fill: #1967D2;\n",
              "      height: 32px;\n",
              "      padding: 0 0 0 0;\n",
              "      width: 32px;\n",
              "    }\n",
              "\n",
              "    .colab-df-convert:hover {\n",
              "      background-color: #E2EBFA;\n",
              "      box-shadow: 0px 1px 2px rgba(60, 64, 67, 0.3), 0px 1px 3px 1px rgba(60, 64, 67, 0.15);\n",
              "      fill: #174EA6;\n",
              "    }\n",
              "\n",
              "    [theme=dark] .colab-df-convert {\n",
              "      background-color: #3B4455;\n",
              "      fill: #D2E3FC;\n",
              "    }\n",
              "\n",
              "    [theme=dark] .colab-df-convert:hover {\n",
              "      background-color: #434B5C;\n",
              "      box-shadow: 0px 1px 3px 1px rgba(0, 0, 0, 0.15);\n",
              "      filter: drop-shadow(0px 1px 2px rgba(0, 0, 0, 0.3));\n",
              "      fill: #FFFFFF;\n",
              "    }\n",
              "  </style>\n",
              "\n",
              "      <script>\n",
              "        const buttonEl =\n",
              "          document.querySelector('#df-4fc4578b-8ce6-46ee-a40b-079317d77841 button.colab-df-convert');\n",
              "        buttonEl.style.display =\n",
              "          google.colab.kernel.accessAllowed ? 'block' : 'none';\n",
              "\n",
              "        async function convertToInteractive(key) {\n",
              "          const element = document.querySelector('#df-4fc4578b-8ce6-46ee-a40b-079317d77841');\n",
              "          const dataTable =\n",
              "            await google.colab.kernel.invokeFunction('convertToInteractive',\n",
              "                                                     [key], {});\n",
              "          if (!dataTable) return;\n",
              "\n",
              "          const docLinkHtml = 'Like what you see? Visit the ' +\n",
              "            '<a target=\"_blank\" href=https://colab.research.google.com/notebooks/data_table.ipynb>data table notebook</a>'\n",
              "            + ' to learn more about interactive tables.';\n",
              "          element.innerHTML = '';\n",
              "          dataTable['output_type'] = 'display_data';\n",
              "          await google.colab.output.renderOutput(dataTable, element);\n",
              "          const docLink = document.createElement('div');\n",
              "          docLink.innerHTML = docLinkHtml;\n",
              "          element.appendChild(docLink);\n",
              "        }\n",
              "      </script>\n",
              "    </div>\n",
              "  </div>\n",
              "  "
            ],
            "text/plain": [
              "      Id  A1   A2  A3  A4   A5    A6     A7  A8  Class\n",
              "0      1   6  148  72  35    0  33.6  0.627  50      1\n",
              "1      2   1   85  66  29    0  26.6  0.351  31      0\n",
              "2      3   8  183  64   0    0  23.3  0.672  32      1\n",
              "3      4   1   89  66  23   94  28.1  0.167  21      0\n",
              "4      5   0  137  40  35  168  43.1  2.288  33      1\n",
              "..   ...  ..  ...  ..  ..  ...   ...    ...  ..    ...\n",
              "663  664   9  145  80  46  130  37.9  0.637  40      1\n",
              "664  665   6  115  60  39    0  33.7  0.245  40      1\n",
              "665  666   1  112  80  45  132  34.8  0.217  24      0\n",
              "666  667   4  145  82  18    0  32.5  0.235  70      1\n",
              "667  668  10  111  70  27    0  27.5  0.141  40      1\n",
              "\n",
              "[668 rows x 10 columns]"
            ]
          },
          "metadata": {},
          "execution_count": 4
        }
      ]
    },
    {
      "cell_type": "code",
      "source": [
        "sns.countplot(x=data['Class'])"
      ],
      "metadata": {
        "colab": {
          "base_uri": "https://localhost:8080/",
          "height": 296
        },
        "id": "QGNqXyygZc7t",
        "outputId": "1b53afce-6d84-4faf-8ed3-9367a06a8cde"
      },
      "execution_count": 5,
      "outputs": [
        {
          "output_type": "execute_result",
          "data": {
            "text/plain": [
              "<matplotlib.axes._subplots.AxesSubplot at 0x7fae2cc56850>"
            ]
          },
          "metadata": {},
          "execution_count": 5
        },
        {
          "output_type": "display_data",
          "data": {
            "image/png": "[encoded data removed]",
            "text/plain": [
              "<Figure size 432x288 with 1 Axes>"
            ]
          },
          "metadata": {
            "needs_background": "light"
          }
        }
      ]
    },
    {
      "cell_type": "markdown",
      "source": [
        "# **Splitting the datase**"
      ],
      "metadata": {
        "id": "VoI1GR7OZbci"
      }
    },
    {
      "cell_type": "code",
      "source": [
        "# Extracting labels\n",
        "y = data['Class']\n",
        "y = pd.Series(y)\n",
        "print(y.value_counts())\n",
        "\n",
        "# Removing unnecessary columns in the bove data\n",
        "X = data.drop(['Id', 'Class'], axis=1)\n",
        "print(X.info())\n",
        "X.head()"
      ],
      "metadata": {
        "colab": {
          "base_uri": "https://localhost:8080/",
          "height": 536
        },
        "id": "jVwTlQb_bFVT",
        "outputId": "f1f9dcc1-bcce-43c7-9c8d-302a70fa1eaa"
      },
      "execution_count": 24,
      "outputs": [
        {
          "output_type": "stream",
          "name": "stdout",
          "text": [
            "0    437\n",
            "1    231\n",
            "Name: Class, dtype: int64\n",
            "<class 'pandas.core.frame.DataFrame'>\n",
            "RangeIndex: 668 entries, 0 to 667\n",
            "Data columns (total 8 columns):\n",
            " #   Column  Non-Null Count  Dtype  \n",
            "---  ------  --------------  -----  \n",
            " 0   A1      668 non-null    int64  \n",
            " 1   A2      668 non-null    int64  \n",
            " 2   A3      668 non-null    int64  \n",
            " 3   A4      668 non-null    int64  \n",
            " 4   A5      668 non-null    int64  \n",
            " 5   A6      668 non-null    float64\n",
            " 6   A7      668 non-null    float64\n",
            " 7   A8      668 non-null    int64  \n",
            "dtypes: float64(2), int64(6)\n",
            "memory usage: 41.9 KB\n",
            "None\n"
          ]
        },
        {
          "output_type": "execute_result",
          "data": {
            "text/html": [
              "\n",
              "  <div id=\"df-f15c4060-639d-4417-8bfc-c6d85ffb0e1f\">\n",
              "    <div class=\"colab-df-container\">\n",
              "      <div>\n",
              "<style scoped>\n",
              "    .dataframe tbody tr th:only-of-type {\n",
              "        vertical-align: middle;\n",
              "    }\n",
              "\n",
              "    .dataframe tbody tr th {\n",
              "        vertical-align: top;\n",
              "    }\n",
              "\n",
              "    .dataframe thead th {\n",
              "        text-align: right;\n",
              "    }\n",
              "</style>\n",
              "<table border=\"1\" class=\"dataframe\">\n",
              "  <thead>\n",
              "    <tr style=\"text-align: right;\">\n",
              "      <th></th>\n",
              "      <th>A1</th>\n",
              "      <th>A2</th>\n",
              "      <th>A3</th>\n",
              "      <th>A4</th>\n",
              "      <th>A5</th>\n",
              "      <th>A6</th>\n",
              "      <th>A7</th>\n",
              "      <th>A8</th>\n",
              "    </tr>\n",
              "  </thead>\n",
              "  <tbody>\n",
              "    <tr>\n",
              "      <th>0</th>\n",
              "      <td>6</td>\n",
              "      <td>148</td>\n",
              "      <td>72</td>\n",
              "      <td>35</td>\n",
              "      <td>0</td>\n",
              "      <td>33.6</td>\n",
              "      <td>0.627</td>\n",
              "      <td>50</td>\n",
              "    </tr>\n",
              "    <tr>\n",
              "      <th>1</th>\n",
              "      <td>1</td>\n",
              "      <td>85</td>\n",
              "      <td>66</td>\n",
              "      <td>29</td>\n",
              "      <td>0</td>\n",
              "      <td>26.6</td>\n",
              "      <td>0.351</td>\n",
              "      <td>31</td>\n",
              "    </tr>\n",
              "    <tr>\n",
              "      <th>2</th>\n",
              "      <td>8</td>\n",
              "      <td>183</td>\n",
              "      <td>64</td>\n",
              "      <td>0</td>\n",
              "      <td>0</td>\n",
              "      <td>23.3</td>\n",
              "      <td>0.672</td>\n",
              "      <td>32</td>\n",
              "    </tr>\n",
              "    <tr>\n",
              "      <th>3</th>\n",
              "      <td>1</td>\n",
              "      <td>89</td>\n",
              "      <td>66</td>\n",
              "      <td>23</td>\n",
              "      <td>94</td>\n",
              "      <td>28.1</td>\n",
              "      <td>0.167</td>\n",
              "      <td>21</td>\n",
              "    </tr>\n",
              "    <tr>\n",
              "      <th>4</th>\n",
              "      <td>0</td>\n",
              "      <td>137</td>\n",
              "      <td>40</td>\n",
              "      <td>35</td>\n",
              "      <td>168</td>\n",
              "      <td>43.1</td>\n",
              "      <td>2.288</td>\n",
              "      <td>33</td>\n",
              "    </tr>\n",
              "  </tbody>\n",
              "</table>\n",
              "</div>\n",
              "      <button class=\"colab-df-convert\" onclick=\"convertToInteractive('df-f15c4060-639d-4417-8bfc-c6d85ffb0e1f')\"\n",
              "              title=\"Convert this dataframe to an interactive table.\"\n",
              "              style=\"display:none;\">\n",
              "        \n",
              "  <svg xmlns=\"http://www.w3.org/2000/svg\" height=\"24px\"viewBox=\"0 0 24 24\"\n",
              "       width=\"24px\">\n",
              "    <path d=\"M0 0h24v24H0V0z\" fill=\"none\"/>\n",
              "    <path d=\"M18.56 5.44l.94 2.06.94-2.06 2.06-.94-2.06-.94-.94-2.06-.94 2.06-2.06.94zm-11 1L8.5 8.5l.94-2.06 2.06-.94-2.06-.94L8.5 2.5l-.94 2.06-2.06.94zm10 10l.94 2.06.94-2.06 2.06-.94-2.06-.94-.94-2.06-.94 2.06-2.06.94z\"/><path d=\"M17.41 7.96l-1.37-1.37c-.4-.4-.92-.59-1.43-.59-.52 0-1.04.2-1.43.59L10.3 9.45l-7.72 7.72c-.78.78-.78 2.05 0 2.83L4 21.41c.39.39.9.59 1.41.59.51 0 1.02-.2 1.41-.59l7.78-7.78 2.81-2.81c.8-.78.8-2.07 0-2.86zM5.41 20L4 18.59l7.72-7.72 1.47 1.35L5.41 20z\"/>\n",
              "  </svg>\n",
              "      </button>\n",
              "      \n",
              "  <style>\n",
              "    .colab-df-container {\n",
              "      display:flex;\n",
              "      flex-wrap:wrap;\n",
              "      gap: 12px;\n",
              "    }\n",
              "\n",
              "    .colab-df-convert {\n",
              "      background-color: #E8F0FE;\n",
              "      border: none;\n",
              "      border-radius: 50%;\n",
              "      cursor: pointer;\n",
              "      display: none;\n",
              "      fill: #1967D2;\n",
              "      height: 32px;\n",
              "      padding: 0 0 0 0;\n",
              "      width: 32px;\n",
              "    }\n",
              "\n",
              "    .colab-df-convert:hover {\n",
              "      background-color: #E2EBFA;\n",
              "      box-shadow: 0px 1px 2px rgba(60, 64, 67, 0.3), 0px 1px 3px 1px rgba(60, 64, 67, 0.15);\n",
              "      fill: #174EA6;\n",
              "    }\n",
              "\n",
              "    [theme=dark] .colab-df-convert {\n",
              "      background-color: #3B4455;\n",
              "      fill: #D2E3FC;\n",
              "    }\n",
              "\n",
              "    [theme=dark] .colab-df-convert:hover {\n",
              "      background-color: #434B5C;\n",
              "      box-shadow: 0px 1px 3px 1px rgba(0, 0, 0, 0.15);\n",
              "      filter: drop-shadow(0px 1px 2px rgba(0, 0, 0, 0.3));\n",
              "      fill: #FFFFFF;\n",
              "    }\n",
              "  </style>\n",
              "\n",
              "      <script>\n",
              "        const buttonEl =\n",
              "          document.querySelector('#df-f15c4060-639d-4417-8bfc-c6d85ffb0e1f button.colab-df-convert');\n",
              "        buttonEl.style.display =\n",
              "          google.colab.kernel.accessAllowed ? 'block' : 'none';\n",
              "\n",
              "        async function convertToInteractive(key) {\n",
              "          const element = document.querySelector('#df-f15c4060-639d-4417-8bfc-c6d85ffb0e1f');\n",
              "          const dataTable =\n",
              "            await google.colab.kernel.invokeFunction('convertToInteractive',\n",
              "                                                     [key], {});\n",
              "          if (!dataTable) return;\n",
              "\n",
              "          const docLinkHtml = 'Like what you see? Visit the ' +\n",
              "            '<a target=\"_blank\" href=https://colab.research.google.com/notebooks/data_table.ipynb>data table notebook</a>'\n",
              "            + ' to learn more about interactive tables.';\n",
              "          element.innerHTML = '';\n",
              "          dataTable['output_type'] = 'display_data';\n",
              "          await google.colab.output.renderOutput(dataTable, element);\n",
              "          const docLink = document.createElement('div');\n",
              "          docLink.innerHTML = docLinkHtml;\n",
              "          element.appendChild(docLink);\n",
              "        }\n",
              "      </script>\n",
              "    </div>\n",
              "  </div>\n",
              "  "
            ],
            "text/plain": [
              "   A1   A2  A3  A4   A5    A6     A7  A8\n",
              "0   6  148  72  35    0  33.6  0.627  50\n",
              "1   1   85  66  29    0  26.6  0.351  31\n",
              "2   8  183  64   0    0  23.3  0.672  32\n",
              "3   1   89  66  23   94  28.1  0.167  21\n",
              "4   0  137  40  35  168  43.1  2.288  33"
            ]
          },
          "metadata": {},
          "execution_count": 24
        }
      ]
    },
    {
      "cell_type": "code",
      "source": [
        "# Spliting data into train and validation sets\n",
        "X_train1, X_val1, y_train1, y_val1 = train_test_split(X, y, test_size=0.3, random_state=100)\n",
        "print(f'training data set size: {len(X_train1)}')\n",
        "print(f'validation data set size: {len(X_val1)}')"
      ],
      "metadata": {
        "id": "riQywpRcbcqH",
        "colab": {
          "base_uri": "https://localhost:8080/"
        },
        "outputId": "28d52f1c-5bf4-4d82-830c-a37fa8b1a478"
      },
      "execution_count": 25,
      "outputs": [
        {
          "output_type": "stream",
          "name": "stdout",
          "text": [
            "training data set size: 467\n",
            "validation data set size: 201\n"
          ]
        }
      ]
    },
    {
      "cell_type": "markdown",
      "source": [
        "# Build the Model "
      ],
      "metadata": {
        "id": "cGHb2kYVakl5"
      }
    },
    {
      "cell_type": "code",
      "source": [
        "# define the keras model \n",
        "model1 = Sequential()\n",
        "model1.add(Dense(units=64, input_dim=8, activation='relu'))\n",
        "model1.add(Dense(units=32, activation='relu'))\n",
        "#model1.add(Dense(units=80, activation='relu'))\n",
        "model1.add(Dense(1, activation='sigmoid'))\n",
        "\n",
        "model1.summary()"
      ],
      "metadata": {
        "id": "pFZDAuWDbhfo",
        "colab": {
          "base_uri": "https://localhost:8080/"
        },
        "outputId": "aecdab22-e25e-4be5-e3b4-0be7129183b4"
      },
      "execution_count": 26,
      "outputs": [
        {
          "output_type": "stream",
          "name": "stdout",
          "text": [
            "Model: \"sequential_1\"\n",
            "_________________________________________________________________\n",
            " Layer (type)                Output Shape              Param #   \n",
            "=================================================================\n",
            " dense_3 (Dense)             (None, 64)                576       \n",
            "                                                                 \n",
            " dense_4 (Dense)             (None, 32)                2080      \n",
            "                                                                 \n",
            " dense_5 (Dense)             (None, 1)                 33        \n",
            "                                                                 \n",
            "=================================================================\n",
            "Total params: 2,689\n",
            "Trainable params: 2,689\n",
            "Non-trainable params: 0\n",
            "_________________________________________________________________\n"
          ]
        }
      ]
    },
    {
      "cell_type": "code",
      "source": [
        "# compile the keras model\n",
        "import tensorflow as tf\n",
        "# create an optimiser object and set the learning rate\n",
        "opt = tf.keras.optimizers.Adam(learning_rate=0.01)\n"
      ],
      "metadata": {
        "id": "c7qzW6BpbjhA"
      },
      "execution_count": 9,
      "outputs": []
    },
    {
      "cell_type": "code",
      "source": [
        "# Compile the model with the optimiser object\n",
        "model1.compile(loss='binary_crossentropy', optimizer=opt, metrics=['accuracy'])"
      ],
      "metadata": {
        "id": "Jqd_boQum6jt"
      },
      "execution_count": 10,
      "outputs": []
    },
    {
      "cell_type": "code",
      "source": [
        "# train model\n",
        "history = model1.fit(X_train1, y_train1, batch_size=10, epochs=60, validation_data=(X_val1, y_val1))\n",
        "\n"
      ],
      "metadata": {
        "id": "9SvBvzI8blby",
        "colab": {
          "base_uri": "https://localhost:8080/"
        },
        "outputId": "72b71cf3-c343-44c5-8612-798ce2ef0c0a"
      },
      "execution_count": 11,
      "outputs": [
        {
          "output_type": "stream",
          "name": "stdout",
          "text": [
            "Epoch 1/60\n",
            "47/47 [==============================] - 1s 9ms/step - loss: 2.8426 - accuracy: 0.5867 - val_loss: 0.8877 - val_accuracy: 0.6318\n",
            "Epoch 2/60\n",
            "47/47 [==============================] - 0s 4ms/step - loss: 0.8245 - accuracy: 0.6338 - val_loss: 0.6633 - val_accuracy: 0.6866\n",
            "Epoch 3/60\n",
            "47/47 [==============================] - 0s 5ms/step - loss: 0.7886 - accuracy: 0.6317 - val_loss: 0.7077 - val_accuracy: 0.6766\n",
            "Epoch 4/60\n",
            "47/47 [==============================] - 0s 5ms/step - loss: 0.6516 - accuracy: 0.6724 - val_loss: 0.6495 - val_accuracy: 0.6766\n",
            "Epoch 5/60\n",
            "47/47 [==============================] - 0s 5ms/step - loss: 0.6364 - accuracy: 0.6617 - val_loss: 0.6410 - val_accuracy: 0.6617\n",
            "Epoch 6/60\n",
            "47/47 [==============================] - 0s 5ms/step - loss: 0.6198 - accuracy: 0.6681 - val_loss: 0.6180 - val_accuracy: 0.6866\n",
            "Epoch 7/60\n",
            "47/47 [==============================] - 0s 10ms/step - loss: 0.5998 - accuracy: 0.6874 - val_loss: 0.6025 - val_accuracy: 0.6866\n",
            "Epoch 8/60\n",
            "47/47 [==============================] - 0s 4ms/step - loss: 0.6091 - accuracy: 0.6595 - val_loss: 0.6248 - val_accuracy: 0.6866\n",
            "Epoch 9/60\n",
            "47/47 [==============================] - 0s 4ms/step - loss: 0.5873 - accuracy: 0.6767 - val_loss: 0.6787 - val_accuracy: 0.6716\n",
            "Epoch 10/60\n",
            "47/47 [==============================] - 0s 4ms/step - loss: 0.5837 - accuracy: 0.6874 - val_loss: 0.6345 - val_accuracy: 0.6716\n",
            "Epoch 11/60\n",
            "47/47 [==============================] - 0s 5ms/step - loss: 0.6044 - accuracy: 0.6681 - val_loss: 0.6100 - val_accuracy: 0.6766\n",
            "Epoch 12/60\n",
            "47/47 [==============================] - 0s 4ms/step - loss: 0.5987 - accuracy: 0.6767 - val_loss: 0.6157 - val_accuracy: 0.7114\n",
            "Epoch 13/60\n",
            "47/47 [==============================] - 0s 5ms/step - loss: 0.5762 - accuracy: 0.6831 - val_loss: 0.5932 - val_accuracy: 0.6965\n",
            "Epoch 14/60\n",
            "47/47 [==============================] - 0s 5ms/step - loss: 0.5834 - accuracy: 0.6981 - val_loss: 0.6320 - val_accuracy: 0.7214\n",
            "Epoch 15/60\n",
            "47/47 [==============================] - 0s 4ms/step - loss: 0.5713 - accuracy: 0.6874 - val_loss: 0.5995 - val_accuracy: 0.7264\n",
            "Epoch 16/60\n",
            "47/47 [==============================] - 0s 5ms/step - loss: 0.5730 - accuracy: 0.7002 - val_loss: 0.5902 - val_accuracy: 0.6866\n",
            "Epoch 17/60\n",
            "47/47 [==============================] - 0s 4ms/step - loss: 0.6317 - accuracy: 0.6552 - val_loss: 0.6578 - val_accuracy: 0.6716\n",
            "Epoch 18/60\n",
            "47/47 [==============================] - 0s 4ms/step - loss: 0.5892 - accuracy: 0.6809 - val_loss: 0.6157 - val_accuracy: 0.7065\n",
            "Epoch 19/60\n",
            "47/47 [==============================] - 0s 4ms/step - loss: 0.5862 - accuracy: 0.6852 - val_loss: 0.6648 - val_accuracy: 0.6915\n",
            "Epoch 20/60\n",
            "47/47 [==============================] - 0s 4ms/step - loss: 0.5786 - accuracy: 0.6788 - val_loss: 0.6409 - val_accuracy: 0.6667\n",
            "Epoch 21/60\n",
            "47/47 [==============================] - 0s 4ms/step - loss: 0.5820 - accuracy: 0.6874 - val_loss: 0.6323 - val_accuracy: 0.7065\n",
            "Epoch 22/60\n",
            "47/47 [==============================] - 0s 5ms/step - loss: 0.5898 - accuracy: 0.6938 - val_loss: 0.6134 - val_accuracy: 0.7214\n",
            "Epoch 23/60\n",
            "47/47 [==============================] - 0s 4ms/step - loss: 0.5891 - accuracy: 0.6788 - val_loss: 0.5895 - val_accuracy: 0.6965\n",
            "Epoch 24/60\n",
            "47/47 [==============================] - 0s 4ms/step - loss: 0.5818 - accuracy: 0.6874 - val_loss: 0.6196 - val_accuracy: 0.6965\n",
            "Epoch 25/60\n",
            "47/47 [==============================] - 0s 5ms/step - loss: 0.5765 - accuracy: 0.6852 - val_loss: 0.6241 - val_accuracy: 0.6716\n",
            "Epoch 26/60\n",
            "47/47 [==============================] - 0s 4ms/step - loss: 0.5777 - accuracy: 0.6959 - val_loss: 0.6044 - val_accuracy: 0.6965\n",
            "Epoch 27/60\n",
            "47/47 [==============================] - 0s 4ms/step - loss: 0.5725 - accuracy: 0.6938 - val_loss: 0.6014 - val_accuracy: 0.7413\n",
            "Epoch 28/60\n",
            "47/47 [==============================] - 0s 5ms/step - loss: 0.5721 - accuracy: 0.7045 - val_loss: 0.5990 - val_accuracy: 0.6965\n",
            "Epoch 29/60\n",
            "47/47 [==============================] - 0s 4ms/step - loss: 0.5822 - accuracy: 0.6702 - val_loss: 0.6406 - val_accuracy: 0.6716\n",
            "Epoch 30/60\n",
            "47/47 [==============================] - 0s 4ms/step - loss: 0.5771 - accuracy: 0.6767 - val_loss: 0.6201 - val_accuracy: 0.6716\n",
            "Epoch 31/60\n",
            "47/47 [==============================] - 0s 5ms/step - loss: 0.6003 - accuracy: 0.6702 - val_loss: 0.6231 - val_accuracy: 0.6716\n",
            "Epoch 32/60\n",
            "47/47 [==============================] - 0s 4ms/step - loss: 0.5820 - accuracy: 0.6916 - val_loss: 0.6277 - val_accuracy: 0.6915\n",
            "Epoch 33/60\n",
            "47/47 [==============================] - 0s 4ms/step - loss: 0.5859 - accuracy: 0.6767 - val_loss: 0.6173 - val_accuracy: 0.7015\n",
            "Epoch 34/60\n",
            "47/47 [==============================] - 0s 4ms/step - loss: 0.5808 - accuracy: 0.6874 - val_loss: 0.6107 - val_accuracy: 0.6915\n",
            "Epoch 35/60\n",
            "47/47 [==============================] - 0s 5ms/step - loss: 0.5733 - accuracy: 0.6874 - val_loss: 0.6333 - val_accuracy: 0.6866\n",
            "Epoch 36/60\n",
            "47/47 [==============================] - 0s 4ms/step - loss: 0.5838 - accuracy: 0.6959 - val_loss: 0.6067 - val_accuracy: 0.7015\n",
            "Epoch 37/60\n",
            "47/47 [==============================] - 0s 4ms/step - loss: 0.5668 - accuracy: 0.7024 - val_loss: 0.6208 - val_accuracy: 0.7065\n",
            "Epoch 38/60\n",
            "47/47 [==============================] - 0s 5ms/step - loss: 0.5640 - accuracy: 0.6916 - val_loss: 0.6054 - val_accuracy: 0.6915\n",
            "Epoch 39/60\n",
            "47/47 [==============================] - 0s 5ms/step - loss: 0.5863 - accuracy: 0.6745 - val_loss: 0.6234 - val_accuracy: 0.6965\n",
            "Epoch 40/60\n",
            "47/47 [==============================] - 0s 4ms/step - loss: 0.5632 - accuracy: 0.7002 - val_loss: 0.6547 - val_accuracy: 0.6368\n",
            "Epoch 41/60\n",
            "47/47 [==============================] - 0s 4ms/step - loss: 0.5731 - accuracy: 0.6831 - val_loss: 0.6232 - val_accuracy: 0.6567\n",
            "Epoch 42/60\n",
            "47/47 [==============================] - 0s 4ms/step - loss: 0.5832 - accuracy: 0.6809 - val_loss: 0.6360 - val_accuracy: 0.6965\n",
            "Epoch 43/60\n",
            "47/47 [==============================] - 0s 4ms/step - loss: 0.5924 - accuracy: 0.6745 - val_loss: 0.6532 - val_accuracy: 0.6965\n",
            "Epoch 44/60\n",
            "47/47 [==============================] - 0s 4ms/step - loss: 0.5665 - accuracy: 0.6959 - val_loss: 0.6148 - val_accuracy: 0.6866\n",
            "Epoch 45/60\n",
            "47/47 [==============================] - 0s 4ms/step - loss: 0.5827 - accuracy: 0.6788 - val_loss: 0.6086 - val_accuracy: 0.6816\n",
            "Epoch 46/60\n",
            "47/47 [==============================] - 0s 5ms/step - loss: 0.5689 - accuracy: 0.6809 - val_loss: 0.6491 - val_accuracy: 0.6766\n",
            "Epoch 47/60\n",
            "47/47 [==============================] - 0s 5ms/step - loss: 0.5882 - accuracy: 0.6852 - val_loss: 0.6297 - val_accuracy: 0.6965\n",
            "Epoch 48/60\n",
            "47/47 [==============================] - 0s 5ms/step - loss: 0.5887 - accuracy: 0.6531 - val_loss: 0.6792 - val_accuracy: 0.6567\n",
            "Epoch 49/60\n",
            "47/47 [==============================] - 0s 4ms/step - loss: 0.5789 - accuracy: 0.6831 - val_loss: 0.6160 - val_accuracy: 0.6965\n",
            "Epoch 50/60\n",
            "47/47 [==============================] - 0s 4ms/step - loss: 0.5750 - accuracy: 0.6959 - val_loss: 0.6867 - val_accuracy: 0.6965\n",
            "Epoch 51/60\n",
            "47/47 [==============================] - 0s 5ms/step - loss: 0.5670 - accuracy: 0.6809 - val_loss: 0.6558 - val_accuracy: 0.7065\n",
            "Epoch 52/60\n",
            "47/47 [==============================] - 0s 4ms/step - loss: 0.5768 - accuracy: 0.6831 - val_loss: 0.6116 - val_accuracy: 0.6965\n",
            "Epoch 53/60\n",
            "47/47 [==============================] - 0s 4ms/step - loss: 0.5821 - accuracy: 0.6874 - val_loss: 0.6598 - val_accuracy: 0.6915\n",
            "Epoch 54/60\n",
            "47/47 [==============================] - 0s 4ms/step - loss: 0.5779 - accuracy: 0.6809 - val_loss: 0.6348 - val_accuracy: 0.6965\n",
            "Epoch 55/60\n",
            "47/47 [==============================] - 0s 4ms/step - loss: 0.5668 - accuracy: 0.6809 - val_loss: 0.6395 - val_accuracy: 0.6915\n",
            "Epoch 56/60\n",
            "47/47 [==============================] - 0s 4ms/step - loss: 0.5671 - accuracy: 0.6874 - val_loss: 0.6577 - val_accuracy: 0.6617\n",
            "Epoch 57/60\n",
            "47/47 [==============================] - 0s 5ms/step - loss: 0.5660 - accuracy: 0.6895 - val_loss: 0.6588 - val_accuracy: 0.6816\n",
            "Epoch 58/60\n",
            "47/47 [==============================] - 0s 4ms/step - loss: 0.5737 - accuracy: 0.6916 - val_loss: 0.6450 - val_accuracy: 0.6816\n",
            "Epoch 59/60\n",
            "47/47 [==============================] - 0s 4ms/step - loss: 0.5506 - accuracy: 0.6874 - val_loss: 0.6268 - val_accuracy: 0.6965\n",
            "Epoch 60/60\n",
            "47/47 [==============================] - 0s 4ms/step - loss: 0.5561 - accuracy: 0.6938 - val_loss: 0.6349 - val_accuracy: 0.6965\n"
          ]
        }
      ]
    },
    {
      "cell_type": "markdown",
      "source": [
        "# Plotting the Graph"
      ],
      "metadata": {
        "id": "yJxaXih1bZNp"
      }
    },
    {
      "cell_type": "code",
      "source": [
        "# A complete history for accuracy\n",
        "plt.plot(history.history['accuracy'])\n",
        "plt.plot(history.history['val_accuracy'])\n",
        "plt.title('model accuracy')\n",
        "plt.ylabel('accuracy')\n",
        "plt.xlabel('epoch')\n",
        "plt.legend(['train','test'], loc='upper left')\n",
        "plt.show()\n",
        "\n",
        "# A complete the history for loss\n",
        "plt.plot(history.history['loss'])\n",
        "plt.plot(history.history['val_loss'])\n",
        "plt.title('model loss')\n",
        "plt.ylabel('loss')\n",
        "plt.xlabel('epoch')\n",
        "plt.legend(['train','test'], loc='upper left')\n",
        "plt.show()"
      ],
      "metadata": {
        "id": "SO68BqpIcPjF",
        "colab": {
          "base_uri": "https://localhost:8080/",
          "height": 573
        },
        "outputId": "b4acf726-0fae-48a5-9047-9329cd0e2543"
      },
      "execution_count": 27,
      "outputs": [
        {
          "output_type": "display_data",
          "data": {
            "image/png": "[encoded data removed]",
            "text/plain": [
              "<Figure size 432x288 with 1 Axes>"
            ]
          },
          "metadata": {
            "needs_background": "light"
          }
        },
        {
          "output_type": "display_data",
          "data": {
            "image/png": "[encoded data removed]",
            "text/plain": [
              "<Figure size 432x288 with 1 Axes>"
            ]
          },
          "metadata": {
            "needs_background": "light"
          }
        }
      ]
    },
    {
      "cell_type": "markdown",
      "source": [
        "# Validating the Model"
      ],
      "metadata": {
        "id": "5cEVL2iAbsAD"
      }
    },
    {
      "cell_type": "code",
      "source": [
        "# Getting model predictions\n",
        "y_pred1 = model1.predict(X_val1)\n",
        "print(y_pred1[:10])"
      ],
      "metadata": {
        "id": "XOSR5y1Bfg9C",
        "colab": {
          "base_uri": "https://localhost:8080/"
        },
        "outputId": "bbdf181c-365b-40ff-9edc-277c10651714"
      },
      "execution_count": 28,
      "outputs": [
        {
          "output_type": "stream",
          "name": "stdout",
          "text": [
            "[[9.9724495e-01]\n",
            " [9.6397875e-05]\n",
            " [8.6465180e-03]\n",
            " [9.9998498e-01]\n",
            " [3.3757031e-02]\n",
            " [9.9998617e-01]\n",
            " [1.5067336e-01]\n",
            " [9.3969834e-01]\n",
            " [3.5099089e-03]\n",
            " [9.9509275e-01]]\n"
          ]
        }
      ]
    },
    {
      "cell_type": "code",
      "source": [
        "# Making a categorical predictions\n",
        "y_pred_categorical1 = [1 if pred > 0.5 else 0 for pred in y_pred1]\n",
        "print(y_pred_categorical1[:10])"
      ],
      "metadata": {
        "id": "EnxOOzECfn5t",
        "colab": {
          "base_uri": "https://localhost:8080/"
        },
        "outputId": "5324946d-0776-4e57-bef4-b329c6d2c0c0"
      },
      "execution_count": 29,
      "outputs": [
        {
          "output_type": "stream",
          "name": "stdout",
          "text": [
            "[1, 0, 0, 1, 0, 1, 0, 1, 0, 1]\n"
          ]
        }
      ]
    },
    {
      "cell_type": "code",
      "source": [
        "# Getting accuracy\n",
        "accuracy = metrics.accuracy_score(y_val1, y_pred_categorical1)\n",
        "print(f'Accuracy: {accuracy}')"
      ],
      "metadata": {
        "id": "jCz-3PCefqWv",
        "colab": {
          "base_uri": "https://localhost:8080/"
        },
        "outputId": "619c4495-be2a-4fb2-94d1-55b65ff08bd0"
      },
      "execution_count": 30,
      "outputs": [
        {
          "output_type": "stream",
          "name": "stdout",
          "text": [
            "Accuracy: 0.4228855721393035\n"
          ]
        }
      ]
    },
    {
      "cell_type": "markdown",
      "source": [
        "# Doing Test Prediction"
      ],
      "metadata": {
        "id": "sstU92V2cFVT"
      }
    },
    {
      "cell_type": "code",
      "source": [
        "df_test = pd.read_csv('/content/test.csv')\n",
        "df_test\n"
      ],
      "metadata": {
        "id": "da3MVvcagDq1",
        "colab": {
          "base_uri": "https://localhost:8080/",
          "height": 424
        },
        "outputId": "8541f5d8-9752-4282-f60a-5e9bcf7c1f1e"
      },
      "execution_count": 16,
      "outputs": [
        {
          "output_type": "execute_result",
          "data": {
            "text/html": [
              "\n",
              "  <div id=\"df-3e15addc-6beb-40ad-8181-f04a7e416132\">\n",
              "    <div class=\"colab-df-container\">\n",
              "      <div>\n",
              "<style scoped>\n",
              "    .dataframe tbody tr th:only-of-type {\n",
              "        vertical-align: middle;\n",
              "    }\n",
              "\n",
              "    .dataframe tbody tr th {\n",
              "        vertical-align: top;\n",
              "    }\n",
              "\n",
              "    .dataframe thead th {\n",
              "        text-align: right;\n",
              "    }\n",
              "</style>\n",
              "<table border=\"1\" class=\"dataframe\">\n",
              "  <thead>\n",
              "    <tr style=\"text-align: right;\">\n",
              "      <th></th>\n",
              "      <th>Id</th>\n",
              "      <th>A1</th>\n",
              "      <th>A2</th>\n",
              "      <th>A3</th>\n",
              "      <th>A4</th>\n",
              "      <th>A5</th>\n",
              "      <th>A6</th>\n",
              "      <th>A7</th>\n",
              "      <th>A8</th>\n",
              "    </tr>\n",
              "  </thead>\n",
              "  <tbody>\n",
              "    <tr>\n",
              "      <th>0</th>\n",
              "      <td>1</td>\n",
              "      <td>6</td>\n",
              "      <td>98</td>\n",
              "      <td>58</td>\n",
              "      <td>33</td>\n",
              "      <td>190</td>\n",
              "      <td>34.0</td>\n",
              "      <td>0.430</td>\n",
              "      <td>43</td>\n",
              "    </tr>\n",
              "    <tr>\n",
              "      <th>1</th>\n",
              "      <td>2</td>\n",
              "      <td>9</td>\n",
              "      <td>154</td>\n",
              "      <td>78</td>\n",
              "      <td>30</td>\n",
              "      <td>100</td>\n",
              "      <td>30.9</td>\n",
              "      <td>0.164</td>\n",
              "      <td>45</td>\n",
              "    </tr>\n",
              "    <tr>\n",
              "      <th>2</th>\n",
              "      <td>3</td>\n",
              "      <td>6</td>\n",
              "      <td>165</td>\n",
              "      <td>68</td>\n",
              "      <td>26</td>\n",
              "      <td>168</td>\n",
              "      <td>33.6</td>\n",
              "      <td>0.631</td>\n",
              "      <td>49</td>\n",
              "    </tr>\n",
              "    <tr>\n",
              "      <th>3</th>\n",
              "      <td>4</td>\n",
              "      <td>1</td>\n",
              "      <td>99</td>\n",
              "      <td>58</td>\n",
              "      <td>10</td>\n",
              "      <td>0</td>\n",
              "      <td>25.4</td>\n",
              "      <td>0.551</td>\n",
              "      <td>21</td>\n",
              "    </tr>\n",
              "    <tr>\n",
              "      <th>4</th>\n",
              "      <td>5</td>\n",
              "      <td>10</td>\n",
              "      <td>68</td>\n",
              "      <td>106</td>\n",
              "      <td>23</td>\n",
              "      <td>49</td>\n",
              "      <td>35.5</td>\n",
              "      <td>0.285</td>\n",
              "      <td>47</td>\n",
              "    </tr>\n",
              "    <tr>\n",
              "      <th>...</th>\n",
              "      <td>...</td>\n",
              "      <td>...</td>\n",
              "      <td>...</td>\n",
              "      <td>...</td>\n",
              "      <td>...</td>\n",
              "      <td>...</td>\n",
              "      <td>...</td>\n",
              "      <td>...</td>\n",
              "      <td>...</td>\n",
              "    </tr>\n",
              "    <tr>\n",
              "      <th>95</th>\n",
              "      <td>96</td>\n",
              "      <td>10</td>\n",
              "      <td>101</td>\n",
              "      <td>76</td>\n",
              "      <td>48</td>\n",
              "      <td>180</td>\n",
              "      <td>32.9</td>\n",
              "      <td>0.171</td>\n",
              "      <td>63</td>\n",
              "    </tr>\n",
              "    <tr>\n",
              "      <th>96</th>\n",
              "      <td>97</td>\n",
              "      <td>2</td>\n",
              "      <td>122</td>\n",
              "      <td>70</td>\n",
              "      <td>27</td>\n",
              "      <td>0</td>\n",
              "      <td>36.8</td>\n",
              "      <td>0.340</td>\n",
              "      <td>27</td>\n",
              "    </tr>\n",
              "    <tr>\n",
              "      <th>97</th>\n",
              "      <td>98</td>\n",
              "      <td>5</td>\n",
              "      <td>121</td>\n",
              "      <td>72</td>\n",
              "      <td>23</td>\n",
              "      <td>112</td>\n",
              "      <td>26.2</td>\n",
              "      <td>0.245</td>\n",
              "      <td>30</td>\n",
              "    </tr>\n",
              "    <tr>\n",
              "      <th>98</th>\n",
              "      <td>99</td>\n",
              "      <td>1</td>\n",
              "      <td>126</td>\n",
              "      <td>60</td>\n",
              "      <td>0</td>\n",
              "      <td>0</td>\n",
              "      <td>30.1</td>\n",
              "      <td>0.349</td>\n",
              "      <td>47</td>\n",
              "    </tr>\n",
              "    <tr>\n",
              "      <th>99</th>\n",
              "      <td>100</td>\n",
              "      <td>1</td>\n",
              "      <td>93</td>\n",
              "      <td>70</td>\n",
              "      <td>31</td>\n",
              "      <td>0</td>\n",
              "      <td>30.4</td>\n",
              "      <td>0.315</td>\n",
              "      <td>23</td>\n",
              "    </tr>\n",
              "  </tbody>\n",
              "</table>\n",
              "<p>100 rows × 9 columns</p>\n",
              "</div>\n",
              "      <button class=\"colab-df-convert\" onclick=\"convertToInteractive('df-3e15addc-6beb-40ad-8181-f04a7e416132')\"\n",
              "              title=\"Convert this dataframe to an interactive table.\"\n",
              "              style=\"display:none;\">\n",
              "        \n",
              "  <svg xmlns=\"http://www.w3.org/2000/svg\" height=\"24px\"viewBox=\"0 0 24 24\"\n",
              "       width=\"24px\">\n",
              "    <path d=\"M0 0h24v24H0V0z\" fill=\"none\"/>\n",
              "    <path d=\"M18.56 5.44l.94 2.06.94-2.06 2.06-.94-2.06-.94-.94-2.06-.94 2.06-2.06.94zm-11 1L8.5 8.5l.94-2.06 2.06-.94-2.06-.94L8.5 2.5l-.94 2.06-2.06.94zm10 10l.94 2.06.94-2.06 2.06-.94-2.06-.94-.94-2.06-.94 2.06-2.06.94z\"/><path d=\"M17.41 7.96l-1.37-1.37c-.4-.4-.92-.59-1.43-.59-.52 0-1.04.2-1.43.59L10.3 9.45l-7.72 7.72c-.78.78-.78 2.05 0 2.83L4 21.41c.39.39.9.59 1.41.59.51 0 1.02-.2 1.41-.59l7.78-7.78 2.81-2.81c.8-.78.8-2.07 0-2.86zM5.41 20L4 18.59l7.72-7.72 1.47 1.35L5.41 20z\"/>\n",
              "  </svg>\n",
              "      </button>\n",
              "      \n",
              "  <style>\n",
              "    .colab-df-container {\n",
              "      display:flex;\n",
              "      flex-wrap:wrap;\n",
              "      gap: 12px;\n",
              "    }\n",
              "\n",
              "    .colab-df-convert {\n",
              "      background-color: #E8F0FE;\n",
              "      border: none;\n",
              "      border-radius: 50%;\n",
              "      cursor: pointer;\n",
              "      display: none;\n",
              "      fill: #1967D2;\n",
              "      height: 32px;\n",
              "      padding: 0 0 0 0;\n",
              "      width: 32px;\n",
              "    }\n",
              "\n",
              "    .colab-df-convert:hover {\n",
              "      background-color: #E2EBFA;\n",
              "      box-shadow: 0px 1px 2px rgba(60, 64, 67, 0.3), 0px 1px 3px 1px rgba(60, 64, 67, 0.15);\n",
              "      fill: #174EA6;\n",
              "    }\n",
              "\n",
              "    [theme=dark] .colab-df-convert {\n",
              "      background-color: #3B4455;\n",
              "      fill: #D2E3FC;\n",
              "    }\n",
              "\n",
              "    [theme=dark] .colab-df-convert:hover {\n",
              "      background-color: #434B5C;\n",
              "      box-shadow: 0px 1px 3px 1px rgba(0, 0, 0, 0.15);\n",
              "      filter: drop-shadow(0px 1px 2px rgba(0, 0, 0, 0.3));\n",
              "      fill: #FFFFFF;\n",
              "    }\n",
              "  </style>\n",
              "\n",
              "      <script>\n",
              "        const buttonEl =\n",
              "          document.querySelector('#df-3e15addc-6beb-40ad-8181-f04a7e416132 button.colab-df-convert');\n",
              "        buttonEl.style.display =\n",
              "          google.colab.kernel.accessAllowed ? 'block' : 'none';\n",
              "\n",
              "        async function convertToInteractive(key) {\n",
              "          const element = document.querySelector('#df-3e15addc-6beb-40ad-8181-f04a7e416132');\n",
              "          const dataTable =\n",
              "            await google.colab.kernel.invokeFunction('convertToInteractive',\n",
              "                                                     [key], {});\n",
              "          if (!dataTable) return;\n",
              "\n",
              "          const docLinkHtml = 'Like what you see? Visit the ' +\n",
              "            '<a target=\"_blank\" href=https://colab.research.google.com/notebooks/data_table.ipynb>data table notebook</a>'\n",
              "            + ' to learn more about interactive tables.';\n",
              "          element.innerHTML = '';\n",
              "          dataTable['output_type'] = 'display_data';\n",
              "          await google.colab.output.renderOutput(dataTable, element);\n",
              "          const docLink = document.createElement('div');\n",
              "          docLink.innerHTML = docLinkHtml;\n",
              "          element.appendChild(docLink);\n",
              "        }\n",
              "      </script>\n",
              "    </div>\n",
              "  </div>\n",
              "  "
            ],
            "text/plain": [
              "     Id  A1   A2   A3  A4   A5    A6     A7  A8\n",
              "0     1   6   98   58  33  190  34.0  0.430  43\n",
              "1     2   9  154   78  30  100  30.9  0.164  45\n",
              "2     3   6  165   68  26  168  33.6  0.631  49\n",
              "3     4   1   99   58  10    0  25.4  0.551  21\n",
              "4     5  10   68  106  23   49  35.5  0.285  47\n",
              "..  ...  ..  ...  ...  ..  ...   ...    ...  ..\n",
              "95   96  10  101   76  48  180  32.9  0.171  63\n",
              "96   97   2  122   70  27    0  36.8  0.340  27\n",
              "97   98   5  121   72  23  112  26.2  0.245  30\n",
              "98   99   1  126   60   0    0  30.1  0.349  47\n",
              "99  100   1   93   70  31    0  30.4  0.315  23\n",
              "\n",
              "[100 rows x 9 columns]"
            ]
          },
          "metadata": {},
          "execution_count": 16
        }
      ]
    },
    {
      "cell_type": "code",
      "source": [
        "# summarise the details\n",
        "print(f'Number of entries: {len(df_test)}')\n",
        "\n",
        "X_test = df_test.drop(['Id'], axis=1)\n",
        "print(X_test.info())"
      ],
      "metadata": {
        "id": "CyfJVdWZgRZb",
        "colab": {
          "base_uri": "https://localhost:8080/"
        },
        "outputId": "b397ab86-27c7-4488-bc7c-b13c81d5cd55"
      },
      "execution_count": 17,
      "outputs": [
        {
          "output_type": "stream",
          "name": "stdout",
          "text": [
            "Number of entries: 100\n",
            "<class 'pandas.core.frame.DataFrame'>\n",
            "RangeIndex: 100 entries, 0 to 99\n",
            "Data columns (total 8 columns):\n",
            " #   Column  Non-Null Count  Dtype  \n",
            "---  ------  --------------  -----  \n",
            " 0   A1      100 non-null    int64  \n",
            " 1   A2      100 non-null    int64  \n",
            " 2   A3      100 non-null    int64  \n",
            " 3   A4      100 non-null    int64  \n",
            " 4   A5      100 non-null    int64  \n",
            " 5   A6      100 non-null    float64\n",
            " 6   A7      100 non-null    float64\n",
            " 7   A8      100 non-null    int64  \n",
            "dtypes: float64(2), int64(6)\n",
            "memory usage: 6.4 KB\n",
            "None\n"
          ]
        }
      ]
    },
    {
      "cell_type": "code",
      "source": [
        "# create LabelEncoder for labels \n",
        "predictions = model1.predict(X_test)\n",
        "print(predictions)\n",
        "\n",
        "final_predictions = [1 if pred > 0.5 else 0 for pred in predictions]\n",
        "print(final_predictions)\n"
      ],
      "metadata": {
        "id": "ucYp7h2GgX2T",
        "colab": {
          "base_uri": "https://localhost:8080/"
        },
        "outputId": "456a6831-f193-463b-e08f-538c327c6291"
      },
      "execution_count": 18,
      "outputs": [
        {
          "output_type": "stream",
          "name": "stdout",
          "text": [
            "[[4.18850213e-01]\n",
            " [2.95450985e-01]\n",
            " [4.18850213e-01]\n",
            " [3.37561399e-01]\n",
            " [1.04870200e-02]\n",
            " [4.18850213e-01]\n",
            " [5.60939312e-04]\n",
            " [8.02598238e-01]\n",
            " [2.36278862e-01]\n",
            " [4.18850213e-01]\n",
            " [5.74370146e-01]\n",
            " [4.18850213e-01]\n",
            " [7.89381862e-02]\n",
            " [5.13442695e-01]\n",
            " [4.18850213e-01]\n",
            " [4.18850213e-01]\n",
            " [5.88077091e-05]\n",
            " [4.18850213e-01]\n",
            " [5.21301508e-01]\n",
            " [4.38480586e-01]\n",
            " [4.18850213e-01]\n",
            " [4.18850213e-01]\n",
            " [2.68192947e-01]\n",
            " [3.37871522e-01]\n",
            " [3.88597488e-01]\n",
            " [4.18850213e-01]\n",
            " [2.73915529e-01]\n",
            " [4.18850213e-01]\n",
            " [4.18850213e-01]\n",
            " [7.06113875e-01]\n",
            " [4.18850213e-01]\n",
            " [5.29166937e-01]\n",
            " [4.18850213e-01]\n",
            " [3.48218977e-01]\n",
            " [4.44932193e-01]\n",
            " [1.44678801e-01]\n",
            " [2.36391813e-01]\n",
            " [1.07676834e-01]\n",
            " [2.41283979e-05]\n",
            " [4.18850213e-01]\n",
            " [5.59488297e-01]\n",
            " [4.18850213e-01]\n",
            " [4.18850213e-01]\n",
            " [2.69775331e-01]\n",
            " [5.38411379e-01]\n",
            " [4.18850213e-01]\n",
            " [2.42074072e-01]\n",
            " [4.18850213e-01]\n",
            " [4.18850213e-01]\n",
            " [3.11701447e-01]\n",
            " [4.18850213e-01]\n",
            " [2.77560830e-01]\n",
            " [5.50504029e-02]\n",
            " [4.18850213e-01]\n",
            " [4.18850213e-01]\n",
            " [1.69484675e-01]\n",
            " [1.21242851e-01]\n",
            " [2.80905724e-01]\n",
            " [4.18850213e-01]\n",
            " [2.49360055e-01]\n",
            " [5.58604658e-01]\n",
            " [4.41365629e-01]\n",
            " [1.35755360e-01]\n",
            " [3.42509866e-01]\n",
            " [4.18850213e-01]\n",
            " [4.18850213e-01]\n",
            " [1.70514375e-01]\n",
            " [3.50184888e-01]\n",
            " [2.89306462e-01]\n",
            " [1.74082905e-01]\n",
            " [4.18850213e-01]\n",
            " [3.01327169e-01]\n",
            " [4.18850213e-01]\n",
            " [4.18850213e-01]\n",
            " [4.18850213e-01]\n",
            " [3.43273103e-01]\n",
            " [4.18850213e-01]\n",
            " [1.83831930e-01]\n",
            " [2.88561761e-01]\n",
            " [1.30869657e-01]\n",
            " [4.18850213e-01]\n",
            " [1.74538672e-01]\n",
            " [5.89792311e-01]\n",
            " [1.42182708e-01]\n",
            " [3.33990127e-01]\n",
            " [4.18850213e-01]\n",
            " [5.11180460e-01]\n",
            " [1.85168296e-01]\n",
            " [2.70396650e-01]\n",
            " [3.58143419e-01]\n",
            " [3.57781798e-01]\n",
            " [3.79018843e-01]\n",
            " [2.70696402e-01]\n",
            " [6.04279101e-01]\n",
            " [2.59223074e-01]\n",
            " [4.18850213e-01]\n",
            " [3.79321724e-01]\n",
            " [4.18850213e-01]\n",
            " [4.53043610e-01]\n",
            " [1.58155531e-01]]\n",
            "[0, 0, 0, 0, 0, 0, 0, 1, 0, 0, 1, 0, 0, 1, 0, 0, 0, 0, 1, 0, 0, 0, 0, 0, 0, 0, 0, 0, 0, 1, 0, 1, 0, 0, 0, 0, 0, 0, 0, 0, 1, 0, 0, 0, 1, 0, 0, 0, 0, 0, 0, 0, 0, 0, 0, 0, 0, 0, 0, 0, 1, 0, 0, 0, 0, 0, 0, 0, 0, 0, 0, 0, 0, 0, 0, 0, 0, 0, 0, 0, 0, 0, 1, 0, 0, 0, 1, 0, 0, 0, 0, 0, 0, 1, 0, 0, 0, 0, 0, 0]\n"
          ]
        }
      ]
    },
    {
      "cell_type": "code",
      "source": [
        "df_submission = pd.DataFrame(df_test['Id'])\n",
        "df_submission['Class'] = final_predictions"
      ],
      "metadata": {
        "id": "CpXHjcf1p4x_"
      },
      "execution_count": 19,
      "outputs": []
    },
    {
      "cell_type": "code",
      "source": [
        "df_submission.to_csv('/content/test-predictions.csv', index=False)"
      ],
      "metadata": {
        "id": "41GqlnyRqzD7"
      },
      "execution_count": 20,
      "outputs": []
    },
    {
      "cell_type": "code",
      "source": [
        "Test_pred=pd.read_csv('/content/test-predictions.csv')\n",
        "Test_pred"
      ],
      "metadata": {
        "id": "KLNBMmdmrNcS",
        "colab": {
          "base_uri": "https://localhost:8080/",
          "height": 424
        },
        "outputId": "816c8689-5490-4222-d763-209f768d4296"
      },
      "execution_count": 21,
      "outputs": [
        {
          "output_type": "execute_result",
          "data": {
            "text/html": [
              "\n",
              "  <div id=\"df-115620bf-65a7-4e23-bb50-c1f418bb8c05\">\n",
              "    <div class=\"colab-df-container\">\n",
              "      <div>\n",
              "<style scoped>\n",
              "    .dataframe tbody tr th:only-of-type {\n",
              "        vertical-align: middle;\n",
              "    }\n",
              "\n",
              "    .dataframe tbody tr th {\n",
              "        vertical-align: top;\n",
              "    }\n",
              "\n",
              "    .dataframe thead th {\n",
              "        text-align: right;\n",
              "    }\n",
              "</style>\n",
              "<table border=\"1\" class=\"dataframe\">\n",
              "  <thead>\n",
              "    <tr style=\"text-align: right;\">\n",
              "      <th></th>\n",
              "      <th>Id</th>\n",
              "      <th>Class</th>\n",
              "    </tr>\n",
              "  </thead>\n",
              "  <tbody>\n",
              "    <tr>\n",
              "      <th>0</th>\n",
              "      <td>1</td>\n",
              "      <td>0</td>\n",
              "    </tr>\n",
              "    <tr>\n",
              "      <th>1</th>\n",
              "      <td>2</td>\n",
              "      <td>0</td>\n",
              "    </tr>\n",
              "    <tr>\n",
              "      <th>2</th>\n",
              "      <td>3</td>\n",
              "      <td>0</td>\n",
              "    </tr>\n",
              "    <tr>\n",
              "      <th>3</th>\n",
              "      <td>4</td>\n",
              "      <td>0</td>\n",
              "    </tr>\n",
              "    <tr>\n",
              "      <th>4</th>\n",
              "      <td>5</td>\n",
              "      <td>0</td>\n",
              "    </tr>\n",
              "    <tr>\n",
              "      <th>...</th>\n",
              "      <td>...</td>\n",
              "      <td>...</td>\n",
              "    </tr>\n",
              "    <tr>\n",
              "      <th>95</th>\n",
              "      <td>96</td>\n",
              "      <td>0</td>\n",
              "    </tr>\n",
              "    <tr>\n",
              "      <th>96</th>\n",
              "      <td>97</td>\n",
              "      <td>0</td>\n",
              "    </tr>\n",
              "    <tr>\n",
              "      <th>97</th>\n",
              "      <td>98</td>\n",
              "      <td>0</td>\n",
              "    </tr>\n",
              "    <tr>\n",
              "      <th>98</th>\n",
              "      <td>99</td>\n",
              "      <td>0</td>\n",
              "    </tr>\n",
              "    <tr>\n",
              "      <th>99</th>\n",
              "      <td>100</td>\n",
              "      <td>0</td>\n",
              "    </tr>\n",
              "  </tbody>\n",
              "</table>\n",
              "<p>100 rows × 2 columns</p>\n",
              "</div>\n",
              "      <button class=\"colab-df-convert\" onclick=\"convertToInteractive('df-115620bf-65a7-4e23-bb50-c1f418bb8c05')\"\n",
              "              title=\"Convert this dataframe to an interactive table.\"\n",
              "              style=\"display:none;\">\n",
              "        \n",
              "  <svg xmlns=\"http://www.w3.org/2000/svg\" height=\"24px\"viewBox=\"0 0 24 24\"\n",
              "       width=\"24px\">\n",
              "    <path d=\"M0 0h24v24H0V0z\" fill=\"none\"/>\n",
              "    <path d=\"M18.56 5.44l.94 2.06.94-2.06 2.06-.94-2.06-.94-.94-2.06-.94 2.06-2.06.94zm-11 1L8.5 8.5l.94-2.06 2.06-.94-2.06-.94L8.5 2.5l-.94 2.06-2.06.94zm10 10l.94 2.06.94-2.06 2.06-.94-2.06-.94-.94-2.06-.94 2.06-2.06.94z\"/><path d=\"M17.41 7.96l-1.37-1.37c-.4-.4-.92-.59-1.43-.59-.52 0-1.04.2-1.43.59L10.3 9.45l-7.72 7.72c-.78.78-.78 2.05 0 2.83L4 21.41c.39.39.9.59 1.41.59.51 0 1.02-.2 1.41-.59l7.78-7.78 2.81-2.81c.8-.78.8-2.07 0-2.86zM5.41 20L4 18.59l7.72-7.72 1.47 1.35L5.41 20z\"/>\n",
              "  </svg>\n",
              "      </button>\n",
              "      \n",
              "  <style>\n",
              "    .colab-df-container {\n",
              "      display:flex;\n",
              "      flex-wrap:wrap;\n",
              "      gap: 12px;\n",
              "    }\n",
              "\n",
              "    .colab-df-convert {\n",
              "      background-color: #E8F0FE;\n",
              "      border: none;\n",
              "      border-radius: 50%;\n",
              "      cursor: pointer;\n",
              "      display: none;\n",
              "      fill: #1967D2;\n",
              "      height: 32px;\n",
              "      padding: 0 0 0 0;\n",
              "      width: 32px;\n",
              "    }\n",
              "\n",
              "    .colab-df-convert:hover {\n",
              "      background-color: #E2EBFA;\n",
              "      box-shadow: 0px 1px 2px rgba(60, 64, 67, 0.3), 0px 1px 3px 1px rgba(60, 64, 67, 0.15);\n",
              "      fill: #174EA6;\n",
              "    }\n",
              "\n",
              "    [theme=dark] .colab-df-convert {\n",
              "      background-color: #3B4455;\n",
              "      fill: #D2E3FC;\n",
              "    }\n",
              "\n",
              "    [theme=dark] .colab-df-convert:hover {\n",
              "      background-color: #434B5C;\n",
              "      box-shadow: 0px 1px 3px 1px rgba(0, 0, 0, 0.15);\n",
              "      filter: drop-shadow(0px 1px 2px rgba(0, 0, 0, 0.3));\n",
              "      fill: #FFFFFF;\n",
              "    }\n",
              "  </style>\n",
              "\n",
              "      <script>\n",
              "        const buttonEl =\n",
              "          document.querySelector('#df-115620bf-65a7-4e23-bb50-c1f418bb8c05 button.colab-df-convert');\n",
              "        buttonEl.style.display =\n",
              "          google.colab.kernel.accessAllowed ? 'block' : 'none';\n",
              "\n",
              "        async function convertToInteractive(key) {\n",
              "          const element = document.querySelector('#df-115620bf-65a7-4e23-bb50-c1f418bb8c05');\n",
              "          const dataTable =\n",
              "            await google.colab.kernel.invokeFunction('convertToInteractive',\n",
              "                                                     [key], {});\n",
              "          if (!dataTable) return;\n",
              "\n",
              "          const docLinkHtml = 'Like what you see? Visit the ' +\n",
              "            '<a target=\"_blank\" href=https://colab.research.google.com/notebooks/data_table.ipynb>data table notebook</a>'\n",
              "            + ' to learn more about interactive tables.';\n",
              "          element.innerHTML = '';\n",
              "          dataTable['output_type'] = 'display_data';\n",
              "          await google.colab.output.renderOutput(dataTable, element);\n",
              "          const docLink = document.createElement('div');\n",
              "          docLink.innerHTML = docLinkHtml;\n",
              "          element.appendChild(docLink);\n",
              "        }\n",
              "      </script>\n",
              "    </div>\n",
              "  </div>\n",
              "  "
            ],
            "text/plain": [
              "     Id  Class\n",
              "0     1      0\n",
              "1     2      0\n",
              "2     3      0\n",
              "3     4      0\n",
              "4     5      0\n",
              "..  ...    ...\n",
              "95   96      0\n",
              "96   97      0\n",
              "97   98      0\n",
              "98   99      0\n",
              "99  100      0\n",
              "\n",
              "[100 rows x 2 columns]"
            ]
          },
          "metadata": {},
          "execution_count": 21
        }
      ]
    },
    {
      "cell_type": "code",
      "source": [
        "# Summarise class details\n",
        "sns.countplot(x=Test_pred['Class'])"
      ],
      "metadata": {
        "colab": {
          "base_uri": "https://localhost:8080/",
          "height": 296
        },
        "id": "HHnse9aIc-78",
        "outputId": "d91c3945-7f35-44d4-bd24-d5187ded19be"
      },
      "execution_count": 22,
      "outputs": [
        {
          "output_type": "execute_result",
          "data": {
            "text/plain": [
              "<matplotlib.axes._subplots.AxesSubplot at 0x7fae293a2cd0>"
            ]
          },
          "metadata": {},
          "execution_count": 22
        },
        {
          "output_type": "display_data",
          "data": {
            "image/png": "[encoded data removed]",
            "text/plain": [
              "<Figure size 432x288 with 1 Axes>"
            ]
          },
          "metadata": {
            "needs_background": "light"
          }
        }
      ]
    },
    {
      "cell_type": "code",
      "source": [
        "Test_pred[\"Class\"].value_counts().plot(kind =\"pie\", autopct='%1.1f%%', figsize=(7,7));"
      ],
      "metadata": {
        "colab": {
          "base_uri": "https://localhost:8080/",
          "height": 411
        },
        "id": "LxCvOZl7dB1Q",
        "outputId": "7a8110b9-0219-49e0-ea20-74f4e1da951a"
      },
      "execution_count": 23,
      "outputs": [
        {
          "output_type": "display_data",
          "data": {
            "image/png": "[encoded data removed]",
            "text/plain": [
              "<Figure size 504x504 with 1 Axes>"
            ]
          },
          "metadata": {}
        }
      ]
    }
  ]
}